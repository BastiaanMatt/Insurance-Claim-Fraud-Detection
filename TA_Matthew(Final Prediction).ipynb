{
 "cells": [
  {
   "cell_type": "markdown",
   "metadata": {
    "id": "MIf-TbxISoq8"
   },
   "source": [
    "# **Import Libraries**"
   ]
  },
  {
   "cell_type": "code",
   "execution_count": 204,
   "metadata": {
    "id": "jK4gqpG0Nao8"
   },
   "outputs": [],
   "source": [
    "import pandas as pd\n",
    "import numpy as np\n",
    "#for data exploration\n",
    "import seaborn as sns\n",
    "import plotly.express as px\n",
    "import plotly.graph_objects as go\n",
    "#feature selection \n",
    "from scipy import stats\n",
    "from sklearn.feature_selection import chi2\n"
   ]
  },
  {
   "cell_type": "markdown",
   "metadata": {
    "id": "J5AZVoyn9V9j"
   },
   "source": [
    "**Dataset**"
   ]
  },
  {
   "cell_type": "code",
   "execution_count": 205,
   "metadata": {
    "colab": {
     "base_uri": "https://localhost:8080/",
     "height": 300
    },
    "id": "GH63vocVSoNW",
    "outputId": "dfd9ea7b-f6b0-40ce-9fd0-74527f40c829"
   },
   "outputs": [
    {
     "data": {
      "text/html": [
       "<div>\n",
       "<style scoped>\n",
       "    .dataframe tbody tr th:only-of-type {\n",
       "        vertical-align: middle;\n",
       "    }\n",
       "\n",
       "    .dataframe tbody tr th {\n",
       "        vertical-align: top;\n",
       "    }\n",
       "\n",
       "    .dataframe thead th {\n",
       "        text-align: right;\n",
       "    }\n",
       "</style>\n",
       "<table border=\"1\" class=\"dataframe\">\n",
       "  <thead>\n",
       "    <tr style=\"text-align: right;\">\n",
       "      <th></th>\n",
       "      <th>months_as_customer</th>\n",
       "      <th>age</th>\n",
       "      <th>policy_number</th>\n",
       "      <th>policy_bind_date</th>\n",
       "      <th>policy_state</th>\n",
       "      <th>policy_csl</th>\n",
       "      <th>policy_deductable</th>\n",
       "      <th>policy_annual_premium</th>\n",
       "      <th>umbrella_limit</th>\n",
       "      <th>insured_zip</th>\n",
       "      <th>...</th>\n",
       "      <th>witnesses</th>\n",
       "      <th>police_report_available</th>\n",
       "      <th>total_claim_amount</th>\n",
       "      <th>injury_claim</th>\n",
       "      <th>property_claim</th>\n",
       "      <th>vehicle_claim</th>\n",
       "      <th>auto_make</th>\n",
       "      <th>auto_model</th>\n",
       "      <th>auto_year</th>\n",
       "      <th>fraud_reported</th>\n",
       "    </tr>\n",
       "  </thead>\n",
       "  <tbody>\n",
       "    <tr>\n",
       "      <th>0</th>\n",
       "      <td>328</td>\n",
       "      <td>48</td>\n",
       "      <td>521585</td>\n",
       "      <td>10/17/2014</td>\n",
       "      <td>OH</td>\n",
       "      <td>250/500</td>\n",
       "      <td>1000</td>\n",
       "      <td>1406.91</td>\n",
       "      <td>0</td>\n",
       "      <td>466132</td>\n",
       "      <td>...</td>\n",
       "      <td>2</td>\n",
       "      <td>YES</td>\n",
       "      <td>71610</td>\n",
       "      <td>6510</td>\n",
       "      <td>13020</td>\n",
       "      <td>52080</td>\n",
       "      <td>Saab</td>\n",
       "      <td>92x</td>\n",
       "      <td>2004</td>\n",
       "      <td>Y</td>\n",
       "    </tr>\n",
       "    <tr>\n",
       "      <th>1</th>\n",
       "      <td>228</td>\n",
       "      <td>42</td>\n",
       "      <td>342868</td>\n",
       "      <td>6/27/2006</td>\n",
       "      <td>IN</td>\n",
       "      <td>250/500</td>\n",
       "      <td>2000</td>\n",
       "      <td>1197.22</td>\n",
       "      <td>5000000</td>\n",
       "      <td>468176</td>\n",
       "      <td>...</td>\n",
       "      <td>0</td>\n",
       "      <td>?</td>\n",
       "      <td>5070</td>\n",
       "      <td>780</td>\n",
       "      <td>780</td>\n",
       "      <td>3510</td>\n",
       "      <td>Mercedes</td>\n",
       "      <td>E400</td>\n",
       "      <td>2007</td>\n",
       "      <td>Y</td>\n",
       "    </tr>\n",
       "    <tr>\n",
       "      <th>2</th>\n",
       "      <td>134</td>\n",
       "      <td>29</td>\n",
       "      <td>687698</td>\n",
       "      <td>9/6/2000</td>\n",
       "      <td>OH</td>\n",
       "      <td>100/300</td>\n",
       "      <td>2000</td>\n",
       "      <td>1413.14</td>\n",
       "      <td>5000000</td>\n",
       "      <td>430632</td>\n",
       "      <td>...</td>\n",
       "      <td>3</td>\n",
       "      <td>NO</td>\n",
       "      <td>34650</td>\n",
       "      <td>7700</td>\n",
       "      <td>3850</td>\n",
       "      <td>23100</td>\n",
       "      <td>Dodge</td>\n",
       "      <td>RAM</td>\n",
       "      <td>2007</td>\n",
       "      <td>N</td>\n",
       "    </tr>\n",
       "    <tr>\n",
       "      <th>3</th>\n",
       "      <td>256</td>\n",
       "      <td>41</td>\n",
       "      <td>227811</td>\n",
       "      <td>5/25/1990</td>\n",
       "      <td>IL</td>\n",
       "      <td>250/500</td>\n",
       "      <td>2000</td>\n",
       "      <td>1415.74</td>\n",
       "      <td>6000000</td>\n",
       "      <td>608117</td>\n",
       "      <td>...</td>\n",
       "      <td>2</td>\n",
       "      <td>NO</td>\n",
       "      <td>63400</td>\n",
       "      <td>6340</td>\n",
       "      <td>6340</td>\n",
       "      <td>50720</td>\n",
       "      <td>Chevrolet</td>\n",
       "      <td>Tahoe</td>\n",
       "      <td>2014</td>\n",
       "      <td>Y</td>\n",
       "    </tr>\n",
       "    <tr>\n",
       "      <th>4</th>\n",
       "      <td>228</td>\n",
       "      <td>44</td>\n",
       "      <td>367455</td>\n",
       "      <td>6/6/2014</td>\n",
       "      <td>IL</td>\n",
       "      <td>500/1000</td>\n",
       "      <td>1000</td>\n",
       "      <td>1583.91</td>\n",
       "      <td>6000000</td>\n",
       "      <td>610706</td>\n",
       "      <td>...</td>\n",
       "      <td>1</td>\n",
       "      <td>NO</td>\n",
       "      <td>6500</td>\n",
       "      <td>1300</td>\n",
       "      <td>650</td>\n",
       "      <td>4550</td>\n",
       "      <td>Accura</td>\n",
       "      <td>RSX</td>\n",
       "      <td>2009</td>\n",
       "      <td>N</td>\n",
       "    </tr>\n",
       "  </tbody>\n",
       "</table>\n",
       "<p>5 rows × 39 columns</p>\n",
       "</div>"
      ],
      "text/plain": [
       "   months_as_customer  age  policy_number policy_bind_date policy_state  \\\n",
       "0                 328   48         521585       10/17/2014           OH   \n",
       "1                 228   42         342868        6/27/2006           IN   \n",
       "2                 134   29         687698         9/6/2000           OH   \n",
       "3                 256   41         227811        5/25/1990           IL   \n",
       "4                 228   44         367455         6/6/2014           IL   \n",
       "\n",
       "  policy_csl  policy_deductable  policy_annual_premium  umbrella_limit  \\\n",
       "0    250/500               1000                1406.91               0   \n",
       "1    250/500               2000                1197.22         5000000   \n",
       "2    100/300               2000                1413.14         5000000   \n",
       "3    250/500               2000                1415.74         6000000   \n",
       "4   500/1000               1000                1583.91         6000000   \n",
       "\n",
       "   insured_zip  ... witnesses police_report_available total_claim_amount  \\\n",
       "0       466132  ...         2                     YES              71610   \n",
       "1       468176  ...         0                       ?               5070   \n",
       "2       430632  ...         3                      NO              34650   \n",
       "3       608117  ...         2                      NO              63400   \n",
       "4       610706  ...         1                      NO               6500   \n",
       "\n",
       "  injury_claim property_claim  vehicle_claim  auto_make auto_model auto_year  \\\n",
       "0         6510          13020          52080       Saab        92x      2004   \n",
       "1          780            780           3510   Mercedes       E400      2007   \n",
       "2         7700           3850          23100      Dodge        RAM      2007   \n",
       "3         6340           6340          50720  Chevrolet      Tahoe      2014   \n",
       "4         1300            650           4550     Accura        RSX      2009   \n",
       "\n",
       "  fraud_reported  \n",
       "0              Y  \n",
       "1              Y  \n",
       "2              N  \n",
       "3              Y  \n",
       "4              N  \n",
       "\n",
       "[5 rows x 39 columns]"
      ]
     },
     "execution_count": 205,
     "metadata": {},
     "output_type": "execute_result"
    }
   ],
   "source": [
    "df = pd.read_csv('insurance_claims.csv')\n",
    "\n",
    "#Convert the column containing date values to a datetime format\n",
    "df['incident_date'] = pd.to_datetime(df['incident_date'])\n",
    "\n",
    "# Filter the data based on a date before February 20, 2021\n",
    "df_model = df[df['incident_date'] <= '2015-02-20']\n",
    "df_actual = df[df['incident_date'] > '2015-02-20']\n",
    "\n",
    "\n",
    "df.head()"
   ]
  },
  {
   "cell_type": "code",
   "execution_count": 206,
   "metadata": {
    "colab": {
     "base_uri": "https://localhost:8080/"
    },
    "id": "1VVDxWya_kRR",
    "outputId": "2669b40d-23d6-4261-97fa-fb0601d7a889"
   },
   "outputs": [
    {
     "data": {
      "text/plain": [
       "(846, 39)"
      ]
     },
     "execution_count": 206,
     "metadata": {},
     "output_type": "execute_result"
    }
   ],
   "source": [
    "df_model.shape"
   ]
  },
  {
   "cell_type": "code",
   "execution_count": 207,
   "metadata": {
    "colab": {
     "base_uri": "https://localhost:8080/"
    },
    "id": "Bwpc2QISH7hE",
    "outputId": "1f5d9892-5e27-4d33-bccd-ae6d523941ff"
   },
   "outputs": [
    {
     "name": "stdout",
     "output_type": "stream",
     "text": [
      "<class 'pandas.core.frame.DataFrame'>\n",
      "RangeIndex: 1000 entries, 0 to 999\n",
      "Data columns (total 39 columns):\n",
      " #   Column                       Non-Null Count  Dtype         \n",
      "---  ------                       --------------  -----         \n",
      " 0   months_as_customer           1000 non-null   int64         \n",
      " 1   age                          1000 non-null   int64         \n",
      " 2   policy_number                1000 non-null   int64         \n",
      " 3   policy_bind_date             1000 non-null   object        \n",
      " 4   policy_state                 1000 non-null   object        \n",
      " 5   policy_csl                   1000 non-null   object        \n",
      " 6   policy_deductable            1000 non-null   int64         \n",
      " 7   policy_annual_premium        1000 non-null   float64       \n",
      " 8   umbrella_limit               1000 non-null   int64         \n",
      " 9   insured_zip                  1000 non-null   int64         \n",
      " 10  insured_sex                  1000 non-null   object        \n",
      " 11  insured_education_level      1000 non-null   object        \n",
      " 12  insured_occupation           1000 non-null   object        \n",
      " 13  insured_hobbies              1000 non-null   object        \n",
      " 14  insured_relationship         1000 non-null   object        \n",
      " 15  capital-gains                1000 non-null   int64         \n",
      " 16  capital-loss                 1000 non-null   int64         \n",
      " 17  incident_date                1000 non-null   datetime64[ns]\n",
      " 18  incident_type                1000 non-null   object        \n",
      " 19  collision_type               1000 non-null   object        \n",
      " 20  incident_severity            1000 non-null   object        \n",
      " 21  authorities_contacted        1000 non-null   object        \n",
      " 22  incident_state               1000 non-null   object        \n",
      " 23  incident_city                1000 non-null   object        \n",
      " 24  incident_location            1000 non-null   object        \n",
      " 25  incident_hour_of_the_day     1000 non-null   int64         \n",
      " 26  number_of_vehicles_involved  1000 non-null   int64         \n",
      " 27  property_damage              1000 non-null   object        \n",
      " 28  bodily_injuries              1000 non-null   int64         \n",
      " 29  witnesses                    1000 non-null   int64         \n",
      " 30  police_report_available      1000 non-null   object        \n",
      " 31  total_claim_amount           1000 non-null   int64         \n",
      " 32  injury_claim                 1000 non-null   int64         \n",
      " 33  property_claim               1000 non-null   int64         \n",
      " 34  vehicle_claim                1000 non-null   int64         \n",
      " 35  auto_make                    1000 non-null   object        \n",
      " 36  auto_model                   1000 non-null   object        \n",
      " 37  auto_year                    1000 non-null   int64         \n",
      " 38  fraud_reported               1000 non-null   object        \n",
      "dtypes: datetime64[ns](1), float64(1), int64(17), object(20)\n",
      "memory usage: 304.8+ KB\n"
     ]
    }
   ],
   "source": [
    "df.info()"
   ]
  },
  {
   "cell_type": "code",
   "execution_count": 208,
   "metadata": {
    "colab": {
     "base_uri": "https://localhost:8080/",
     "height": 382
    },
    "id": "3uO_zIJPT7uH",
    "outputId": "fe74bca5-592e-4462-8134-29deb3b1ec2d"
   },
   "outputs": [
    {
     "data": {
      "text/html": [
       "<div>\n",
       "<style scoped>\n",
       "    .dataframe tbody tr th:only-of-type {\n",
       "        vertical-align: middle;\n",
       "    }\n",
       "\n",
       "    .dataframe tbody tr th {\n",
       "        vertical-align: top;\n",
       "    }\n",
       "\n",
       "    .dataframe thead th {\n",
       "        text-align: right;\n",
       "    }\n",
       "</style>\n",
       "<table border=\"1\" class=\"dataframe\">\n",
       "  <thead>\n",
       "    <tr style=\"text-align: right;\">\n",
       "      <th></th>\n",
       "      <th>months_as_customer</th>\n",
       "      <th>age</th>\n",
       "      <th>policy_number</th>\n",
       "      <th>policy_deductable</th>\n",
       "      <th>policy_annual_premium</th>\n",
       "      <th>umbrella_limit</th>\n",
       "      <th>insured_zip</th>\n",
       "      <th>capital-gains</th>\n",
       "      <th>capital-loss</th>\n",
       "      <th>incident_hour_of_the_day</th>\n",
       "      <th>number_of_vehicles_involved</th>\n",
       "      <th>bodily_injuries</th>\n",
       "      <th>witnesses</th>\n",
       "      <th>total_claim_amount</th>\n",
       "      <th>injury_claim</th>\n",
       "      <th>property_claim</th>\n",
       "      <th>vehicle_claim</th>\n",
       "      <th>auto_year</th>\n",
       "    </tr>\n",
       "  </thead>\n",
       "  <tbody>\n",
       "    <tr>\n",
       "      <th>count</th>\n",
       "      <td>1000.000000</td>\n",
       "      <td>1000.000000</td>\n",
       "      <td>1000.000000</td>\n",
       "      <td>1000.000000</td>\n",
       "      <td>1000.000000</td>\n",
       "      <td>1.000000e+03</td>\n",
       "      <td>1000.000000</td>\n",
       "      <td>1000.000000</td>\n",
       "      <td>1000.000000</td>\n",
       "      <td>1000.000000</td>\n",
       "      <td>1000.00000</td>\n",
       "      <td>1000.000000</td>\n",
       "      <td>1000.000000</td>\n",
       "      <td>1000.00000</td>\n",
       "      <td>1000.000000</td>\n",
       "      <td>1000.000000</td>\n",
       "      <td>1000.000000</td>\n",
       "      <td>1000.000000</td>\n",
       "    </tr>\n",
       "    <tr>\n",
       "      <th>mean</th>\n",
       "      <td>203.954000</td>\n",
       "      <td>38.948000</td>\n",
       "      <td>546238.648000</td>\n",
       "      <td>1136.000000</td>\n",
       "      <td>1256.406150</td>\n",
       "      <td>1.101000e+06</td>\n",
       "      <td>501214.488000</td>\n",
       "      <td>25126.100000</td>\n",
       "      <td>-26793.700000</td>\n",
       "      <td>11.644000</td>\n",
       "      <td>1.83900</td>\n",
       "      <td>0.992000</td>\n",
       "      <td>1.487000</td>\n",
       "      <td>52761.94000</td>\n",
       "      <td>7433.420000</td>\n",
       "      <td>7399.570000</td>\n",
       "      <td>37928.950000</td>\n",
       "      <td>2005.103000</td>\n",
       "    </tr>\n",
       "    <tr>\n",
       "      <th>std</th>\n",
       "      <td>115.113174</td>\n",
       "      <td>9.140287</td>\n",
       "      <td>257063.005276</td>\n",
       "      <td>611.864673</td>\n",
       "      <td>244.167395</td>\n",
       "      <td>2.297407e+06</td>\n",
       "      <td>71701.610941</td>\n",
       "      <td>27872.187708</td>\n",
       "      <td>28104.096686</td>\n",
       "      <td>6.951373</td>\n",
       "      <td>1.01888</td>\n",
       "      <td>0.820127</td>\n",
       "      <td>1.111335</td>\n",
       "      <td>26401.53319</td>\n",
       "      <td>4880.951853</td>\n",
       "      <td>4824.726179</td>\n",
       "      <td>18886.252893</td>\n",
       "      <td>6.015861</td>\n",
       "    </tr>\n",
       "    <tr>\n",
       "      <th>min</th>\n",
       "      <td>0.000000</td>\n",
       "      <td>19.000000</td>\n",
       "      <td>100804.000000</td>\n",
       "      <td>500.000000</td>\n",
       "      <td>433.330000</td>\n",
       "      <td>-1.000000e+06</td>\n",
       "      <td>430104.000000</td>\n",
       "      <td>0.000000</td>\n",
       "      <td>-111100.000000</td>\n",
       "      <td>0.000000</td>\n",
       "      <td>1.00000</td>\n",
       "      <td>0.000000</td>\n",
       "      <td>0.000000</td>\n",
       "      <td>100.00000</td>\n",
       "      <td>0.000000</td>\n",
       "      <td>0.000000</td>\n",
       "      <td>70.000000</td>\n",
       "      <td>1995.000000</td>\n",
       "    </tr>\n",
       "    <tr>\n",
       "      <th>25%</th>\n",
       "      <td>115.750000</td>\n",
       "      <td>32.000000</td>\n",
       "      <td>335980.250000</td>\n",
       "      <td>500.000000</td>\n",
       "      <td>1089.607500</td>\n",
       "      <td>0.000000e+00</td>\n",
       "      <td>448404.500000</td>\n",
       "      <td>0.000000</td>\n",
       "      <td>-51500.000000</td>\n",
       "      <td>6.000000</td>\n",
       "      <td>1.00000</td>\n",
       "      <td>0.000000</td>\n",
       "      <td>1.000000</td>\n",
       "      <td>41812.50000</td>\n",
       "      <td>4295.000000</td>\n",
       "      <td>4445.000000</td>\n",
       "      <td>30292.500000</td>\n",
       "      <td>2000.000000</td>\n",
       "    </tr>\n",
       "    <tr>\n",
       "      <th>50%</th>\n",
       "      <td>199.500000</td>\n",
       "      <td>38.000000</td>\n",
       "      <td>533135.000000</td>\n",
       "      <td>1000.000000</td>\n",
       "      <td>1257.200000</td>\n",
       "      <td>0.000000e+00</td>\n",
       "      <td>466445.500000</td>\n",
       "      <td>0.000000</td>\n",
       "      <td>-23250.000000</td>\n",
       "      <td>12.000000</td>\n",
       "      <td>1.00000</td>\n",
       "      <td>1.000000</td>\n",
       "      <td>1.000000</td>\n",
       "      <td>58055.00000</td>\n",
       "      <td>6775.000000</td>\n",
       "      <td>6750.000000</td>\n",
       "      <td>42100.000000</td>\n",
       "      <td>2005.000000</td>\n",
       "    </tr>\n",
       "    <tr>\n",
       "      <th>75%</th>\n",
       "      <td>276.250000</td>\n",
       "      <td>44.000000</td>\n",
       "      <td>759099.750000</td>\n",
       "      <td>2000.000000</td>\n",
       "      <td>1415.695000</td>\n",
       "      <td>0.000000e+00</td>\n",
       "      <td>603251.000000</td>\n",
       "      <td>51025.000000</td>\n",
       "      <td>0.000000</td>\n",
       "      <td>17.000000</td>\n",
       "      <td>3.00000</td>\n",
       "      <td>2.000000</td>\n",
       "      <td>2.000000</td>\n",
       "      <td>70592.50000</td>\n",
       "      <td>11305.000000</td>\n",
       "      <td>10885.000000</td>\n",
       "      <td>50822.500000</td>\n",
       "      <td>2010.000000</td>\n",
       "    </tr>\n",
       "    <tr>\n",
       "      <th>max</th>\n",
       "      <td>479.000000</td>\n",
       "      <td>64.000000</td>\n",
       "      <td>999435.000000</td>\n",
       "      <td>2000.000000</td>\n",
       "      <td>2047.590000</td>\n",
       "      <td>1.000000e+07</td>\n",
       "      <td>620962.000000</td>\n",
       "      <td>100500.000000</td>\n",
       "      <td>0.000000</td>\n",
       "      <td>23.000000</td>\n",
       "      <td>4.00000</td>\n",
       "      <td>2.000000</td>\n",
       "      <td>3.000000</td>\n",
       "      <td>114920.00000</td>\n",
       "      <td>21450.000000</td>\n",
       "      <td>23670.000000</td>\n",
       "      <td>79560.000000</td>\n",
       "      <td>2015.000000</td>\n",
       "    </tr>\n",
       "  </tbody>\n",
       "</table>\n",
       "</div>"
      ],
      "text/plain": [
       "       months_as_customer          age  policy_number  policy_deductable  \\\n",
       "count         1000.000000  1000.000000    1000.000000        1000.000000   \n",
       "mean           203.954000    38.948000  546238.648000        1136.000000   \n",
       "std            115.113174     9.140287  257063.005276         611.864673   \n",
       "min              0.000000    19.000000  100804.000000         500.000000   \n",
       "25%            115.750000    32.000000  335980.250000         500.000000   \n",
       "50%            199.500000    38.000000  533135.000000        1000.000000   \n",
       "75%            276.250000    44.000000  759099.750000        2000.000000   \n",
       "max            479.000000    64.000000  999435.000000        2000.000000   \n",
       "\n",
       "       policy_annual_premium  umbrella_limit    insured_zip  capital-gains  \\\n",
       "count            1000.000000    1.000000e+03    1000.000000    1000.000000   \n",
       "mean             1256.406150    1.101000e+06  501214.488000   25126.100000   \n",
       "std               244.167395    2.297407e+06   71701.610941   27872.187708   \n",
       "min               433.330000   -1.000000e+06  430104.000000       0.000000   \n",
       "25%              1089.607500    0.000000e+00  448404.500000       0.000000   \n",
       "50%              1257.200000    0.000000e+00  466445.500000       0.000000   \n",
       "75%              1415.695000    0.000000e+00  603251.000000   51025.000000   \n",
       "max              2047.590000    1.000000e+07  620962.000000  100500.000000   \n",
       "\n",
       "        capital-loss  incident_hour_of_the_day  number_of_vehicles_involved  \\\n",
       "count    1000.000000               1000.000000                   1000.00000   \n",
       "mean   -26793.700000                 11.644000                      1.83900   \n",
       "std     28104.096686                  6.951373                      1.01888   \n",
       "min   -111100.000000                  0.000000                      1.00000   \n",
       "25%    -51500.000000                  6.000000                      1.00000   \n",
       "50%    -23250.000000                 12.000000                      1.00000   \n",
       "75%         0.000000                 17.000000                      3.00000   \n",
       "max         0.000000                 23.000000                      4.00000   \n",
       "\n",
       "       bodily_injuries    witnesses  total_claim_amount  injury_claim  \\\n",
       "count      1000.000000  1000.000000          1000.00000   1000.000000   \n",
       "mean          0.992000     1.487000         52761.94000   7433.420000   \n",
       "std           0.820127     1.111335         26401.53319   4880.951853   \n",
       "min           0.000000     0.000000           100.00000      0.000000   \n",
       "25%           0.000000     1.000000         41812.50000   4295.000000   \n",
       "50%           1.000000     1.000000         58055.00000   6775.000000   \n",
       "75%           2.000000     2.000000         70592.50000  11305.000000   \n",
       "max           2.000000     3.000000        114920.00000  21450.000000   \n",
       "\n",
       "       property_claim  vehicle_claim    auto_year  \n",
       "count     1000.000000    1000.000000  1000.000000  \n",
       "mean      7399.570000   37928.950000  2005.103000  \n",
       "std       4824.726179   18886.252893     6.015861  \n",
       "min          0.000000      70.000000  1995.000000  \n",
       "25%       4445.000000   30292.500000  2000.000000  \n",
       "50%       6750.000000   42100.000000  2005.000000  \n",
       "75%      10885.000000   50822.500000  2010.000000  \n",
       "max      23670.000000   79560.000000  2015.000000  "
      ]
     },
     "execution_count": 208,
     "metadata": {},
     "output_type": "execute_result"
    }
   ],
   "source": [
    "df.describe()"
   ]
  },
  {
   "cell_type": "markdown",
   "metadata": {
    "id": "oFlqJ2VFUUIq"
   },
   "source": [
    "**Data Preparation dan Data Cleaning**"
   ]
  },
  {
   "cell_type": "code",
   "execution_count": 209,
   "metadata": {
    "id": "Wyxz-C5PUYY6"
   },
   "outputs": [],
   "source": [
    "df_clean = df.replace('?',np.NaN)\n"
   ]
  },
  {
   "cell_type": "markdown",
   "metadata": {
    "id": "0zT4AB22UsQC"
   },
   "source": [
    "**Imputasi Data menggunakan Nilai Modus Data**"
   ]
  },
  {
   "cell_type": "code",
   "execution_count": 210,
   "metadata": {
    "id": "guM3gJBPUq2L"
   },
   "outputs": [],
   "source": [
    "df_clean['collision_type'].fillna(df_clean['collision_type'].mode()[0], inplace = True)\n",
    "df_clean['property_damage'].fillna(df_clean['property_damage'].mode()[0], inplace = True)\n",
    "df_clean['police_report_available'].fillna(df_clean['police_report_available'].mode()[0], inplace = True)\n",
    "#cari refrensinya untuk imputasi menggunakan modus\n"
   ]
  },
  {
   "cell_type": "code",
   "execution_count": 211,
   "metadata": {
    "colab": {
     "base_uri": "https://localhost:8080/"
    },
    "id": "fpYIQd3cVdw_",
    "outputId": "2212d0e4-1fcd-401d-e710-eac07e78a044"
   },
   "outputs": [
    {
     "data": {
      "text/plain": [
       "False"
      ]
     },
     "execution_count": 211,
     "metadata": {},
     "output_type": "execute_result"
    }
   ],
   "source": [
    "#mengecek nilai kosong pada data\n",
    "# df_clean = df\n",
    "df_clean.isnull().any().any()"
   ]
  },
  {
   "cell_type": "code",
   "execution_count": 212,
   "metadata": {
    "colab": {
     "base_uri": "https://localhost:8080/",
     "height": 488
    },
    "id": "nNNLPEysWgIs",
    "outputId": "917cdbaa-8c50-495c-e9b9-c606bd604f61"
   },
   "outputs": [
    {
     "data": {
      "text/html": [
       "<div>\n",
       "<style scoped>\n",
       "    .dataframe tbody tr th:only-of-type {\n",
       "        vertical-align: middle;\n",
       "    }\n",
       "\n",
       "    .dataframe tbody tr th {\n",
       "        vertical-align: top;\n",
       "    }\n",
       "\n",
       "    .dataframe thead th {\n",
       "        text-align: right;\n",
       "    }\n",
       "</style>\n",
       "<table border=\"1\" class=\"dataframe\">\n",
       "  <thead>\n",
       "    <tr style=\"text-align: right;\">\n",
       "      <th></th>\n",
       "      <th>months_as_customer</th>\n",
       "      <th>age</th>\n",
       "      <th>policy_number</th>\n",
       "      <th>policy_bind_date</th>\n",
       "      <th>policy_state</th>\n",
       "      <th>policy_csl</th>\n",
       "      <th>policy_deductable</th>\n",
       "      <th>policy_annual_premium</th>\n",
       "      <th>umbrella_limit</th>\n",
       "      <th>insured_zip</th>\n",
       "      <th>...</th>\n",
       "      <th>witnesses</th>\n",
       "      <th>police_report_available</th>\n",
       "      <th>total_claim_amount</th>\n",
       "      <th>injury_claim</th>\n",
       "      <th>property_claim</th>\n",
       "      <th>vehicle_claim</th>\n",
       "      <th>auto_make</th>\n",
       "      <th>auto_model</th>\n",
       "      <th>auto_year</th>\n",
       "      <th>fraud_reported</th>\n",
       "    </tr>\n",
       "  </thead>\n",
       "  <tbody>\n",
       "    <tr>\n",
       "      <th>0</th>\n",
       "      <td>328</td>\n",
       "      <td>48</td>\n",
       "      <td>521585</td>\n",
       "      <td>10/17/2014</td>\n",
       "      <td>OH</td>\n",
       "      <td>250/500</td>\n",
       "      <td>1000</td>\n",
       "      <td>1406.91</td>\n",
       "      <td>0</td>\n",
       "      <td>466132</td>\n",
       "      <td>...</td>\n",
       "      <td>2</td>\n",
       "      <td>YES</td>\n",
       "      <td>71610</td>\n",
       "      <td>6510</td>\n",
       "      <td>13020</td>\n",
       "      <td>52080</td>\n",
       "      <td>Saab</td>\n",
       "      <td>92x</td>\n",
       "      <td>2004</td>\n",
       "      <td>Y</td>\n",
       "    </tr>\n",
       "    <tr>\n",
       "      <th>1</th>\n",
       "      <td>228</td>\n",
       "      <td>42</td>\n",
       "      <td>342868</td>\n",
       "      <td>6/27/2006</td>\n",
       "      <td>IN</td>\n",
       "      <td>250/500</td>\n",
       "      <td>2000</td>\n",
       "      <td>1197.22</td>\n",
       "      <td>5000000</td>\n",
       "      <td>468176</td>\n",
       "      <td>...</td>\n",
       "      <td>0</td>\n",
       "      <td>NO</td>\n",
       "      <td>5070</td>\n",
       "      <td>780</td>\n",
       "      <td>780</td>\n",
       "      <td>3510</td>\n",
       "      <td>Mercedes</td>\n",
       "      <td>E400</td>\n",
       "      <td>2007</td>\n",
       "      <td>Y</td>\n",
       "    </tr>\n",
       "    <tr>\n",
       "      <th>2</th>\n",
       "      <td>134</td>\n",
       "      <td>29</td>\n",
       "      <td>687698</td>\n",
       "      <td>9/6/2000</td>\n",
       "      <td>OH</td>\n",
       "      <td>100/300</td>\n",
       "      <td>2000</td>\n",
       "      <td>1413.14</td>\n",
       "      <td>5000000</td>\n",
       "      <td>430632</td>\n",
       "      <td>...</td>\n",
       "      <td>3</td>\n",
       "      <td>NO</td>\n",
       "      <td>34650</td>\n",
       "      <td>7700</td>\n",
       "      <td>3850</td>\n",
       "      <td>23100</td>\n",
       "      <td>Dodge</td>\n",
       "      <td>RAM</td>\n",
       "      <td>2007</td>\n",
       "      <td>N</td>\n",
       "    </tr>\n",
       "    <tr>\n",
       "      <th>3</th>\n",
       "      <td>256</td>\n",
       "      <td>41</td>\n",
       "      <td>227811</td>\n",
       "      <td>5/25/1990</td>\n",
       "      <td>IL</td>\n",
       "      <td>250/500</td>\n",
       "      <td>2000</td>\n",
       "      <td>1415.74</td>\n",
       "      <td>6000000</td>\n",
       "      <td>608117</td>\n",
       "      <td>...</td>\n",
       "      <td>2</td>\n",
       "      <td>NO</td>\n",
       "      <td>63400</td>\n",
       "      <td>6340</td>\n",
       "      <td>6340</td>\n",
       "      <td>50720</td>\n",
       "      <td>Chevrolet</td>\n",
       "      <td>Tahoe</td>\n",
       "      <td>2014</td>\n",
       "      <td>Y</td>\n",
       "    </tr>\n",
       "    <tr>\n",
       "      <th>4</th>\n",
       "      <td>228</td>\n",
       "      <td>44</td>\n",
       "      <td>367455</td>\n",
       "      <td>6/6/2014</td>\n",
       "      <td>IL</td>\n",
       "      <td>500/1000</td>\n",
       "      <td>1000</td>\n",
       "      <td>1583.91</td>\n",
       "      <td>6000000</td>\n",
       "      <td>610706</td>\n",
       "      <td>...</td>\n",
       "      <td>1</td>\n",
       "      <td>NO</td>\n",
       "      <td>6500</td>\n",
       "      <td>1300</td>\n",
       "      <td>650</td>\n",
       "      <td>4550</td>\n",
       "      <td>Accura</td>\n",
       "      <td>RSX</td>\n",
       "      <td>2009</td>\n",
       "      <td>N</td>\n",
       "    </tr>\n",
       "    <tr>\n",
       "      <th>...</th>\n",
       "      <td>...</td>\n",
       "      <td>...</td>\n",
       "      <td>...</td>\n",
       "      <td>...</td>\n",
       "      <td>...</td>\n",
       "      <td>...</td>\n",
       "      <td>...</td>\n",
       "      <td>...</td>\n",
       "      <td>...</td>\n",
       "      <td>...</td>\n",
       "      <td>...</td>\n",
       "      <td>...</td>\n",
       "      <td>...</td>\n",
       "      <td>...</td>\n",
       "      <td>...</td>\n",
       "      <td>...</td>\n",
       "      <td>...</td>\n",
       "      <td>...</td>\n",
       "      <td>...</td>\n",
       "      <td>...</td>\n",
       "      <td>...</td>\n",
       "    </tr>\n",
       "    <tr>\n",
       "      <th>995</th>\n",
       "      <td>3</td>\n",
       "      <td>38</td>\n",
       "      <td>941851</td>\n",
       "      <td>7/16/1991</td>\n",
       "      <td>OH</td>\n",
       "      <td>500/1000</td>\n",
       "      <td>1000</td>\n",
       "      <td>1310.80</td>\n",
       "      <td>0</td>\n",
       "      <td>431289</td>\n",
       "      <td>...</td>\n",
       "      <td>1</td>\n",
       "      <td>NO</td>\n",
       "      <td>87200</td>\n",
       "      <td>17440</td>\n",
       "      <td>8720</td>\n",
       "      <td>61040</td>\n",
       "      <td>Honda</td>\n",
       "      <td>Accord</td>\n",
       "      <td>2006</td>\n",
       "      <td>N</td>\n",
       "    </tr>\n",
       "    <tr>\n",
       "      <th>996</th>\n",
       "      <td>285</td>\n",
       "      <td>41</td>\n",
       "      <td>186934</td>\n",
       "      <td>1/5/2014</td>\n",
       "      <td>IL</td>\n",
       "      <td>100/300</td>\n",
       "      <td>1000</td>\n",
       "      <td>1436.79</td>\n",
       "      <td>0</td>\n",
       "      <td>608177</td>\n",
       "      <td>...</td>\n",
       "      <td>3</td>\n",
       "      <td>NO</td>\n",
       "      <td>108480</td>\n",
       "      <td>18080</td>\n",
       "      <td>18080</td>\n",
       "      <td>72320</td>\n",
       "      <td>Volkswagen</td>\n",
       "      <td>Passat</td>\n",
       "      <td>2015</td>\n",
       "      <td>N</td>\n",
       "    </tr>\n",
       "    <tr>\n",
       "      <th>997</th>\n",
       "      <td>130</td>\n",
       "      <td>34</td>\n",
       "      <td>918516</td>\n",
       "      <td>2/17/2003</td>\n",
       "      <td>OH</td>\n",
       "      <td>250/500</td>\n",
       "      <td>500</td>\n",
       "      <td>1383.49</td>\n",
       "      <td>3000000</td>\n",
       "      <td>442797</td>\n",
       "      <td>...</td>\n",
       "      <td>3</td>\n",
       "      <td>YES</td>\n",
       "      <td>67500</td>\n",
       "      <td>7500</td>\n",
       "      <td>7500</td>\n",
       "      <td>52500</td>\n",
       "      <td>Suburu</td>\n",
       "      <td>Impreza</td>\n",
       "      <td>1996</td>\n",
       "      <td>N</td>\n",
       "    </tr>\n",
       "    <tr>\n",
       "      <th>998</th>\n",
       "      <td>458</td>\n",
       "      <td>62</td>\n",
       "      <td>533940</td>\n",
       "      <td>11/18/2011</td>\n",
       "      <td>IL</td>\n",
       "      <td>500/1000</td>\n",
       "      <td>2000</td>\n",
       "      <td>1356.92</td>\n",
       "      <td>5000000</td>\n",
       "      <td>441714</td>\n",
       "      <td>...</td>\n",
       "      <td>1</td>\n",
       "      <td>YES</td>\n",
       "      <td>46980</td>\n",
       "      <td>5220</td>\n",
       "      <td>5220</td>\n",
       "      <td>36540</td>\n",
       "      <td>Audi</td>\n",
       "      <td>A5</td>\n",
       "      <td>1998</td>\n",
       "      <td>N</td>\n",
       "    </tr>\n",
       "    <tr>\n",
       "      <th>999</th>\n",
       "      <td>456</td>\n",
       "      <td>60</td>\n",
       "      <td>556080</td>\n",
       "      <td>11/11/1996</td>\n",
       "      <td>OH</td>\n",
       "      <td>250/500</td>\n",
       "      <td>1000</td>\n",
       "      <td>766.19</td>\n",
       "      <td>0</td>\n",
       "      <td>612260</td>\n",
       "      <td>...</td>\n",
       "      <td>3</td>\n",
       "      <td>NO</td>\n",
       "      <td>5060</td>\n",
       "      <td>460</td>\n",
       "      <td>920</td>\n",
       "      <td>3680</td>\n",
       "      <td>Mercedes</td>\n",
       "      <td>E400</td>\n",
       "      <td>2007</td>\n",
       "      <td>N</td>\n",
       "    </tr>\n",
       "  </tbody>\n",
       "</table>\n",
       "<p>1000 rows × 39 columns</p>\n",
       "</div>"
      ],
      "text/plain": [
       "     months_as_customer  age  policy_number policy_bind_date policy_state  \\\n",
       "0                   328   48         521585       10/17/2014           OH   \n",
       "1                   228   42         342868        6/27/2006           IN   \n",
       "2                   134   29         687698         9/6/2000           OH   \n",
       "3                   256   41         227811        5/25/1990           IL   \n",
       "4                   228   44         367455         6/6/2014           IL   \n",
       "..                  ...  ...            ...              ...          ...   \n",
       "995                   3   38         941851        7/16/1991           OH   \n",
       "996                 285   41         186934         1/5/2014           IL   \n",
       "997                 130   34         918516        2/17/2003           OH   \n",
       "998                 458   62         533940       11/18/2011           IL   \n",
       "999                 456   60         556080       11/11/1996           OH   \n",
       "\n",
       "    policy_csl  policy_deductable  policy_annual_premium  umbrella_limit  \\\n",
       "0      250/500               1000                1406.91               0   \n",
       "1      250/500               2000                1197.22         5000000   \n",
       "2      100/300               2000                1413.14         5000000   \n",
       "3      250/500               2000                1415.74         6000000   \n",
       "4     500/1000               1000                1583.91         6000000   \n",
       "..         ...                ...                    ...             ...   \n",
       "995   500/1000               1000                1310.80               0   \n",
       "996    100/300               1000                1436.79               0   \n",
       "997    250/500                500                1383.49         3000000   \n",
       "998   500/1000               2000                1356.92         5000000   \n",
       "999    250/500               1000                 766.19               0   \n",
       "\n",
       "     insured_zip  ... witnesses police_report_available total_claim_amount  \\\n",
       "0         466132  ...         2                     YES              71610   \n",
       "1         468176  ...         0                      NO               5070   \n",
       "2         430632  ...         3                      NO              34650   \n",
       "3         608117  ...         2                      NO              63400   \n",
       "4         610706  ...         1                      NO               6500   \n",
       "..           ...  ...       ...                     ...                ...   \n",
       "995       431289  ...         1                      NO              87200   \n",
       "996       608177  ...         3                      NO             108480   \n",
       "997       442797  ...         3                     YES              67500   \n",
       "998       441714  ...         1                     YES              46980   \n",
       "999       612260  ...         3                      NO               5060   \n",
       "\n",
       "    injury_claim property_claim  vehicle_claim   auto_make auto_model  \\\n",
       "0           6510          13020          52080        Saab        92x   \n",
       "1            780            780           3510    Mercedes       E400   \n",
       "2           7700           3850          23100       Dodge        RAM   \n",
       "3           6340           6340          50720   Chevrolet      Tahoe   \n",
       "4           1300            650           4550      Accura        RSX   \n",
       "..           ...            ...            ...         ...        ...   \n",
       "995        17440           8720          61040       Honda     Accord   \n",
       "996        18080          18080          72320  Volkswagen     Passat   \n",
       "997         7500           7500          52500      Suburu    Impreza   \n",
       "998         5220           5220          36540        Audi         A5   \n",
       "999          460            920           3680    Mercedes       E400   \n",
       "\n",
       "    auto_year fraud_reported  \n",
       "0        2004              Y  \n",
       "1        2007              Y  \n",
       "2        2007              N  \n",
       "3        2014              Y  \n",
       "4        2009              N  \n",
       "..        ...            ...  \n",
       "995      2006              N  \n",
       "996      2015              N  \n",
       "997      1996              N  \n",
       "998      1998              N  \n",
       "999      2007              N  \n",
       "\n",
       "[1000 rows x 39 columns]"
      ]
     },
     "execution_count": 212,
     "metadata": {},
     "output_type": "execute_result"
    }
   ],
   "source": [
    "df_clean"
   ]
  },
  {
   "cell_type": "code",
   "execution_count": 213,
   "metadata": {
    "colab": {
     "base_uri": "https://localhost:8080/"
    },
    "id": "s0TwLvLCKXXw",
    "outputId": "75960d91-1336-413f-9f2e-2e8b4abd7f00"
   },
   "outputs": [
    {
     "name": "stdout",
     "output_type": "stream",
     "text": [
      "policy_bind_date : 951\n",
      "policy_state : 3\n",
      "policy_csl : 3\n",
      "insured_sex : 2\n",
      "insured_education_level : 7\n",
      "insured_occupation : 14\n",
      "insured_hobbies : 20\n",
      "insured_relationship : 6\n",
      "incident_type : 4\n",
      "collision_type : 3\n",
      "incident_severity : 4\n",
      "authorities_contacted : 5\n",
      "incident_state : 7\n",
      "incident_city : 7\n",
      "incident_location : 1000\n",
      "property_damage : 2\n",
      "police_report_available : 2\n",
      "auto_make : 14\n",
      "auto_model : 39\n",
      "fraud_reported : 2\n"
     ]
    }
   ],
   "source": [
    "for i in df_clean.columns:\n",
    "  if df_clean[i].dtype == 'object' :\n",
    "    print(i, \":\", df_clean[i].nunique())\n"
   ]
  },
  {
   "cell_type": "code",
   "execution_count": 214,
   "metadata": {
    "colab": {
     "base_uri": "https://localhost:8080/"
    },
    "id": "3X0ebBullmO3",
    "outputId": "b3bad483-8e3a-4652-8b5b-f4275757abd5"
   },
   "outputs": [
    {
     "data": {
      "text/plain": [
       "array([1, 0])"
      ]
     },
     "execution_count": 214,
     "metadata": {},
     "output_type": "execute_result"
    }
   ],
   "source": [
    "df_new = df_clean.drop(['policy_state', 'policy_csl', 'incident_state', 'incident_city', 'incident_location'],axis=1)\n",
    "df_new['fraud_reported'] = df_new['fraud_reported'].str.replace('Y', '1')\n",
    "df_new['fraud_reported'] = df_new['fraud_reported'].str.replace('N', '0')\n",
    "df_new['fraud_reported'] = df_new['fraud_reported'].astype(int)\n",
    "df_new['fraud_reported'].unique()"
   ]
  },
  {
   "cell_type": "markdown",
   "metadata": {
    "id": "Sj1LSuY3_o3J"
   },
   "source": [
    "# **Exploratory Data Analysis**"
   ]
  },
  {
   "cell_type": "code",
   "execution_count": 215,
   "metadata": {
    "id": "1XuXQYj_mBvq"
   },
   "outputs": [],
   "source": [
    "# sns.countplot(df_new['fraud_reported'])"
   ]
  },
  {
   "cell_type": "code",
   "execution_count": 216,
   "metadata": {
    "id": "1SEdoaddI_mO"
   },
   "outputs": [
    {
     "data": {
      "text/plain": [
       "0    753\n",
       "1    247\n",
       "Name: fraud_reported, dtype: int64"
      ]
     },
     "execution_count": 216,
     "metadata": {},
     "output_type": "execute_result"
    }
   ],
   "source": [
    "df_new.fraud_reported.value_counts()"
   ]
  },
  {
   "cell_type": "code",
   "execution_count": 217,
   "metadata": {
    "id": "QfCzzaAX5Fyx"
   },
   "outputs": [],
   "source": [
    "# def vis_data(df, x, y = 'fraud_reported', graph = 'countplot'):\n",
    "#     if graph == 'hist':\n",
    "#         fig = px.histogram(df, x = x)\n",
    "#         fig.update_layout(title = 'Distribution of {x}'.format(x = x))\n",
    "#         fig.show()\n",
    "#     elif graph == 'bar':\n",
    "#       fig = px.bar(df, x = x, y = y)\n",
    "#       fig.update_layout(title = '{x} vs. {y}'.format(x = x, y = y))\n",
    "#       fig.show()\n",
    "#     elif graph == 'countplot':\n",
    "#       a = df.groupby([x,y]).count()\n",
    "#       a.reset_index(inplace = True)\n",
    "#       no_fraud = a[a['fraud_reported'] == 0]\n",
    "#       yes_fraud = a[a['fraud_reported'] == 1]\n",
    "#       trace1 = go.Bar(x = no_fraud[x], y = no_fraud['policy_number'], name = 'No Fraud')\n",
    "#       trace2 = go.Bar(x = yes_fraud[x], y = yes_fraud['policy_number'], name = 'Fraud')\n",
    "#       fig = go.Figure(data = [trace1, trace2])\n",
    "#       fig.update_layout(title = '{x} vs. {y}'.format(x=x, y = y))\n",
    "#       fig.update_layout(barmode = 'group')\n",
    "#       fig.show()"
   ]
  },
  {
   "cell_type": "code",
   "execution_count": 218,
   "metadata": {
    "id": "Enk-svmrpHts"
   },
   "outputs": [],
   "source": [
    "# vis_data(df_new, 'insured_sex')"
   ]
  },
  {
   "cell_type": "code",
   "execution_count": 219,
   "metadata": {
    "id": "DwDIQtVNr5tN"
   },
   "outputs": [],
   "source": [
    "# vis_data(df_new, 'insured_education_level')"
   ]
  },
  {
   "cell_type": "code",
   "execution_count": 220,
   "metadata": {
    "id": "wdU6CGvjssgM"
   },
   "outputs": [],
   "source": [
    "# vis_data(df_new, 'insured_occupation')"
   ]
  },
  {
   "cell_type": "code",
   "execution_count": 221,
   "metadata": {
    "id": "XXFiuVloQA2i"
   },
   "outputs": [],
   "source": [
    "# vis_data(df_new, 'insured_relationship')"
   ]
  },
  {
   "cell_type": "code",
   "execution_count": 222,
   "metadata": {
    "id": "RbY9mHZitMOH"
   },
   "outputs": [],
   "source": [
    "# vis_data(df_new, 'incident_type')"
   ]
  },
  {
   "cell_type": "code",
   "execution_count": 223,
   "metadata": {
    "id": "p3gQKsnGtUzW"
   },
   "outputs": [],
   "source": [
    "# vis_data(df_new, 'collision_type')"
   ]
  },
  {
   "cell_type": "code",
   "execution_count": 224,
   "metadata": {
    "id": "WFWWGi7qtiso"
   },
   "outputs": [],
   "source": [
    "# vis_data(df_new, 'incident_severity')"
   ]
  },
  {
   "cell_type": "markdown",
   "metadata": {
    "id": "ZUDeLUGOV9Ad"
   },
   "source": [
    "high amount of repair cost which will be incurred by the insurer due to major damage."
   ]
  },
  {
   "cell_type": "code",
   "execution_count": 225,
   "metadata": {
    "id": "_TUBcqYAu61E"
   },
   "outputs": [],
   "source": [
    "# vis_data(df_new, 'authorities_contacted')"
   ]
  },
  {
   "cell_type": "code",
   "execution_count": 226,
   "metadata": {
    "id": "ZAM-4lyRu-9j"
   },
   "outputs": [],
   "source": [
    "# vis_data(df_new, 'insured_hobbies')"
   ]
  },
  {
   "cell_type": "code",
   "execution_count": 227,
   "metadata": {
    "colab": {
     "base_uri": "https://localhost:8080/"
    },
    "id": "rMblosXkQN19",
    "outputId": "5fb50d71-3eaa-4562-c411-d7e9336be742"
   },
   "outputs": [
    {
     "data": {
      "text/plain": [
       "array(['other', 'chess', 'cross-fit'], dtype=object)"
      ]
     },
     "execution_count": 227,
     "metadata": {},
     "output_type": "execute_result"
    }
   ],
   "source": [
    "hobbies = df_new['insured_hobbies'].unique()\n",
    "for hobby in hobbies:\n",
    "  if (hobby != 'chess') & (hobby != 'cross-fit'):\n",
    "    df_new['insured_hobbies'] = df_new['insured_hobbies'].str.replace(hobby, 'other')\n",
    "\n",
    "df_new['insured_hobbies'].unique()"
   ]
  },
  {
   "cell_type": "code",
   "execution_count": 228,
   "metadata": {
    "id": "TxRgOWHrRxGq"
   },
   "outputs": [],
   "source": [
    "# vis_data(df_new, 'age', 'anything', 'hist')"
   ]
  },
  {
   "cell_type": "code",
   "execution_count": 229,
   "metadata": {
    "id": "QDcO7KWCR6ES"
   },
   "outputs": [],
   "source": [
    "# df_new['age'].describe()"
   ]
  },
  {
   "cell_type": "code",
   "execution_count": 230,
   "metadata": {
    "id": "K8l6b6hkSB66"
   },
   "outputs": [],
   "source": [
    "bin_labels = ['15-20', '21-25', '26-30', '31-35', '36-40', '41-45', '46-50', '51-55', '56-60', '61-65']\n",
    "bins = [15, 20, 25, 30, 35, 40, 45, 50, 55, 60, 65]\n",
    "\n",
    "df_new['age_groups'] = pd.cut(df_new['age'], bins = bins, labels = bin_labels, include_lowest = True)"
   ]
  },
  {
   "cell_type": "code",
   "execution_count": 231,
   "metadata": {
    "id": "x688nw6rSRl7"
   },
   "outputs": [],
   "source": [
    "# vis_data(df_new, 'age_group')"
   ]
  },
  {
   "cell_type": "code",
   "execution_count": 232,
   "metadata": {
    "id": "NSgPs31CSiIw"
   },
   "outputs": [],
   "source": [
    "# vis_data(df_new, 'months_as_customer', 'y', 'hist')"
   ]
  },
  {
   "cell_type": "code",
   "execution_count": 233,
   "metadata": {
    "id": "wv-JpigdSmrC"
   },
   "outputs": [],
   "source": [
    "# df_new['months_as_customer'].describe()"
   ]
  },
  {
   "cell_type": "code",
   "execution_count": 234,
   "metadata": {
    "id": "sMaAwWXtVPue"
   },
   "outputs": [],
   "source": [
    "bins = [0, 50, 100, 150, 200, 250, 300, 350, 400, 450, 500]\n",
    "bin_labels = ['0-50','51-100','101-150','151-200','201-250','251-300','301-350','351-400','401-450','451-500']\n",
    "\n",
    "df_new['months_as_customer_groups'] = pd.cut(df_new['months_as_customer'], bins = 10, labels = bin_labels, include_lowest= True)"
   ]
  },
  {
   "cell_type": "code",
   "execution_count": 235,
   "metadata": {
    "id": "R09TNudMVVDD"
   },
   "outputs": [],
   "source": [
    "# vis_data(df_new, 'months_as_customer_groups')"
   ]
  },
  {
   "cell_type": "code",
   "execution_count": 236,
   "metadata": {
    "id": "Rd3d2zccVkQY"
   },
   "outputs": [],
   "source": [
    "# vis_data(df_new, 'auto_make')"
   ]
  },
  {
   "cell_type": "code",
   "execution_count": 237,
   "metadata": {
    "id": "rH8bkJ0HVn0c"
   },
   "outputs": [],
   "source": [
    "# vis_data(df_new, 'number_of_vehicles_involved')"
   ]
  },
  {
   "cell_type": "code",
   "execution_count": 238,
   "metadata": {
    "id": "jGMstHggVuP_"
   },
   "outputs": [],
   "source": [
    "# vis_data(df_new, 'witnesses')"
   ]
  },
  {
   "cell_type": "code",
   "execution_count": 239,
   "metadata": {
    "id": "ejuy3F_gVyq3"
   },
   "outputs": [],
   "source": [
    "# vis_data(df_new, 'bodily_injuries')"
   ]
  },
  {
   "cell_type": "code",
   "execution_count": 240,
   "metadata": {
    "id": "k7kTGXlzXdnD"
   },
   "outputs": [],
   "source": [
    "# vis_data(df_new, 'total_claim_amount', 'y', 'hist')\n"
   ]
  },
  {
   "cell_type": "code",
   "execution_count": 241,
   "metadata": {
    "id": "-oFOoB1TC6jd"
   },
   "outputs": [],
   "source": [
    "# df_new['total_claim_amount'].describe()"
   ]
  },
  {
   "cell_type": "code",
   "execution_count": 242,
   "metadata": {
    "id": "KvxlK7WlBOdM"
   },
   "outputs": [],
   "source": [
    "# bins = [0, 20000, 40000, 60000, 80000, 100000, 120000]\n",
    "# bin_labels = ['0k-20k','20k-40k','40k-60k','60k-80k','80k-100k','100k-120k']\n",
    "\n",
    "# df_new['total_claim_amount_groups'] = pd.cut(df_new['total_claim_amount'], bins = 6, labels = bin_labels, include_lowest= True)"
   ]
  },
  {
   "cell_type": "code",
   "execution_count": 243,
   "metadata": {
    "id": "5Fve0C6eX3o0"
   },
   "outputs": [],
   "source": [
    "# vis_data(df_new,'total_claim_amount_groups')"
   ]
  },
  {
   "cell_type": "code",
   "execution_count": 244,
   "metadata": {
    "id": "hTdS1BdPaDJc"
   },
   "outputs": [],
   "source": [
    "# vis_data(df_new, 'incident_hour_of_the_day')"
   ]
  },
  {
   "cell_type": "code",
   "execution_count": 245,
   "metadata": {
    "id": "9C3Cs81WaocH"
   },
   "outputs": [],
   "source": [
    "# vis_data(df_new, 'auto_year')\n"
   ]
  },
  {
   "cell_type": "code",
   "execution_count": 246,
   "metadata": {
    "id": "oqif-PQ5bJwQ"
   },
   "outputs": [],
   "source": [
    "# vis_data(df_new,'policy_annual_premium', 'y', 'hist')"
   ]
  },
  {
   "cell_type": "code",
   "execution_count": 247,
   "metadata": {
    "id": "NwpojP6kaszg"
   },
   "outputs": [],
   "source": [
    "# df['policy_annual_premium'].describe()"
   ]
  },
  {
   "cell_type": "code",
   "execution_count": 248,
   "metadata": {
    "id": "Eld28hWobStN"
   },
   "outputs": [],
   "source": [
    "bins = list(np.linspace(0,2500, 6, dtype = int))\n",
    "bin_labels = ['very low', 'low', 'medium', 'high', 'very high']\n",
    "\n",
    "df_new['policy_annual_premium_groups'] = pd.cut(df_new['policy_annual_premium'], bins = bins, labels=bin_labels)"
   ]
  },
  {
   "cell_type": "code",
   "execution_count": 249,
   "metadata": {
    "id": "w_PLVZHjbXbe"
   },
   "outputs": [],
   "source": [
    "# vis_data(df_new, 'policy_annual_premium_groups')"
   ]
  },
  {
   "cell_type": "code",
   "execution_count": 250,
   "metadata": {
    "id": "Y9miDicAbj4G"
   },
   "outputs": [],
   "source": [
    "# vis_data(df_new,'policy_deductable', 'y', 'hist')"
   ]
  },
  {
   "cell_type": "code",
   "execution_count": 251,
   "metadata": {
    "id": "l4Bgrq5kbfxd"
   },
   "outputs": [],
   "source": [
    "# df['policy_deductable'].describe()"
   ]
  },
  {
   "cell_type": "code",
   "execution_count": 252,
   "metadata": {
    "id": "msOMAstXbtRR"
   },
   "outputs": [],
   "source": [
    "bins = list(np.linspace(0,2000, 5, dtype = int))\n",
    "bin_labels = ['0-500', '501-1000', '1001-1500', '1501-2000']\n",
    "\n",
    "df_new['policy_deductable_groups'] = pd.cut(df_new['policy_deductable'], bins = bins, labels = bin_labels)\n"
   ]
  },
  {
   "cell_type": "code",
   "execution_count": 253,
   "metadata": {
    "id": "B9e3Mc-Rb4S4"
   },
   "outputs": [],
   "source": [
    "# vis_data(df_new, 'policy_deductable_group')"
   ]
  },
  {
   "cell_type": "code",
   "execution_count": 254,
   "metadata": {
    "id": "2a1tvSKPb-d7"
   },
   "outputs": [],
   "source": [
    "# vis_data(df_new, 'property_damage')"
   ]
  },
  {
   "cell_type": "code",
   "execution_count": 255,
   "metadata": {
    "id": "C4mDeovkcFzD"
   },
   "outputs": [],
   "source": [
    "# vis_data(df_new, 'police_report_available')"
   ]
  },
  {
   "cell_type": "code",
   "execution_count": 256,
   "metadata": {
    "id": "A3_92z-6N2RJ"
   },
   "outputs": [],
   "source": [
    "# vis_data(df_new, 'umbrella_limit')"
   ]
  },
  {
   "cell_type": "code",
   "execution_count": 257,
   "metadata": {
    "colab": {
     "base_uri": "https://localhost:8080/"
    },
    "id": "vu3PWiKYcKVv",
    "outputId": "a9627035-142d-4e1e-e503-038d956daee1"
   },
   "outputs": [
    {
     "data": {
      "text/plain": [
       "Index(['policy_number', 'policy_bind_date', 'umbrella_limit', 'insured_zip',\n",
       "       'insured_sex', 'insured_education_level', 'insured_occupation',\n",
       "       'insured_hobbies', 'insured_relationship', 'capital-gains',\n",
       "       'capital-loss', 'incident_date', 'incident_type', 'collision_type',\n",
       "       'incident_severity', 'authorities_contacted',\n",
       "       'incident_hour_of_the_day', 'number_of_vehicles_involved',\n",
       "       'property_damage', 'bodily_injuries', 'witnesses',\n",
       "       'police_report_available', 'total_claim_amount', 'injury_claim',\n",
       "       'property_claim', 'vehicle_claim', 'auto_make', 'auto_model',\n",
       "       'auto_year', 'fraud_reported', 'age_groups',\n",
       "       'months_as_customer_groups', 'policy_annual_premium_groups',\n",
       "       'policy_deductable_groups'],\n",
       "      dtype='object')"
      ]
     },
     "execution_count": 257,
     "metadata": {},
     "output_type": "execute_result"
    }
   ],
   "source": [
    "#menghapus kolom yang sudah di binning\n",
    "df_new = df_new.drop(['age', 'months_as_customer', 'policy_deductable', 'policy_annual_premium'], axis = 1)\n",
    "df_new.columns"
   ]
  },
  {
   "cell_type": "code",
   "execution_count": 258,
   "metadata": {
    "id": "UxTEsyafzr3s"
   },
   "outputs": [],
   "source": [
    "#berdasarkan EDA, beberapa kolom akan dihilangkan\n",
    "df1 = df_new.drop(['policy_number', 'umbrella_limit', 'insured_zip','policy_bind_date'],axis=1)"
   ]
  },
  {
   "cell_type": "code",
   "execution_count": 259,
   "metadata": {
    "colab": {
     "base_uri": "https://localhost:8080/",
     "height": 542
    },
    "id": "T4UyVmBfx_UW",
    "outputId": "5c04b17f-92b7-4e61-abc0-61947deb225e"
   },
   "outputs": [
    {
     "data": {
      "application/vnd.plotly.v1+json": {
       "config": {
        "plotlyServerURL": "https://plot.ly"
       },
       "data": [
        {
         "type": "heatmap",
         "x": [
          "capital-gains",
          "capital-loss",
          "incident_hour_of_the_day",
          "number_of_vehicles_involved",
          "bodily_injuries",
          "witnesses",
          "total_claim_amount",
          "injury_claim",
          "property_claim",
          "vehicle_claim",
          "auto_year",
          "fraud_reported"
         ],
         "y": [
          "capital-gains",
          "capital-loss",
          "incident_hour_of_the_day",
          "number_of_vehicles_involved",
          "bodily_injuries",
          "witnesses",
          "total_claim_amount",
          "injury_claim",
          "property_claim",
          "vehicle_claim",
          "auto_year",
          "fraud_reported"
         ],
         "z": [
          [
           1,
           -0.04690444654009023,
           -0.016405612704074396,
           0.06164259934237781,
           0.055829194474678545,
           -0.017651375847817792,
           0.015980468068589083,
           0.025933696371508736,
           -0.0007790445414113306,
           0.015836196466461252,
           0.03139806185259973,
           -0.019172653691888912
          ],
          [
           -0.04690444654009023,
           1,
           -0.0250537480514206,
           -0.014894936765822082,
           -0.024418153824373706,
           -0.04132987270040405,
           -0.03606030389185209,
           -0.04605990630975065,
           -0.022863440817917042,
           -0.0326650970430251,
           -0.0566150226554259,
           -0.014863103409694347
          ],
          [
           -0.016405612704074396,
           -0.0250537480514206,
           1,
           0.12079426662323124,
           -0.03456318209998997,
           0.006526916000822264,
           0.2177023870325214,
           0.16576791045002612,
           0.17953586162350574,
           0.2156256330226426,
           0.021367617906016212,
           0.0043158505642057815
          ],
          [
           0.06164259934237781,
           -0.014894936765822082,
           0.12079426662323124,
           1,
           0.014030113641081456,
           -0.014668684044923516,
           0.27427768265936986,
           0.22464992102091874,
           0.2190841119718898,
           0.2693930380014259,
           0.034553681456766024,
           0.05183867861498736
          ],
          [
           0.055829194474678545,
           -0.024418153824373706,
           -0.03456318209998997,
           0.014030113641081456,
           1,
           -0.005605558277451288,
           0.047092935143762206,
           0.04731868943801604,
           0.03974936846720905,
           0.04344883187399806,
           -0.020527356530740146,
           0.033876760029153984
          ],
          [
           -0.017651375847817792,
           -0.04132987270040405,
           0.006526916000822264,
           -0.014668684044923516,
           -0.005605558277451288,
           1,
           -0.011114187757315158,
           -0.024843475493272663,
           0.05264034683856342,
           -0.022563874954604178,
           0.04579146108177324,
           0.04949667970707168
          ],
          [
           0.015980468068589083,
           -0.03606030389185209,
           0.2177023870325214,
           0.27427768265936986,
           0.047092935143762206,
           -0.011114187757315158,
           1,
           0.8050253630561807,
           0.810686495122973,
           0.9827731790805576,
           -0.03578093686270485,
           0.1636514890148044
          ],
          [
           0.025933696371508736,
           -0.04605990630975065,
           0.16576791045002612,
           0.22464992102091874,
           0.04731868943801604,
           -0.024843475493272663,
           0.8050253630561807,
           1,
           0.5638659408577098,
           0.722877814857129,
           -0.013718057474875705,
           0.09097470078676086
          ],
          [
           -0.0007790445414113306,
           -0.022863440817917042,
           0.17953586162350574,
           0.2190841119718898,
           0.03974936846720905,
           0.05264034683856342,
           0.810686495122973,
           0.5638659408577098,
           1,
           0.7320900444571772,
           -0.014507787063594763,
           0.13783514746520326
          ],
          [
           0.015836196466461252,
           -0.0326650970430251,
           0.2156256330226426,
           0.2693930380014259,
           0.04344883187399806,
           -0.022563874954604178,
           0.9827731790805576,
           0.722877814857129,
           0.7320900444571772,
           1,
           -0.04276752612754668,
           0.17004909646695304
          ],
          [
           0.03139806185259973,
           -0.0566150226554259,
           0.021367617906016212,
           0.034553681456766024,
           -0.020527356530740146,
           0.04579146108177324,
           -0.03578093686270485,
           -0.013718057474875705,
           -0.014507787063594763,
           -0.04276752612754668,
           1,
           0.007928216416270492
          ],
          [
           -0.019172653691888912,
           -0.014863103409694347,
           0.0043158505642057815,
           0.05183867861498736,
           0.033876760029153984,
           0.04949667970707168,
           0.1636514890148044,
           0.09097470078676086,
           0.13783514746520326,
           0.17004909646695304,
           0.007928216416270492,
           1
          ]
         ]
        }
       ],
       "layout": {
        "template": {
         "data": {
          "bar": [
           {
            "error_x": {
             "color": "#2a3f5f"
            },
            "error_y": {
             "color": "#2a3f5f"
            },
            "marker": {
             "line": {
              "color": "#E5ECF6",
              "width": 0.5
             },
             "pattern": {
              "fillmode": "overlay",
              "size": 10,
              "solidity": 0.2
             }
            },
            "type": "bar"
           }
          ],
          "barpolar": [
           {
            "marker": {
             "line": {
              "color": "#E5ECF6",
              "width": 0.5
             },
             "pattern": {
              "fillmode": "overlay",
              "size": 10,
              "solidity": 0.2
             }
            },
            "type": "barpolar"
           }
          ],
          "carpet": [
           {
            "aaxis": {
             "endlinecolor": "#2a3f5f",
             "gridcolor": "white",
             "linecolor": "white",
             "minorgridcolor": "white",
             "startlinecolor": "#2a3f5f"
            },
            "baxis": {
             "endlinecolor": "#2a3f5f",
             "gridcolor": "white",
             "linecolor": "white",
             "minorgridcolor": "white",
             "startlinecolor": "#2a3f5f"
            },
            "type": "carpet"
           }
          ],
          "choropleth": [
           {
            "colorbar": {
             "outlinewidth": 0,
             "ticks": ""
            },
            "type": "choropleth"
           }
          ],
          "contour": [
           {
            "colorbar": {
             "outlinewidth": 0,
             "ticks": ""
            },
            "colorscale": [
             [
              0,
              "#0d0887"
             ],
             [
              0.1111111111111111,
              "#46039f"
             ],
             [
              0.2222222222222222,
              "#7201a8"
             ],
             [
              0.3333333333333333,
              "#9c179e"
             ],
             [
              0.4444444444444444,
              "#bd3786"
             ],
             [
              0.5555555555555556,
              "#d8576b"
             ],
             [
              0.6666666666666666,
              "#ed7953"
             ],
             [
              0.7777777777777778,
              "#fb9f3a"
             ],
             [
              0.8888888888888888,
              "#fdca26"
             ],
             [
              1,
              "#f0f921"
             ]
            ],
            "type": "contour"
           }
          ],
          "contourcarpet": [
           {
            "colorbar": {
             "outlinewidth": 0,
             "ticks": ""
            },
            "type": "contourcarpet"
           }
          ],
          "heatmap": [
           {
            "colorbar": {
             "outlinewidth": 0,
             "ticks": ""
            },
            "colorscale": [
             [
              0,
              "#0d0887"
             ],
             [
              0.1111111111111111,
              "#46039f"
             ],
             [
              0.2222222222222222,
              "#7201a8"
             ],
             [
              0.3333333333333333,
              "#9c179e"
             ],
             [
              0.4444444444444444,
              "#bd3786"
             ],
             [
              0.5555555555555556,
              "#d8576b"
             ],
             [
              0.6666666666666666,
              "#ed7953"
             ],
             [
              0.7777777777777778,
              "#fb9f3a"
             ],
             [
              0.8888888888888888,
              "#fdca26"
             ],
             [
              1,
              "#f0f921"
             ]
            ],
            "type": "heatmap"
           }
          ],
          "heatmapgl": [
           {
            "colorbar": {
             "outlinewidth": 0,
             "ticks": ""
            },
            "colorscale": [
             [
              0,
              "#0d0887"
             ],
             [
              0.1111111111111111,
              "#46039f"
             ],
             [
              0.2222222222222222,
              "#7201a8"
             ],
             [
              0.3333333333333333,
              "#9c179e"
             ],
             [
              0.4444444444444444,
              "#bd3786"
             ],
             [
              0.5555555555555556,
              "#d8576b"
             ],
             [
              0.6666666666666666,
              "#ed7953"
             ],
             [
              0.7777777777777778,
              "#fb9f3a"
             ],
             [
              0.8888888888888888,
              "#fdca26"
             ],
             [
              1,
              "#f0f921"
             ]
            ],
            "type": "heatmapgl"
           }
          ],
          "histogram": [
           {
            "marker": {
             "pattern": {
              "fillmode": "overlay",
              "size": 10,
              "solidity": 0.2
             }
            },
            "type": "histogram"
           }
          ],
          "histogram2d": [
           {
            "colorbar": {
             "outlinewidth": 0,
             "ticks": ""
            },
            "colorscale": [
             [
              0,
              "#0d0887"
             ],
             [
              0.1111111111111111,
              "#46039f"
             ],
             [
              0.2222222222222222,
              "#7201a8"
             ],
             [
              0.3333333333333333,
              "#9c179e"
             ],
             [
              0.4444444444444444,
              "#bd3786"
             ],
             [
              0.5555555555555556,
              "#d8576b"
             ],
             [
              0.6666666666666666,
              "#ed7953"
             ],
             [
              0.7777777777777778,
              "#fb9f3a"
             ],
             [
              0.8888888888888888,
              "#fdca26"
             ],
             [
              1,
              "#f0f921"
             ]
            ],
            "type": "histogram2d"
           }
          ],
          "histogram2dcontour": [
           {
            "colorbar": {
             "outlinewidth": 0,
             "ticks": ""
            },
            "colorscale": [
             [
              0,
              "#0d0887"
             ],
             [
              0.1111111111111111,
              "#46039f"
             ],
             [
              0.2222222222222222,
              "#7201a8"
             ],
             [
              0.3333333333333333,
              "#9c179e"
             ],
             [
              0.4444444444444444,
              "#bd3786"
             ],
             [
              0.5555555555555556,
              "#d8576b"
             ],
             [
              0.6666666666666666,
              "#ed7953"
             ],
             [
              0.7777777777777778,
              "#fb9f3a"
             ],
             [
              0.8888888888888888,
              "#fdca26"
             ],
             [
              1,
              "#f0f921"
             ]
            ],
            "type": "histogram2dcontour"
           }
          ],
          "mesh3d": [
           {
            "colorbar": {
             "outlinewidth": 0,
             "ticks": ""
            },
            "type": "mesh3d"
           }
          ],
          "parcoords": [
           {
            "line": {
             "colorbar": {
              "outlinewidth": 0,
              "ticks": ""
             }
            },
            "type": "parcoords"
           }
          ],
          "pie": [
           {
            "automargin": true,
            "type": "pie"
           }
          ],
          "scatter": [
           {
            "fillpattern": {
             "fillmode": "overlay",
             "size": 10,
             "solidity": 0.2
            },
            "type": "scatter"
           }
          ],
          "scatter3d": [
           {
            "line": {
             "colorbar": {
              "outlinewidth": 0,
              "ticks": ""
             }
            },
            "marker": {
             "colorbar": {
              "outlinewidth": 0,
              "ticks": ""
             }
            },
            "type": "scatter3d"
           }
          ],
          "scattercarpet": [
           {
            "marker": {
             "colorbar": {
              "outlinewidth": 0,
              "ticks": ""
             }
            },
            "type": "scattercarpet"
           }
          ],
          "scattergeo": [
           {
            "marker": {
             "colorbar": {
              "outlinewidth": 0,
              "ticks": ""
             }
            },
            "type": "scattergeo"
           }
          ],
          "scattergl": [
           {
            "marker": {
             "colorbar": {
              "outlinewidth": 0,
              "ticks": ""
             }
            },
            "type": "scattergl"
           }
          ],
          "scattermapbox": [
           {
            "marker": {
             "colorbar": {
              "outlinewidth": 0,
              "ticks": ""
             }
            },
            "type": "scattermapbox"
           }
          ],
          "scatterpolar": [
           {
            "marker": {
             "colorbar": {
              "outlinewidth": 0,
              "ticks": ""
             }
            },
            "type": "scatterpolar"
           }
          ],
          "scatterpolargl": [
           {
            "marker": {
             "colorbar": {
              "outlinewidth": 0,
              "ticks": ""
             }
            },
            "type": "scatterpolargl"
           }
          ],
          "scatterternary": [
           {
            "marker": {
             "colorbar": {
              "outlinewidth": 0,
              "ticks": ""
             }
            },
            "type": "scatterternary"
           }
          ],
          "surface": [
           {
            "colorbar": {
             "outlinewidth": 0,
             "ticks": ""
            },
            "colorscale": [
             [
              0,
              "#0d0887"
             ],
             [
              0.1111111111111111,
              "#46039f"
             ],
             [
              0.2222222222222222,
              "#7201a8"
             ],
             [
              0.3333333333333333,
              "#9c179e"
             ],
             [
              0.4444444444444444,
              "#bd3786"
             ],
             [
              0.5555555555555556,
              "#d8576b"
             ],
             [
              0.6666666666666666,
              "#ed7953"
             ],
             [
              0.7777777777777778,
              "#fb9f3a"
             ],
             [
              0.8888888888888888,
              "#fdca26"
             ],
             [
              1,
              "#f0f921"
             ]
            ],
            "type": "surface"
           }
          ],
          "table": [
           {
            "cells": {
             "fill": {
              "color": "#EBF0F8"
             },
             "line": {
              "color": "white"
             }
            },
            "header": {
             "fill": {
              "color": "#C8D4E3"
             },
             "line": {
              "color": "white"
             }
            },
            "type": "table"
           }
          ]
         },
         "layout": {
          "annotationdefaults": {
           "arrowcolor": "#2a3f5f",
           "arrowhead": 0,
           "arrowwidth": 1
          },
          "autotypenumbers": "strict",
          "coloraxis": {
           "colorbar": {
            "outlinewidth": 0,
            "ticks": ""
           }
          },
          "colorscale": {
           "diverging": [
            [
             0,
             "#8e0152"
            ],
            [
             0.1,
             "#c51b7d"
            ],
            [
             0.2,
             "#de77ae"
            ],
            [
             0.3,
             "#f1b6da"
            ],
            [
             0.4,
             "#fde0ef"
            ],
            [
             0.5,
             "#f7f7f7"
            ],
            [
             0.6,
             "#e6f5d0"
            ],
            [
             0.7,
             "#b8e186"
            ],
            [
             0.8,
             "#7fbc41"
            ],
            [
             0.9,
             "#4d9221"
            ],
            [
             1,
             "#276419"
            ]
           ],
           "sequential": [
            [
             0,
             "#0d0887"
            ],
            [
             0.1111111111111111,
             "#46039f"
            ],
            [
             0.2222222222222222,
             "#7201a8"
            ],
            [
             0.3333333333333333,
             "#9c179e"
            ],
            [
             0.4444444444444444,
             "#bd3786"
            ],
            [
             0.5555555555555556,
             "#d8576b"
            ],
            [
             0.6666666666666666,
             "#ed7953"
            ],
            [
             0.7777777777777778,
             "#fb9f3a"
            ],
            [
             0.8888888888888888,
             "#fdca26"
            ],
            [
             1,
             "#f0f921"
            ]
           ],
           "sequentialminus": [
            [
             0,
             "#0d0887"
            ],
            [
             0.1111111111111111,
             "#46039f"
            ],
            [
             0.2222222222222222,
             "#7201a8"
            ],
            [
             0.3333333333333333,
             "#9c179e"
            ],
            [
             0.4444444444444444,
             "#bd3786"
            ],
            [
             0.5555555555555556,
             "#d8576b"
            ],
            [
             0.6666666666666666,
             "#ed7953"
            ],
            [
             0.7777777777777778,
             "#fb9f3a"
            ],
            [
             0.8888888888888888,
             "#fdca26"
            ],
            [
             1,
             "#f0f921"
            ]
           ]
          },
          "colorway": [
           "#636efa",
           "#EF553B",
           "#00cc96",
           "#ab63fa",
           "#FFA15A",
           "#19d3f3",
           "#FF6692",
           "#B6E880",
           "#FF97FF",
           "#FECB52"
          ],
          "font": {
           "color": "#2a3f5f"
          },
          "geo": {
           "bgcolor": "white",
           "lakecolor": "white",
           "landcolor": "#E5ECF6",
           "showlakes": true,
           "showland": true,
           "subunitcolor": "white"
          },
          "hoverlabel": {
           "align": "left"
          },
          "hovermode": "closest",
          "mapbox": {
           "style": "light"
          },
          "paper_bgcolor": "white",
          "plot_bgcolor": "#E5ECF6",
          "polar": {
           "angularaxis": {
            "gridcolor": "white",
            "linecolor": "white",
            "ticks": ""
           },
           "bgcolor": "#E5ECF6",
           "radialaxis": {
            "gridcolor": "white",
            "linecolor": "white",
            "ticks": ""
           }
          },
          "scene": {
           "xaxis": {
            "backgroundcolor": "#E5ECF6",
            "gridcolor": "white",
            "gridwidth": 2,
            "linecolor": "white",
            "showbackground": true,
            "ticks": "",
            "zerolinecolor": "white"
           },
           "yaxis": {
            "backgroundcolor": "#E5ECF6",
            "gridcolor": "white",
            "gridwidth": 2,
            "linecolor": "white",
            "showbackground": true,
            "ticks": "",
            "zerolinecolor": "white"
           },
           "zaxis": {
            "backgroundcolor": "#E5ECF6",
            "gridcolor": "white",
            "gridwidth": 2,
            "linecolor": "white",
            "showbackground": true,
            "ticks": "",
            "zerolinecolor": "white"
           }
          },
          "shapedefaults": {
           "line": {
            "color": "#2a3f5f"
           }
          },
          "ternary": {
           "aaxis": {
            "gridcolor": "white",
            "linecolor": "white",
            "ticks": ""
           },
           "baxis": {
            "gridcolor": "white",
            "linecolor": "white",
            "ticks": ""
           },
           "bgcolor": "#E5ECF6",
           "caxis": {
            "gridcolor": "white",
            "linecolor": "white",
            "ticks": ""
           }
          },
          "title": {
           "x": 0.05
          },
          "xaxis": {
           "automargin": true,
           "gridcolor": "white",
           "linecolor": "white",
           "ticks": "",
           "title": {
            "standoff": 15
           },
           "zerolinecolor": "white",
           "zerolinewidth": 2
          },
          "yaxis": {
           "automargin": true,
           "gridcolor": "white",
           "linecolor": "white",
           "ticks": "",
           "title": {
            "standoff": 15
           },
           "zerolinecolor": "white",
           "zerolinewidth": 2
          }
         }
        },
        "title": {
         "text": "Correlation"
        }
       }
      },
      "text/html": [
       "<div>                            <div id=\"62f64eba-590c-4e75-b318-0b62931ff77e\" class=\"plotly-graph-div\" style=\"height:525px; width:100%;\"></div>            <script type=\"text/javascript\">                require([\"plotly\"], function(Plotly) {                    window.PLOTLYENV=window.PLOTLYENV || {};                                    if (document.getElementById(\"62f64eba-590c-4e75-b318-0b62931ff77e\")) {                    Plotly.newPlot(                        \"62f64eba-590c-4e75-b318-0b62931ff77e\",                        [{\"x\":[\"capital-gains\",\"capital-loss\",\"incident_hour_of_the_day\",\"number_of_vehicles_involved\",\"bodily_injuries\",\"witnesses\",\"total_claim_amount\",\"injury_claim\",\"property_claim\",\"vehicle_claim\",\"auto_year\",\"fraud_reported\"],\"y\":[\"capital-gains\",\"capital-loss\",\"incident_hour_of_the_day\",\"number_of_vehicles_involved\",\"bodily_injuries\",\"witnesses\",\"total_claim_amount\",\"injury_claim\",\"property_claim\",\"vehicle_claim\",\"auto_year\",\"fraud_reported\"],\"z\":[[1.0,-0.04690444654009023,-0.016405612704074396,0.06164259934237781,0.055829194474678545,-0.017651375847817792,0.015980468068589083,0.025933696371508736,-0.0007790445414113306,0.015836196466461252,0.03139806185259973,-0.019172653691888912],[-0.04690444654009023,1.0,-0.0250537480514206,-0.014894936765822082,-0.024418153824373706,-0.04132987270040405,-0.03606030389185209,-0.04605990630975065,-0.022863440817917042,-0.0326650970430251,-0.0566150226554259,-0.014863103409694347],[-0.016405612704074396,-0.0250537480514206,1.0,0.12079426662323124,-0.03456318209998997,0.006526916000822264,0.2177023870325214,0.16576791045002612,0.17953586162350574,0.2156256330226426,0.021367617906016212,0.0043158505642057815],[0.06164259934237781,-0.014894936765822082,0.12079426662323124,1.0,0.014030113641081456,-0.014668684044923516,0.27427768265936986,0.22464992102091874,0.2190841119718898,0.2693930380014259,0.034553681456766024,0.05183867861498736],[0.055829194474678545,-0.024418153824373706,-0.03456318209998997,0.014030113641081456,1.0,-0.005605558277451288,0.047092935143762206,0.04731868943801604,0.03974936846720905,0.04344883187399806,-0.020527356530740146,0.033876760029153984],[-0.017651375847817792,-0.04132987270040405,0.006526916000822264,-0.014668684044923516,-0.005605558277451288,1.0,-0.011114187757315158,-0.024843475493272663,0.05264034683856342,-0.022563874954604178,0.04579146108177324,0.04949667970707168],[0.015980468068589083,-0.03606030389185209,0.2177023870325214,0.27427768265936986,0.047092935143762206,-0.011114187757315158,1.0,0.8050253630561807,0.810686495122973,0.9827731790805576,-0.03578093686270485,0.1636514890148044],[0.025933696371508736,-0.04605990630975065,0.16576791045002612,0.22464992102091874,0.04731868943801604,-0.024843475493272663,0.8050253630561807,1.0,0.5638659408577098,0.722877814857129,-0.013718057474875705,0.09097470078676086],[-0.0007790445414113306,-0.022863440817917042,0.17953586162350574,0.2190841119718898,0.03974936846720905,0.05264034683856342,0.810686495122973,0.5638659408577098,1.0,0.7320900444571772,-0.014507787063594763,0.13783514746520326],[0.015836196466461252,-0.0326650970430251,0.2156256330226426,0.2693930380014259,0.04344883187399806,-0.022563874954604178,0.9827731790805576,0.722877814857129,0.7320900444571772,1.0,-0.04276752612754668,0.17004909646695304],[0.03139806185259973,-0.0566150226554259,0.021367617906016212,0.034553681456766024,-0.020527356530740146,0.04579146108177324,-0.03578093686270485,-0.013718057474875705,-0.014507787063594763,-0.04276752612754668,1.0,0.007928216416270492],[-0.019172653691888912,-0.014863103409694347,0.0043158505642057815,0.05183867861498736,0.033876760029153984,0.04949667970707168,0.1636514890148044,0.09097470078676086,0.13783514746520326,0.17004909646695304,0.007928216416270492,1.0]],\"type\":\"heatmap\"}],                        {\"template\":{\"data\":{\"histogram2dcontour\":[{\"type\":\"histogram2dcontour\",\"colorbar\":{\"outlinewidth\":0,\"ticks\":\"\"},\"colorscale\":[[0.0,\"#0d0887\"],[0.1111111111111111,\"#46039f\"],[0.2222222222222222,\"#7201a8\"],[0.3333333333333333,\"#9c179e\"],[0.4444444444444444,\"#bd3786\"],[0.5555555555555556,\"#d8576b\"],[0.6666666666666666,\"#ed7953\"],[0.7777777777777778,\"#fb9f3a\"],[0.8888888888888888,\"#fdca26\"],[1.0,\"#f0f921\"]]}],\"choropleth\":[{\"type\":\"choropleth\",\"colorbar\":{\"outlinewidth\":0,\"ticks\":\"\"}}],\"histogram2d\":[{\"type\":\"histogram2d\",\"colorbar\":{\"outlinewidth\":0,\"ticks\":\"\"},\"colorscale\":[[0.0,\"#0d0887\"],[0.1111111111111111,\"#46039f\"],[0.2222222222222222,\"#7201a8\"],[0.3333333333333333,\"#9c179e\"],[0.4444444444444444,\"#bd3786\"],[0.5555555555555556,\"#d8576b\"],[0.6666666666666666,\"#ed7953\"],[0.7777777777777778,\"#fb9f3a\"],[0.8888888888888888,\"#fdca26\"],[1.0,\"#f0f921\"]]}],\"heatmap\":[{\"type\":\"heatmap\",\"colorbar\":{\"outlinewidth\":0,\"ticks\":\"\"},\"colorscale\":[[0.0,\"#0d0887\"],[0.1111111111111111,\"#46039f\"],[0.2222222222222222,\"#7201a8\"],[0.3333333333333333,\"#9c179e\"],[0.4444444444444444,\"#bd3786\"],[0.5555555555555556,\"#d8576b\"],[0.6666666666666666,\"#ed7953\"],[0.7777777777777778,\"#fb9f3a\"],[0.8888888888888888,\"#fdca26\"],[1.0,\"#f0f921\"]]}],\"heatmapgl\":[{\"type\":\"heatmapgl\",\"colorbar\":{\"outlinewidth\":0,\"ticks\":\"\"},\"colorscale\":[[0.0,\"#0d0887\"],[0.1111111111111111,\"#46039f\"],[0.2222222222222222,\"#7201a8\"],[0.3333333333333333,\"#9c179e\"],[0.4444444444444444,\"#bd3786\"],[0.5555555555555556,\"#d8576b\"],[0.6666666666666666,\"#ed7953\"],[0.7777777777777778,\"#fb9f3a\"],[0.8888888888888888,\"#fdca26\"],[1.0,\"#f0f921\"]]}],\"contourcarpet\":[{\"type\":\"contourcarpet\",\"colorbar\":{\"outlinewidth\":0,\"ticks\":\"\"}}],\"contour\":[{\"type\":\"contour\",\"colorbar\":{\"outlinewidth\":0,\"ticks\":\"\"},\"colorscale\":[[0.0,\"#0d0887\"],[0.1111111111111111,\"#46039f\"],[0.2222222222222222,\"#7201a8\"],[0.3333333333333333,\"#9c179e\"],[0.4444444444444444,\"#bd3786\"],[0.5555555555555556,\"#d8576b\"],[0.6666666666666666,\"#ed7953\"],[0.7777777777777778,\"#fb9f3a\"],[0.8888888888888888,\"#fdca26\"],[1.0,\"#f0f921\"]]}],\"surface\":[{\"type\":\"surface\",\"colorbar\":{\"outlinewidth\":0,\"ticks\":\"\"},\"colorscale\":[[0.0,\"#0d0887\"],[0.1111111111111111,\"#46039f\"],[0.2222222222222222,\"#7201a8\"],[0.3333333333333333,\"#9c179e\"],[0.4444444444444444,\"#bd3786\"],[0.5555555555555556,\"#d8576b\"],[0.6666666666666666,\"#ed7953\"],[0.7777777777777778,\"#fb9f3a\"],[0.8888888888888888,\"#fdca26\"],[1.0,\"#f0f921\"]]}],\"mesh3d\":[{\"type\":\"mesh3d\",\"colorbar\":{\"outlinewidth\":0,\"ticks\":\"\"}}],\"scatter\":[{\"fillpattern\":{\"fillmode\":\"overlay\",\"size\":10,\"solidity\":0.2},\"type\":\"scatter\"}],\"parcoords\":[{\"type\":\"parcoords\",\"line\":{\"colorbar\":{\"outlinewidth\":0,\"ticks\":\"\"}}}],\"scatterpolargl\":[{\"type\":\"scatterpolargl\",\"marker\":{\"colorbar\":{\"outlinewidth\":0,\"ticks\":\"\"}}}],\"bar\":[{\"error_x\":{\"color\":\"#2a3f5f\"},\"error_y\":{\"color\":\"#2a3f5f\"},\"marker\":{\"line\":{\"color\":\"#E5ECF6\",\"width\":0.5},\"pattern\":{\"fillmode\":\"overlay\",\"size\":10,\"solidity\":0.2}},\"type\":\"bar\"}],\"scattergeo\":[{\"type\":\"scattergeo\",\"marker\":{\"colorbar\":{\"outlinewidth\":0,\"ticks\":\"\"}}}],\"scatterpolar\":[{\"type\":\"scatterpolar\",\"marker\":{\"colorbar\":{\"outlinewidth\":0,\"ticks\":\"\"}}}],\"histogram\":[{\"marker\":{\"pattern\":{\"fillmode\":\"overlay\",\"size\":10,\"solidity\":0.2}},\"type\":\"histogram\"}],\"scattergl\":[{\"type\":\"scattergl\",\"marker\":{\"colorbar\":{\"outlinewidth\":0,\"ticks\":\"\"}}}],\"scatter3d\":[{\"type\":\"scatter3d\",\"line\":{\"colorbar\":{\"outlinewidth\":0,\"ticks\":\"\"}},\"marker\":{\"colorbar\":{\"outlinewidth\":0,\"ticks\":\"\"}}}],\"scattermapbox\":[{\"type\":\"scattermapbox\",\"marker\":{\"colorbar\":{\"outlinewidth\":0,\"ticks\":\"\"}}}],\"scatterternary\":[{\"type\":\"scatterternary\",\"marker\":{\"colorbar\":{\"outlinewidth\":0,\"ticks\":\"\"}}}],\"scattercarpet\":[{\"type\":\"scattercarpet\",\"marker\":{\"colorbar\":{\"outlinewidth\":0,\"ticks\":\"\"}}}],\"carpet\":[{\"aaxis\":{\"endlinecolor\":\"#2a3f5f\",\"gridcolor\":\"white\",\"linecolor\":\"white\",\"minorgridcolor\":\"white\",\"startlinecolor\":\"#2a3f5f\"},\"baxis\":{\"endlinecolor\":\"#2a3f5f\",\"gridcolor\":\"white\",\"linecolor\":\"white\",\"minorgridcolor\":\"white\",\"startlinecolor\":\"#2a3f5f\"},\"type\":\"carpet\"}],\"table\":[{\"cells\":{\"fill\":{\"color\":\"#EBF0F8\"},\"line\":{\"color\":\"white\"}},\"header\":{\"fill\":{\"color\":\"#C8D4E3\"},\"line\":{\"color\":\"white\"}},\"type\":\"table\"}],\"barpolar\":[{\"marker\":{\"line\":{\"color\":\"#E5ECF6\",\"width\":0.5},\"pattern\":{\"fillmode\":\"overlay\",\"size\":10,\"solidity\":0.2}},\"type\":\"barpolar\"}],\"pie\":[{\"automargin\":true,\"type\":\"pie\"}]},\"layout\":{\"autotypenumbers\":\"strict\",\"colorway\":[\"#636efa\",\"#EF553B\",\"#00cc96\",\"#ab63fa\",\"#FFA15A\",\"#19d3f3\",\"#FF6692\",\"#B6E880\",\"#FF97FF\",\"#FECB52\"],\"font\":{\"color\":\"#2a3f5f\"},\"hovermode\":\"closest\",\"hoverlabel\":{\"align\":\"left\"},\"paper_bgcolor\":\"white\",\"plot_bgcolor\":\"#E5ECF6\",\"polar\":{\"bgcolor\":\"#E5ECF6\",\"angularaxis\":{\"gridcolor\":\"white\",\"linecolor\":\"white\",\"ticks\":\"\"},\"radialaxis\":{\"gridcolor\":\"white\",\"linecolor\":\"white\",\"ticks\":\"\"}},\"ternary\":{\"bgcolor\":\"#E5ECF6\",\"aaxis\":{\"gridcolor\":\"white\",\"linecolor\":\"white\",\"ticks\":\"\"},\"baxis\":{\"gridcolor\":\"white\",\"linecolor\":\"white\",\"ticks\":\"\"},\"caxis\":{\"gridcolor\":\"white\",\"linecolor\":\"white\",\"ticks\":\"\"}},\"coloraxis\":{\"colorbar\":{\"outlinewidth\":0,\"ticks\":\"\"}},\"colorscale\":{\"sequential\":[[0.0,\"#0d0887\"],[0.1111111111111111,\"#46039f\"],[0.2222222222222222,\"#7201a8\"],[0.3333333333333333,\"#9c179e\"],[0.4444444444444444,\"#bd3786\"],[0.5555555555555556,\"#d8576b\"],[0.6666666666666666,\"#ed7953\"],[0.7777777777777778,\"#fb9f3a\"],[0.8888888888888888,\"#fdca26\"],[1.0,\"#f0f921\"]],\"sequentialminus\":[[0.0,\"#0d0887\"],[0.1111111111111111,\"#46039f\"],[0.2222222222222222,\"#7201a8\"],[0.3333333333333333,\"#9c179e\"],[0.4444444444444444,\"#bd3786\"],[0.5555555555555556,\"#d8576b\"],[0.6666666666666666,\"#ed7953\"],[0.7777777777777778,\"#fb9f3a\"],[0.8888888888888888,\"#fdca26\"],[1.0,\"#f0f921\"]],\"diverging\":[[0,\"#8e0152\"],[0.1,\"#c51b7d\"],[0.2,\"#de77ae\"],[0.3,\"#f1b6da\"],[0.4,\"#fde0ef\"],[0.5,\"#f7f7f7\"],[0.6,\"#e6f5d0\"],[0.7,\"#b8e186\"],[0.8,\"#7fbc41\"],[0.9,\"#4d9221\"],[1,\"#276419\"]]},\"xaxis\":{\"gridcolor\":\"white\",\"linecolor\":\"white\",\"ticks\":\"\",\"title\":{\"standoff\":15},\"zerolinecolor\":\"white\",\"automargin\":true,\"zerolinewidth\":2},\"yaxis\":{\"gridcolor\":\"white\",\"linecolor\":\"white\",\"ticks\":\"\",\"title\":{\"standoff\":15},\"zerolinecolor\":\"white\",\"automargin\":true,\"zerolinewidth\":2},\"scene\":{\"xaxis\":{\"backgroundcolor\":\"#E5ECF6\",\"gridcolor\":\"white\",\"linecolor\":\"white\",\"showbackground\":true,\"ticks\":\"\",\"zerolinecolor\":\"white\",\"gridwidth\":2},\"yaxis\":{\"backgroundcolor\":\"#E5ECF6\",\"gridcolor\":\"white\",\"linecolor\":\"white\",\"showbackground\":true,\"ticks\":\"\",\"zerolinecolor\":\"white\",\"gridwidth\":2},\"zaxis\":{\"backgroundcolor\":\"#E5ECF6\",\"gridcolor\":\"white\",\"linecolor\":\"white\",\"showbackground\":true,\"ticks\":\"\",\"zerolinecolor\":\"white\",\"gridwidth\":2}},\"shapedefaults\":{\"line\":{\"color\":\"#2a3f5f\"}},\"annotationdefaults\":{\"arrowcolor\":\"#2a3f5f\",\"arrowhead\":0,\"arrowwidth\":1},\"geo\":{\"bgcolor\":\"white\",\"landcolor\":\"#E5ECF6\",\"subunitcolor\":\"white\",\"showland\":true,\"showlakes\":true,\"lakecolor\":\"white\"},\"title\":{\"x\":0.05},\"mapbox\":{\"style\":\"light\"}}},\"title\":{\"text\":\"Correlation\"}},                        {\"responsive\": true}                    ).then(function(){\n",
       "                            \n",
       "var gd = document.getElementById('62f64eba-590c-4e75-b318-0b62931ff77e');\n",
       "var x = new MutationObserver(function (mutations, observer) {{\n",
       "        var display = window.getComputedStyle(gd).display;\n",
       "        if (!display || display === 'none') {{\n",
       "            console.log([gd, 'removed!']);\n",
       "            Plotly.purge(gd);\n",
       "            observer.disconnect();\n",
       "        }}\n",
       "}});\n",
       "\n",
       "// Listen for the removal of the full notebook cells\n",
       "var notebookContainer = gd.closest('#notebook-container');\n",
       "if (notebookContainer) {{\n",
       "    x.observe(notebookContainer, {childList: true});\n",
       "}}\n",
       "\n",
       "// Listen for the clearing of the current output cell\n",
       "var outputEl = gd.closest('.output');\n",
       "if (outputEl) {{\n",
       "    x.observe(outputEl, {childList: true});\n",
       "}}\n",
       "\n",
       "                        })                };                });            </script>        </div>"
      ]
     },
     "metadata": {},
     "output_type": "display_data"
    }
   ],
   "source": [
    "corr_matrix = df1.corr()\n",
    "\n",
    "fig = go.Figure(data = go.Heatmap(\n",
    "                                z = corr_matrix.values,\n",
    "                                x = list(corr_matrix.columns),\n",
    "                                y = list(corr_matrix.index)))\n",
    "\n",
    "fig.update_layout(title = 'Correlation')\n",
    "\n",
    "fig.show()"
   ]
  },
  {
   "cell_type": "code",
   "execution_count": 260,
   "metadata": {
    "colab": {
     "base_uri": "https://localhost:8080/"
    },
    "id": "AV2Kvn5cz9e_",
    "outputId": "c8856bbe-8705-413a-8198-5eac73eb97c7"
   },
   "outputs": [
    {
     "name": "stdout",
     "output_type": "stream",
     "text": [
      "<class 'pandas.core.frame.DataFrame'>\n",
      "RangeIndex: 1000 entries, 0 to 999\n",
      "Data columns (total 27 columns):\n",
      " #   Column                        Non-Null Count  Dtype         \n",
      "---  ------                        --------------  -----         \n",
      " 0   insured_sex                   1000 non-null   object        \n",
      " 1   insured_education_level       1000 non-null   object        \n",
      " 2   insured_occupation            1000 non-null   object        \n",
      " 3   insured_hobbies               1000 non-null   object        \n",
      " 4   insured_relationship          1000 non-null   object        \n",
      " 5   capital-gains                 1000 non-null   int64         \n",
      " 6   capital-loss                  1000 non-null   int64         \n",
      " 7   incident_date                 1000 non-null   datetime64[ns]\n",
      " 8   incident_type                 1000 non-null   object        \n",
      " 9   collision_type                1000 non-null   object        \n",
      " 10  incident_severity             1000 non-null   object        \n",
      " 11  authorities_contacted         1000 non-null   object        \n",
      " 12  incident_hour_of_the_day      1000 non-null   int64         \n",
      " 13  number_of_vehicles_involved   1000 non-null   int64         \n",
      " 14  property_damage               1000 non-null   object        \n",
      " 15  bodily_injuries               1000 non-null   int64         \n",
      " 16  witnesses                     1000 non-null   int64         \n",
      " 17  police_report_available       1000 non-null   object        \n",
      " 18  total_claim_amount            1000 non-null   int64         \n",
      " 19  auto_make                     1000 non-null   object        \n",
      " 20  auto_model                    1000 non-null   object        \n",
      " 21  auto_year                     1000 non-null   int64         \n",
      " 22  fraud_reported                1000 non-null   int32         \n",
      " 23  age_groups                    1000 non-null   category      \n",
      " 24  months_as_customer_groups     1000 non-null   category      \n",
      " 25  policy_annual_premium_groups  1000 non-null   category      \n",
      " 26  policy_deductable_groups      1000 non-null   category      \n",
      "dtypes: category(4), datetime64[ns](1), int32(1), int64(8), object(13)\n",
      "memory usage: 181.0+ KB\n"
     ]
    }
   ],
   "source": [
    "#akan dibuang injury_claim, property_claim, dan vehicle_claim karena memiliki korelasi yang tinggi\n",
    "df1 = df1.drop(['injury_claim','property_claim', 'vehicle_claim'],axis=1)\n",
    "df1.info()"
   ]
  },
  {
   "cell_type": "code",
   "execution_count": 261,
   "metadata": {},
   "outputs": [
    {
     "data": {
      "text/html": [
       "<div>\n",
       "<style scoped>\n",
       "    .dataframe tbody tr th:only-of-type {\n",
       "        vertical-align: middle;\n",
       "    }\n",
       "\n",
       "    .dataframe tbody tr th {\n",
       "        vertical-align: top;\n",
       "    }\n",
       "\n",
       "    .dataframe thead th {\n",
       "        text-align: right;\n",
       "    }\n",
       "</style>\n",
       "<table border=\"1\" class=\"dataframe\">\n",
       "  <thead>\n",
       "    <tr style=\"text-align: right;\">\n",
       "      <th></th>\n",
       "      <th>insured_sex</th>\n",
       "      <th>insured_education_level</th>\n",
       "      <th>insured_occupation</th>\n",
       "      <th>insured_hobbies</th>\n",
       "      <th>insured_relationship</th>\n",
       "      <th>capital-gains</th>\n",
       "      <th>capital-loss</th>\n",
       "      <th>incident_date</th>\n",
       "      <th>incident_type</th>\n",
       "      <th>collision_type</th>\n",
       "      <th>...</th>\n",
       "      <th>police_report_available</th>\n",
       "      <th>total_claim_amount</th>\n",
       "      <th>auto_make</th>\n",
       "      <th>auto_model</th>\n",
       "      <th>auto_year</th>\n",
       "      <th>fraud_reported</th>\n",
       "      <th>age_groups</th>\n",
       "      <th>months_as_customer_groups</th>\n",
       "      <th>policy_annual_premium_groups</th>\n",
       "      <th>policy_deductable_groups</th>\n",
       "    </tr>\n",
       "  </thead>\n",
       "  <tbody>\n",
       "    <tr>\n",
       "      <th>0</th>\n",
       "      <td>MALE</td>\n",
       "      <td>MD</td>\n",
       "      <td>craft-repair</td>\n",
       "      <td>other</td>\n",
       "      <td>husband</td>\n",
       "      <td>53300</td>\n",
       "      <td>0</td>\n",
       "      <td>2015-01-25</td>\n",
       "      <td>Single Vehicle Collision</td>\n",
       "      <td>Side Collision</td>\n",
       "      <td>...</td>\n",
       "      <td>YES</td>\n",
       "      <td>71610</td>\n",
       "      <td>Saab</td>\n",
       "      <td>92x</td>\n",
       "      <td>2004</td>\n",
       "      <td>1</td>\n",
       "      <td>46-50</td>\n",
       "      <td>301-350</td>\n",
       "      <td>medium</td>\n",
       "      <td>501-1000</td>\n",
       "    </tr>\n",
       "    <tr>\n",
       "      <th>1</th>\n",
       "      <td>MALE</td>\n",
       "      <td>MD</td>\n",
       "      <td>machine-op-inspct</td>\n",
       "      <td>other</td>\n",
       "      <td>other-relative</td>\n",
       "      <td>0</td>\n",
       "      <td>0</td>\n",
       "      <td>2015-01-21</td>\n",
       "      <td>Vehicle Theft</td>\n",
       "      <td>Rear Collision</td>\n",
       "      <td>...</td>\n",
       "      <td>NO</td>\n",
       "      <td>5070</td>\n",
       "      <td>Mercedes</td>\n",
       "      <td>E400</td>\n",
       "      <td>2007</td>\n",
       "      <td>1</td>\n",
       "      <td>41-45</td>\n",
       "      <td>201-250</td>\n",
       "      <td>medium</td>\n",
       "      <td>1501-2000</td>\n",
       "    </tr>\n",
       "    <tr>\n",
       "      <th>2</th>\n",
       "      <td>FEMALE</td>\n",
       "      <td>PhD</td>\n",
       "      <td>sales</td>\n",
       "      <td>other</td>\n",
       "      <td>own-child</td>\n",
       "      <td>35100</td>\n",
       "      <td>0</td>\n",
       "      <td>2015-02-22</td>\n",
       "      <td>Multi-vehicle Collision</td>\n",
       "      <td>Rear Collision</td>\n",
       "      <td>...</td>\n",
       "      <td>NO</td>\n",
       "      <td>34650</td>\n",
       "      <td>Dodge</td>\n",
       "      <td>RAM</td>\n",
       "      <td>2007</td>\n",
       "      <td>0</td>\n",
       "      <td>26-30</td>\n",
       "      <td>101-150</td>\n",
       "      <td>medium</td>\n",
       "      <td>1501-2000</td>\n",
       "    </tr>\n",
       "    <tr>\n",
       "      <th>3</th>\n",
       "      <td>FEMALE</td>\n",
       "      <td>PhD</td>\n",
       "      <td>armed-forces</td>\n",
       "      <td>other</td>\n",
       "      <td>unmarried</td>\n",
       "      <td>48900</td>\n",
       "      <td>-62400</td>\n",
       "      <td>2015-01-10</td>\n",
       "      <td>Single Vehicle Collision</td>\n",
       "      <td>Front Collision</td>\n",
       "      <td>...</td>\n",
       "      <td>NO</td>\n",
       "      <td>63400</td>\n",
       "      <td>Chevrolet</td>\n",
       "      <td>Tahoe</td>\n",
       "      <td>2014</td>\n",
       "      <td>1</td>\n",
       "      <td>41-45</td>\n",
       "      <td>251-300</td>\n",
       "      <td>medium</td>\n",
       "      <td>1501-2000</td>\n",
       "    </tr>\n",
       "    <tr>\n",
       "      <th>4</th>\n",
       "      <td>MALE</td>\n",
       "      <td>Associate</td>\n",
       "      <td>sales</td>\n",
       "      <td>other</td>\n",
       "      <td>unmarried</td>\n",
       "      <td>66000</td>\n",
       "      <td>-46000</td>\n",
       "      <td>2015-02-17</td>\n",
       "      <td>Vehicle Theft</td>\n",
       "      <td>Rear Collision</td>\n",
       "      <td>...</td>\n",
       "      <td>NO</td>\n",
       "      <td>6500</td>\n",
       "      <td>Accura</td>\n",
       "      <td>RSX</td>\n",
       "      <td>2009</td>\n",
       "      <td>0</td>\n",
       "      <td>41-45</td>\n",
       "      <td>201-250</td>\n",
       "      <td>high</td>\n",
       "      <td>501-1000</td>\n",
       "    </tr>\n",
       "  </tbody>\n",
       "</table>\n",
       "<p>5 rows × 27 columns</p>\n",
       "</div>"
      ],
      "text/plain": [
       "  insured_sex insured_education_level insured_occupation insured_hobbies  \\\n",
       "0        MALE                      MD       craft-repair           other   \n",
       "1        MALE                      MD  machine-op-inspct           other   \n",
       "2      FEMALE                     PhD              sales           other   \n",
       "3      FEMALE                     PhD       armed-forces           other   \n",
       "4        MALE               Associate              sales           other   \n",
       "\n",
       "  insured_relationship  capital-gains  capital-loss incident_date  \\\n",
       "0              husband          53300             0    2015-01-25   \n",
       "1       other-relative              0             0    2015-01-21   \n",
       "2            own-child          35100             0    2015-02-22   \n",
       "3            unmarried          48900        -62400    2015-01-10   \n",
       "4            unmarried          66000        -46000    2015-02-17   \n",
       "\n",
       "              incident_type   collision_type  ... police_report_available  \\\n",
       "0  Single Vehicle Collision   Side Collision  ...                     YES   \n",
       "1             Vehicle Theft   Rear Collision  ...                      NO   \n",
       "2   Multi-vehicle Collision   Rear Collision  ...                      NO   \n",
       "3  Single Vehicle Collision  Front Collision  ...                      NO   \n",
       "4             Vehicle Theft   Rear Collision  ...                      NO   \n",
       "\n",
       "  total_claim_amount  auto_make  auto_model auto_year  fraud_reported  \\\n",
       "0              71610       Saab         92x      2004               1   \n",
       "1               5070   Mercedes        E400      2007               1   \n",
       "2              34650      Dodge         RAM      2007               0   \n",
       "3              63400  Chevrolet       Tahoe      2014               1   \n",
       "4               6500     Accura         RSX      2009               0   \n",
       "\n",
       "   age_groups months_as_customer_groups  policy_annual_premium_groups  \\\n",
       "0       46-50                   301-350                        medium   \n",
       "1       41-45                   201-250                        medium   \n",
       "2       26-30                   101-150                        medium   \n",
       "3       41-45                   251-300                        medium   \n",
       "4       41-45                   201-250                          high   \n",
       "\n",
       "  policy_deductable_groups  \n",
       "0                 501-1000  \n",
       "1                1501-2000  \n",
       "2                1501-2000  \n",
       "3                1501-2000  \n",
       "4                 501-1000  \n",
       "\n",
       "[5 rows x 27 columns]"
      ]
     },
     "execution_count": 261,
     "metadata": {},
     "output_type": "execute_result"
    }
   ],
   "source": [
    "df1.head()"
   ]
  },
  {
   "cell_type": "code",
   "execution_count": 262,
   "metadata": {},
   "outputs": [],
   "source": [
    "# Define the number of rows to include in the head\n",
    "num_rows = 5\n",
    "\n",
    "# Save the head of the DataFrame as a CSV file\n",
    "df1.head(num_rows).to_csv('head.csv', index=False)"
   ]
  },
  {
   "cell_type": "markdown",
   "metadata": {
    "id": "ToLdOgRIbfSH"
   },
   "source": [
    " **Categorical Encoding**"
   ]
  },
  {
   "cell_type": "code",
   "execution_count": 263,
   "metadata": {
    "colab": {
     "base_uri": "https://localhost:8080/",
     "height": 317
    },
    "id": "uGpbV3fhbegs",
    "outputId": "8254b361-3a52-4a7a-a760-0a10c2d4a49b"
   },
   "outputs": [
    {
     "name": "stderr",
     "output_type": "stream",
     "text": [
      "D:\\Anaconda\\lib\\site-packages\\sklearn\\base.py:450: UserWarning:\n",
      "\n",
      "X does not have valid feature names, but OneHotEncoder was fitted with feature names\n",
      "\n",
      "D:\\Anaconda\\lib\\site-packages\\sklearn\\base.py:450: UserWarning:\n",
      "\n",
      "X does not have valid feature names, but OneHotEncoder was fitted with feature names\n",
      "\n",
      "D:\\Anaconda\\lib\\site-packages\\sklearn\\base.py:450: UserWarning:\n",
      "\n",
      "X does not have valid feature names, but OneHotEncoder was fitted with feature names\n",
      "\n",
      "D:\\Anaconda\\lib\\site-packages\\sklearn\\base.py:450: UserWarning:\n",
      "\n",
      "X does not have valid feature names, but OneHotEncoder was fitted with feature names\n",
      "\n",
      "D:\\Anaconda\\lib\\site-packages\\sklearn\\base.py:450: UserWarning:\n",
      "\n",
      "X does not have valid feature names, but OneHotEncoder was fitted with feature names\n",
      "\n",
      "D:\\Anaconda\\lib\\site-packages\\sklearn\\base.py:450: UserWarning:\n",
      "\n",
      "X does not have valid feature names, but OneHotEncoder was fitted with feature names\n",
      "\n",
      "D:\\Anaconda\\lib\\site-packages\\sklearn\\base.py:450: UserWarning:\n",
      "\n",
      "X does not have valid feature names, but OneHotEncoder was fitted with feature names\n",
      "\n",
      "D:\\Anaconda\\lib\\site-packages\\sklearn\\base.py:450: UserWarning:\n",
      "\n",
      "X does not have valid feature names, but OneHotEncoder was fitted with feature names\n",
      "\n",
      "D:\\Anaconda\\lib\\site-packages\\sklearn\\base.py:450: UserWarning:\n",
      "\n",
      "X does not have valid feature names, but OneHotEncoder was fitted with feature names\n",
      "\n",
      "D:\\Anaconda\\lib\\site-packages\\sklearn\\base.py:450: UserWarning:\n",
      "\n",
      "X does not have valid feature names, but OneHotEncoder was fitted with feature names\n",
      "\n",
      "D:\\Anaconda\\lib\\site-packages\\sklearn\\base.py:450: UserWarning:\n",
      "\n",
      "X does not have valid feature names, but OneHotEncoder was fitted with feature names\n",
      "\n",
      "D:\\Anaconda\\lib\\site-packages\\sklearn\\base.py:450: UserWarning:\n",
      "\n",
      "X does not have valid feature names, but OneHotEncoder was fitted with feature names\n",
      "\n",
      "D:\\Anaconda\\lib\\site-packages\\sklearn\\base.py:450: UserWarning:\n",
      "\n",
      "X does not have valid feature names, but OneHotEncoder was fitted with feature names\n",
      "\n",
      "C:\\Users\\USER-HP\\AppData\\Local\\Temp\\ipykernel_26132\\1266653903.py:27: SettingWithCopyWarning:\n",
      "\n",
      "\n",
      "A value is trying to be set on a copy of a slice from a DataFrame.\n",
      "Try using .loc[row_indexer,col_indexer] = value instead\n",
      "\n",
      "See the caveats in the documentation: https://pandas.pydata.org/pandas-docs/stable/user_guide/indexing.html#returning-a-view-versus-a-copy\n",
      "\n",
      "C:\\Users\\USER-HP\\AppData\\Local\\Temp\\ipykernel_26132\\1266653903.py:30: SettingWithCopyWarning:\n",
      "\n",
      "\n",
      "A value is trying to be set on a copy of a slice from a DataFrame.\n",
      "Try using .loc[row_indexer,col_indexer] = value instead\n",
      "\n",
      "See the caveats in the documentation: https://pandas.pydata.org/pandas-docs/stable/user_guide/indexing.html#returning-a-view-versus-a-copy\n",
      "\n"
     ]
    },
    {
     "data": {
      "text/html": [
       "<div>\n",
       "<style scoped>\n",
       "    .dataframe tbody tr th:only-of-type {\n",
       "        vertical-align: middle;\n",
       "    }\n",
       "\n",
       "    .dataframe tbody tr th {\n",
       "        vertical-align: top;\n",
       "    }\n",
       "\n",
       "    .dataframe thead th {\n",
       "        text-align: right;\n",
       "    }\n",
       "</style>\n",
       "<table border=\"1\" class=\"dataframe\">\n",
       "  <thead>\n",
       "    <tr style=\"text-align: right;\">\n",
       "      <th></th>\n",
       "      <th>capital-gains</th>\n",
       "      <th>capital-loss</th>\n",
       "      <th>incident_date</th>\n",
       "      <th>incident_hour_of_the_day</th>\n",
       "      <th>number_of_vehicles_involved</th>\n",
       "      <th>bodily_injuries</th>\n",
       "      <th>witnesses</th>\n",
       "      <th>total_claim_amount</th>\n",
       "      <th>auto_year</th>\n",
       "      <th>fraud_reported</th>\n",
       "      <th>...</th>\n",
       "      <th>auto_model_Pathfinder</th>\n",
       "      <th>auto_model_RAM</th>\n",
       "      <th>auto_model_RSX</th>\n",
       "      <th>auto_model_Silverado</th>\n",
       "      <th>auto_model_TL</th>\n",
       "      <th>auto_model_Tahoe</th>\n",
       "      <th>auto_model_Ultima</th>\n",
       "      <th>auto_model_Wrangler</th>\n",
       "      <th>auto_model_X5</th>\n",
       "      <th>auto_model_X6</th>\n",
       "    </tr>\n",
       "  </thead>\n",
       "  <tbody>\n",
       "    <tr>\n",
       "      <th>0</th>\n",
       "      <td>53300</td>\n",
       "      <td>0</td>\n",
       "      <td>2015-01-25</td>\n",
       "      <td>5</td>\n",
       "      <td>1</td>\n",
       "      <td>1</td>\n",
       "      <td>2</td>\n",
       "      <td>71610</td>\n",
       "      <td>2004</td>\n",
       "      <td>1</td>\n",
       "      <td>...</td>\n",
       "      <td>0.0</td>\n",
       "      <td>0.0</td>\n",
       "      <td>0.0</td>\n",
       "      <td>0.0</td>\n",
       "      <td>0.0</td>\n",
       "      <td>0.0</td>\n",
       "      <td>0.0</td>\n",
       "      <td>0.0</td>\n",
       "      <td>0.0</td>\n",
       "      <td>0.0</td>\n",
       "    </tr>\n",
       "    <tr>\n",
       "      <th>1</th>\n",
       "      <td>0</td>\n",
       "      <td>0</td>\n",
       "      <td>2015-01-21</td>\n",
       "      <td>8</td>\n",
       "      <td>1</td>\n",
       "      <td>0</td>\n",
       "      <td>0</td>\n",
       "      <td>5070</td>\n",
       "      <td>2007</td>\n",
       "      <td>1</td>\n",
       "      <td>...</td>\n",
       "      <td>0.0</td>\n",
       "      <td>0.0</td>\n",
       "      <td>0.0</td>\n",
       "      <td>0.0</td>\n",
       "      <td>0.0</td>\n",
       "      <td>0.0</td>\n",
       "      <td>0.0</td>\n",
       "      <td>0.0</td>\n",
       "      <td>0.0</td>\n",
       "      <td>0.0</td>\n",
       "    </tr>\n",
       "    <tr>\n",
       "      <th>2</th>\n",
       "      <td>35100</td>\n",
       "      <td>0</td>\n",
       "      <td>2015-02-22</td>\n",
       "      <td>7</td>\n",
       "      <td>3</td>\n",
       "      <td>2</td>\n",
       "      <td>3</td>\n",
       "      <td>34650</td>\n",
       "      <td>2007</td>\n",
       "      <td>0</td>\n",
       "      <td>...</td>\n",
       "      <td>0.0</td>\n",
       "      <td>1.0</td>\n",
       "      <td>0.0</td>\n",
       "      <td>0.0</td>\n",
       "      <td>0.0</td>\n",
       "      <td>0.0</td>\n",
       "      <td>0.0</td>\n",
       "      <td>0.0</td>\n",
       "      <td>0.0</td>\n",
       "      <td>0.0</td>\n",
       "    </tr>\n",
       "    <tr>\n",
       "      <th>3</th>\n",
       "      <td>48900</td>\n",
       "      <td>-62400</td>\n",
       "      <td>2015-01-10</td>\n",
       "      <td>5</td>\n",
       "      <td>1</td>\n",
       "      <td>1</td>\n",
       "      <td>2</td>\n",
       "      <td>63400</td>\n",
       "      <td>2014</td>\n",
       "      <td>1</td>\n",
       "      <td>...</td>\n",
       "      <td>0.0</td>\n",
       "      <td>0.0</td>\n",
       "      <td>0.0</td>\n",
       "      <td>0.0</td>\n",
       "      <td>0.0</td>\n",
       "      <td>1.0</td>\n",
       "      <td>0.0</td>\n",
       "      <td>0.0</td>\n",
       "      <td>0.0</td>\n",
       "      <td>0.0</td>\n",
       "    </tr>\n",
       "    <tr>\n",
       "      <th>4</th>\n",
       "      <td>66000</td>\n",
       "      <td>-46000</td>\n",
       "      <td>2015-02-17</td>\n",
       "      <td>20</td>\n",
       "      <td>1</td>\n",
       "      <td>0</td>\n",
       "      <td>1</td>\n",
       "      <td>6500</td>\n",
       "      <td>2009</td>\n",
       "      <td>0</td>\n",
       "      <td>...</td>\n",
       "      <td>0.0</td>\n",
       "      <td>0.0</td>\n",
       "      <td>1.0</td>\n",
       "      <td>0.0</td>\n",
       "      <td>0.0</td>\n",
       "      <td>0.0</td>\n",
       "      <td>0.0</td>\n",
       "      <td>0.0</td>\n",
       "      <td>0.0</td>\n",
       "      <td>0.0</td>\n",
       "    </tr>\n",
       "  </tbody>\n",
       "</table>\n",
       "<p>5 rows × 119 columns</p>\n",
       "</div>"
      ],
      "text/plain": [
       "   capital-gains  capital-loss incident_date  incident_hour_of_the_day  \\\n",
       "0          53300             0    2015-01-25                         5   \n",
       "1              0             0    2015-01-21                         8   \n",
       "2          35100             0    2015-02-22                         7   \n",
       "3          48900        -62400    2015-01-10                         5   \n",
       "4          66000        -46000    2015-02-17                        20   \n",
       "\n",
       "   number_of_vehicles_involved  bodily_injuries  witnesses  \\\n",
       "0                            1                1          2   \n",
       "1                            1                0          0   \n",
       "2                            3                2          3   \n",
       "3                            1                1          2   \n",
       "4                            1                0          1   \n",
       "\n",
       "   total_claim_amount  auto_year  fraud_reported  ...  auto_model_Pathfinder  \\\n",
       "0               71610       2004               1  ...                    0.0   \n",
       "1                5070       2007               1  ...                    0.0   \n",
       "2               34650       2007               0  ...                    0.0   \n",
       "3               63400       2014               1  ...                    0.0   \n",
       "4                6500       2009               0  ...                    0.0   \n",
       "\n",
       "   auto_model_RAM  auto_model_RSX  auto_model_Silverado  auto_model_TL  \\\n",
       "0             0.0             0.0                   0.0            0.0   \n",
       "1             0.0             0.0                   0.0            0.0   \n",
       "2             1.0             0.0                   0.0            0.0   \n",
       "3             0.0             0.0                   0.0            0.0   \n",
       "4             0.0             1.0                   0.0            0.0   \n",
       "\n",
       "   auto_model_Tahoe  auto_model_Ultima  auto_model_Wrangler  auto_model_X5  \\\n",
       "0               0.0                0.0                  0.0            0.0   \n",
       "1               0.0                0.0                  0.0            0.0   \n",
       "2               0.0                0.0                  0.0            0.0   \n",
       "3               1.0                0.0                  0.0            0.0   \n",
       "4               0.0                0.0                  0.0            0.0   \n",
       "\n",
       "   auto_model_X6  \n",
       "0            0.0  \n",
       "1            0.0  \n",
       "2            0.0  \n",
       "3            0.0  \n",
       "4            0.0  \n",
       "\n",
       "[5 rows x 119 columns]"
      ]
     },
     "execution_count": 263,
     "metadata": {},
     "output_type": "execute_result"
    }
   ],
   "source": [
    "from sklearn.preprocessing import LabelEncoder\n",
    "label_encoder = LabelEncoder()\n",
    "for i in df1.columns:\n",
    "  if df1[i].dtype == 'category' :\n",
    "    df1[i] = label_encoder.fit_transform(df_new[i])\n",
    "    \n",
    "from sklearn.preprocessing import OneHotEncoder\n",
    "ohe = OneHotEncoder(handle_unknown='ignore')\n",
    "for i in df1.columns:\n",
    "  if df1[i].dtype == object :\n",
    "    # Fit the encoder to the column data\n",
    "    ohe.fit(df1[[i]])\n",
    "    \n",
    "    # Reshape the column data to a 2-dimensional array\n",
    "    col_data = df1[i].values.reshape(-1, 1)\n",
    "    \n",
    "    # Transform the column data and add it to the DataFrame as new columns\n",
    "    new_cols = ohe.transform(col_data).toarray()\n",
    "    for j, col_name in enumerate(ohe.get_feature_names_out([i])):\n",
    "        df1[col_name] = new_cols[:, j]\n",
    "    \n",
    "# Drop the original object type column\n",
    "df1 = df1.drop(df1.select_dtypes(include=['object']), axis=1)\n",
    "\n",
    "# Filter the data based on a date before February 20, 2021\n",
    "df_mod = df1[df1['incident_date'] <= '2015-02-20']\n",
    "df_mod['incident_date'] = label_encoder.fit_transform(df_mod['incident_date'])\n",
    "# df_mod = df_mod.drop('incident_date',axis=1)\n",
    "df_act = df1[df1['incident_date'] > '2015-02-20']\n",
    "df_act['incident_date'] = label_encoder.fit_transform(df_act['incident_date'])\n",
    "# df_act = df_act.drop('incident_date',axis=1)\n",
    "\n",
    "df1.head()"
   ]
  },
  {
   "cell_type": "markdown",
   "metadata": {
    "id": "B0HqMPi4cYPF"
   },
   "source": [
    "Chi-Squared Test"
   ]
  },
  {
   "cell_type": "code",
   "execution_count": 264,
   "metadata": {
    "colab": {
     "base_uri": "https://localhost:8080/"
    },
    "id": "Icw_9-sLcbhK",
    "outputId": "82e0a641-1d80-4eef-d4fd-a454ef61540a"
   },
   "outputs": [],
   "source": [
    "# from scipy.stats import chi2_contingency\n",
    "# X = df1.drop(['fraud_reported','capital-gains','capital-loss'],axis=1)\n",
    "# y = df1['fraud_reported']\n",
    "\n",
    "# # Perform chi-square test on OHE-encoded features\n",
    "# ohe_features = [col for col in X.columns if X[col].nunique() > 2]\n",
    "# ohe_pvals = []\n",
    "# for feature in ohe_features:\n",
    "#     contingency_table = pd.crosstab(X[feature], y)\n",
    "#     chi2, pval, dof, expected = chi2_contingency(contingency_table)\n",
    "#     ohe_pvals.append(pval)\n",
    "\n",
    "        \n",
    "# # Perform chi-square test on label-encoded features\n",
    "# label_features = [col for col in X.columns if X[col].nunique() == 2]\n",
    "# label_pvals = []\n",
    "# for feature in label_features:\n",
    "#     contingency_table = pd.crosstab(X[feature], y)\n",
    "#     chi2, pval, dof, expected = chi2_contingency(contingency_table)\n",
    "#     label_pvals.append(pval)\n",
    "        \n",
    "# # Combine p-values for all features\n",
    "# all_pvals = ohe_pvals + label_pvals\n",
    "\n",
    "# # Select significant features based on p-values\n",
    "# sig_features = [X.columns[i] for i in range(len(all_pvals)) if all_pvals[i] < 0.05]\n",
    "\n",
    "# print(sig_features)"
   ]
  },
  {
   "cell_type": "code",
   "execution_count": 265,
   "metadata": {
    "id": "Do5wGykKLt_k"
   },
   "outputs": [],
   "source": [
    "# #membuang kolom-kolom dgn nilai p-value yang tinggi\n",
    "# for i in X.columns:\n",
    "#     if i not in sig_features:\n",
    "#         df1 = df1.drop([i],axis=1)\n",
    "# df1.info()"
   ]
  },
  {
   "cell_type": "markdown",
   "metadata": {
    "id": "OzZlQQ9-XbYg"
   },
   "source": [
    "**Feature Scaling**\n"
   ]
  },
  {
   "cell_type": "code",
   "execution_count": 266,
   "metadata": {
    "id": "ocZgiItjX-lc"
   },
   "outputs": [],
   "source": [
    "features = []\n",
    "for col in df_mod.columns:\n",
    "  if col != 'fraud_reported':\n",
    "    features.append(col)\n",
    "\n",
    "target = 'fraud_reported'\n",
    "\n",
    "X_mod= df_mod[features]\n",
    "X_act= df_act[features]\n",
    "y = df_mod[target]\n",
    "y_act = df_act[target]"
   ]
  },
  {
   "cell_type": "code",
   "execution_count": 267,
   "metadata": {
    "id": "pN_9a6bbXZp4"
   },
   "outputs": [],
   "source": [
    "# from sklearn.preprocessing import StandardScaler\n",
    "\n",
    "# sc = StandardScaler()\n",
    "# X_mod = sc.fit_transform(X_mod)\n",
    "# X_act = sc.fit_transform(X_act)"
   ]
  },
  {
   "cell_type": "markdown",
   "metadata": {
    "id": "tFCKoGthXlot"
   },
   "source": [
    "# **Modelling**\n"
   ]
  },
  {
   "cell_type": "markdown",
   "metadata": {
    "id": "ooUZlFSeK93S"
   },
   "source": [
    "# Modelling AdaBoost"
   ]
  },
  {
   "cell_type": "code",
   "execution_count": 268,
   "metadata": {
    "id": "_yY7CSN3YTk8"
   },
   "outputs": [],
   "source": [
    "#Importing AdaBoost Classifier\n",
    "from sklearn.ensemble import AdaBoostClassifier\n",
    "from sklearn.tree import DecisionTreeClassifier\n",
    "#train test split\n",
    "from sklearn.model_selection import train_test_split\n",
    "#metrics\n",
    "from sklearn import metrics\n",
    "#Library KFold CV\n",
    "from sklearn.model_selection import StratifiedKFold\n",
    "from sklearn.model_selection import GridSearchCV"
   ]
  },
  {
   "cell_type": "code",
   "execution_count": 269,
   "metadata": {},
   "outputs": [],
   "source": [
    "i = 12428"
   ]
  },
  {
   "cell_type": "code",
   "execution_count": 270,
   "metadata": {
    "id": "4RH6lqaFYTrd"
   },
   "outputs": [],
   "source": [
    "# %%time \n",
    "# Acc_AB=[]\n",
    "# F1_AB=[]\n",
    "# for i in range(1,1000):\n",
    "#   train_x,test_x,train_y,test_y = train_test_split(X_mod,y,random_state=i,stratify=y,test_size=0.3,train_size=0.7)\n",
    "#   ab_clf = AdaBoostClassifier()\n",
    "#   model = ab_clf.fit(train_x,train_y)\n",
    "#   y_pred = model.predict(test_x)\n",
    "#   y_pred_proba = model.predict_proba(test_x)\n",
    "#   Accuracy = metrics.accuracy_score(test_y,y_pred)\n",
    "#   F1_score = metrics.f1_score(test_y,y_pred)\n",
    "#   Acc_AB.append(Accuracy)\n",
    "#   F1_AB.append(F1_score)\n",
    "\n",
    "# confusion_matrix = metrics.confusion_matrix(test_y,y_pred)\n",
    "# confusion_matrix"
   ]
  },
  {
   "cell_type": "code",
   "execution_count": 271,
   "metadata": {
    "colab": {
     "base_uri": "https://localhost:8080/",
     "height": 282
    },
    "id": "u-SY9XAMxTFN",
    "outputId": "3174cf0c-cea8-4b45-c449-e5efe97ed191",
    "scrolled": true
   },
   "outputs": [],
   "source": [
    "# sns.histplot(data=Acc_AB)"
   ]
  },
  {
   "cell_type": "code",
   "execution_count": 272,
   "metadata": {
    "colab": {
     "base_uri": "https://localhost:8080/",
     "height": 282
    },
    "id": "pIqx0jTOyEEn",
    "outputId": "1993d0f2-ffe3-417f-bf46-d2d29e61bdff"
   },
   "outputs": [],
   "source": [
    "# sns.histplot(data=F1_AB)"
   ]
  },
  {
   "cell_type": "markdown",
   "metadata": {
    "id": "PQ5Vci5ragGN"
   },
   "source": [
    "Hyperparameter Tuning AdaBoost"
   ]
  },
  {
   "cell_type": "code",
   "execution_count": 273,
   "metadata": {
    "colab": {
     "base_uri": "https://localhost:8080/"
    },
    "id": "_JF0ZAhjLIvu",
    "outputId": "9af24b52-bc08-40a0-9c90-38017cc0aac0",
    "scrolled": false
   },
   "outputs": [],
   "source": [
    "# %%time\n",
    "\n",
    "# train_x,test_x,train_y,test_y = train_test_split(X,y,random_state=1,stratify=y,test_size=0.3,train_size=0.7)\n",
    "# clf = AdaBoostClassifier()\n",
    "# grid = dict()\n",
    "# base_estimator = []\n",
    "# base_estimator_dict = {}\n",
    "# for i in range(1,100,10):\n",
    "#   base_estimator.append(DecisionTreeClassifier(max_depth=i))\n",
    "#   base_estimator_dict['DecisionTreeClassifier(max_depth='+ str(i)+')'] = i   \n",
    "    \n",
    "# grid['n_estimators'] = range(1,1000,100)\n",
    "# grid['learning_rate'] = [0.1, 0.01, 0.05]\n",
    "# grid['base_estimator']= base_estimator\n",
    "\n",
    "# cv=StratifiedKFold(n_splits=10)\n",
    "# grid_search = GridSearchCV(estimator=clf, param_grid=grid, n_jobs=-1, cv=cv, scoring='f1')\n",
    "# grid_result = grid_search.fit(train_x,train_y)\n",
    "\n",
    "\n",
    "# print(\"Best: %f using %s\" % (grid_result.best_score_, grid_result.best_params_))\n",
    "# grid_result.best_params_"
   ]
  },
  {
   "cell_type": "code",
   "execution_count": 274,
   "metadata": {},
   "outputs": [],
   "source": [
    "# # Extract the relevant information from cv_results_\n",
    "# results_dict = {'n_estimators': [], 'learning_rate': [],'base_estimator': [], 'mean_test_score': []}\n",
    "\n",
    "# for i, params in enumerate(grid_search.cv_results_['params']):\n",
    "#     results_dict['n_estimators'].append(params['n_estimators'])\n",
    "#     results_dict['learning_rate'].append(params['learning_rate'])\n",
    "#     results_dict['base_estimator'].append(params['base_estimator'])\n",
    "#     results_dict['mean_test_score'].append(grid_search.cv_results_['mean_test_score'][i])\n",
    "    \n",
    "\n",
    "# # Create a DataFrame from the extracted information\n",
    "# results_df_AB = pd.DataFrame(results_dict)\n",
    "\n",
    "# results_df_AB.info()"
   ]
  },
  {
   "cell_type": "code",
   "execution_count": 275,
   "metadata": {},
   "outputs": [],
   "source": [
    "# results_df_AB['base_estimator'] =results_df_AB['base_estimator'].astype(str).map(base_estimator_dict)\n",
    "# results_df_AB"
   ]
  },
  {
   "cell_type": "code",
   "execution_count": 276,
   "metadata": {},
   "outputs": [],
   "source": [
    "# pd.pivot_table(results_df_AB, values='mean_test_score', index=['n_estimators','learning_rate'], columns='base_estimator', aggfunc=np.mean)"
   ]
  },
  {
   "cell_type": "code",
   "execution_count": 277,
   "metadata": {
    "scrolled": true
   },
   "outputs": [],
   "source": [
    "# %%time\n",
    "\n",
    "# train_x,test_x,train_y,test_y = train_test_split(X,y,random_state=1,stratify=y,test_size=0.3,train_size=0.7)\n",
    "# clf = AdaBoostClassifier()\n",
    "# grid = dict()\n",
    "# base_estimator = [DecisionTreeClassifier(max_depth=1)]\n",
    "# base_estimator_dict = {}\n",
    "# for i in range(1,6,1):\n",
    "#   base_estimator.append(DecisionTreeClassifier(max_depth=i))\n",
    "#   base_estimator_dict['DecisionTreeClassifier(max_depth='+ str(i)+')'] = i   \n",
    "    \n",
    "# grid['n_estimators'] = range(1,11,1)\n",
    "# grid['learning_rate'] = np.arange(0.01,0.3,0.01)\n",
    "# grid['base_estimator']= base_estimator\n",
    "\n",
    "# cv=StratifiedKFold(n_splits=10)\n",
    "# grid_search = GridSearchCV(estimator=clf, param_grid=grid, n_jobs=-1, cv=cv, scoring='f1')\n",
    "# grid_result = grid_search.fit(train_x,train_y)\n",
    "\n",
    "\n",
    "# print(\"Best: %f using %s\" % (grid_result.best_score_, grid_result.best_params_))\n",
    "# grid_result.best_params_"
   ]
  },
  {
   "cell_type": "code",
   "execution_count": 278,
   "metadata": {},
   "outputs": [],
   "source": [
    "# # Extract the relevant information from cv_results_\n",
    "# results_dict = {'n_estimators': [], 'learning_rate': [],'base_estimator': [], 'mean_test_score': []}\n",
    "\n",
    "# for i, params in enumerate(grid_search.cv_results_['params']):\n",
    "#     results_dict['n_estimators'].append(params['n_estimators'])\n",
    "#     results_dict['learning_rate'].append(params['learning_rate'])\n",
    "#     results_dict['base_estimator'].append(params['base_estimator'])\n",
    "#     results_dict['mean_test_score'].append(grid_search.cv_results_['mean_test_score'][i])\n",
    "    \n",
    "\n",
    "# # Create a DataFrame from the extracted information\n",
    "# results_df_AB = pd.DataFrame(results_dict)\n",
    "\n",
    "# results_df_AB['base_estimator'] =results_df_AB['base_estimator'].astype(str).map(base_estimator_dict)\n",
    "# results_df_AB"
   ]
  },
  {
   "cell_type": "code",
   "execution_count": 279,
   "metadata": {},
   "outputs": [],
   "source": [
    "i = 12428"
   ]
  },
  {
   "cell_type": "code",
   "execution_count": 280,
   "metadata": {
    "id": "pKxa7JSqzK57"
   },
   "outputs": [
    {
     "data": {
      "text/plain": [
       "array([[168,  20],\n",
       "       [ 12,  54]], dtype=int64)"
      ]
     },
     "execution_count": 280,
     "metadata": {},
     "output_type": "execute_result"
    }
   ],
   "source": [
    "Acc_AB_tuned=[]\n",
    "F1_AB_tuned=[]\n",
    "grid_result= {'base_estimator': DecisionTreeClassifier(max_depth=2),'learning_rate': 0.23,\n",
    "                            'n_estimators': 8}\n",
    "# for i in range(1,1000):\n",
    "train_x,test_x,train_y,test_y = train_test_split(X_mod,y,random_state=i,stratify=y,test_size=0.3,train_size=0.7)\n",
    "#   ab_clf = AdaBoostClassifier(base_estimator = grid_result.best_params_['base_estimator'],learning_rate = grid_result.best_params_['learning_rate'],n_estimators =grid_result.best_params_['n_estimators'])\n",
    "ab_clf = AdaBoostClassifier(base_estimator = grid_result['base_estimator'],learning_rate = grid_result['learning_rate'],n_estimators =grid_result['n_estimators'])\n",
    "model = ab_clf.fit(train_x,train_y)\n",
    "y_pred = model.predict(test_x)\n",
    "y_pred_proba = model.predict_proba(test_x)\n",
    "Accuracy = metrics.accuracy_score(test_y,y_pred)\n",
    "F1_score = metrics.f1_score(test_y,y_pred)\n",
    "Acc_AB_tuned.append(Accuracy)\n",
    "F1_AB_tuned.append(F1_score)\n",
    "\n",
    "confusion_matrix_tuned = metrics.confusion_matrix(test_y,y_pred)\n",
    "confusion_matrix_tuned"
   ]
  },
  {
   "cell_type": "code",
   "execution_count": 281,
   "metadata": {},
   "outputs": [],
   "source": [
    "# # Add a new column to the DataFrame with the probabilities(AdaBoost)\n",
    "# fraud_prob = model.predict_proba(X_mod)\n",
    "# fraud_prob_act = model.predict_proba(X_act)\n",
    "# df_model['fraud_prob'] = pd.Series(fraud_prob[:, 1], index=df_model.index)\n",
    "# df_actual['fraud_prob'] = pd.Series(fraud_prob_act[:, 1], index=df_actual.index)\n",
    "# # Save the updated DataFrame as a new CSV file\n",
    "# df_model.to_csv('insurance_claims_with_probs(846)(AdaBoost).csv', index=False)\n",
    "# df_actual.to_csv('insurance_claims_with_probs(154)(AdaBoost).csv', index=False)"
   ]
  },
  {
   "cell_type": "code",
   "execution_count": 282,
   "metadata": {
    "colab": {
     "base_uri": "https://localhost:8080/",
     "height": 282
    },
    "id": "vq6qJdtr2JUH",
    "outputId": "35cd19ab-a738-49a5-d90a-fde43e431383",
    "scrolled": true
   },
   "outputs": [],
   "source": [
    "# sns.histplot(data=Acc_AB_tuned)"
   ]
  },
  {
   "cell_type": "code",
   "execution_count": 283,
   "metadata": {
    "colab": {
     "base_uri": "https://localhost:8080/",
     "height": 282
    },
    "id": "cp-lwO9U2LQp",
    "outputId": "9124ec5b-2ab7-46e8-b06f-ef9e10b792c6",
    "scrolled": true
   },
   "outputs": [],
   "source": [
    "# sns.histplot(data=F1_AB_tuned)"
   ]
  },
  {
   "cell_type": "code",
   "execution_count": 284,
   "metadata": {
    "colab": {
     "base_uri": "https://localhost:8080/",
     "height": 300
    },
    "id": "VEYvphKU42cH",
    "outputId": "0e368b4a-2989-474c-f66e-78fb31756309"
   },
   "outputs": [],
   "source": [
    "# AB_columns = [Acc_AB,Acc_AB_tuned,F1_AB,F1_AB_tuned]\n",
    "# AB = pd.DataFrame(AB_columns).transpose()\n",
    "# AB.columns = ['Acc_AB','Acc_AB_tuned','F1_AB','F1_AB_tuned']\n",
    "# AB.describe()"
   ]
  },
  {
   "cell_type": "markdown",
   "metadata": {
    "id": "1IUiXJjJYhsM"
   },
   "source": [
    "Confusion Matrix AdaBoost\n"
   ]
  },
  {
   "cell_type": "code",
   "execution_count": 285,
   "metadata": {
    "colab": {
     "base_uri": "https://localhost:8080/"
    },
    "id": "OqDiKI02YfD0",
    "outputId": "e2ce61cf-cb33-416c-cbbb-365894f9f3f5"
   },
   "outputs": [],
   "source": [
    "# confusion_matrix = metrics.confusion_matrix(test_y,y_pred)\n",
    "# Accuracy = metrics.accuracy_score(test_y,y_pred)\n",
    "# Precision = metrics.precision_score(test_y,y_pred)\n",
    "# Sensitivity_recall = metrics.recall_score(test_y,y_pred)\n",
    "# Specificity = metrics.recall_score(test_y,y_pred,pos_label=0)\n",
    "# F1_score = metrics.f1_score(test_y,y_pred)\n",
    "# print('Accuracy:', Accuracy)\n",
    "# print('Precision:', Precision)\n",
    "# print('Sensitivity:', Sensitivity_recall)\n",
    "# print('Specificity:', Specificity)\n",
    "# print('F1-score:', F1_score)\n",
    "# confusion_matrix\n",
    "\n"
   ]
  },
  {
   "cell_type": "markdown",
   "metadata": {
    "id": "Io2Xa_2GkY4U"
   },
   "source": [
    "# Modelling GBDT"
   ]
  },
  {
   "cell_type": "code",
   "execution_count": 286,
   "metadata": {
    "id": "PceoyiJOkOXH"
   },
   "outputs": [],
   "source": [
    "#Importing GBDT Classifier\n",
    "from sklearn.ensemble import GradientBoostingClassifier"
   ]
  },
  {
   "cell_type": "code",
   "execution_count": 287,
   "metadata": {
    "id": "_92NSlLylUOb"
   },
   "outputs": [],
   "source": [
    "# Acc_GBDT=[]\n",
    "# F1_GBDT=[]\n",
    "# for i in range(1,1000):\n",
    "#   train_x,test_x,train_y,test_y = train_test_split(X_mod,y,random_state=i,stratify=y,test_size=0.3,train_size=0.7)\n",
    "#   gbdt_clf = GradientBoostingClassifier()\n",
    "#   model = gbdt_clf.fit(train_x,train_y)\n",
    "#   y_pred = model.predict(test_x)\n",
    "#   y_pred_proba = model.predict_proba(test_x)\n",
    "#   Accuracy = metrics.accuracy_score(test_y,y_pred)\n",
    "#   F1_score = metrics.f1_score(test_y,y_pred)\n",
    "#   Acc_GBDT.append(Accuracy)\n",
    "#   F1_GBDT.append(F1_score)\n",
    "\n",
    "# confusion_matrix = metrics.confusion_matrix(test_y,y_pred)\n",
    "# confusion_matrix"
   ]
  },
  {
   "cell_type": "code",
   "execution_count": 288,
   "metadata": {
    "colab": {
     "base_uri": "https://localhost:8080/",
     "height": 282
    },
    "id": "CZyk-PWPmN4Z",
    "outputId": "fa8730ad-7157-41ec-f376-5808b9b6c286"
   },
   "outputs": [],
   "source": [
    "# sns.histplot(data=Acc_GBDT)"
   ]
  },
  {
   "cell_type": "code",
   "execution_count": 289,
   "metadata": {
    "colab": {
     "base_uri": "https://localhost:8080/",
     "height": 282
    },
    "id": "Nv62rCipmRnx",
    "outputId": "480dbd8a-33c5-459a-f8eb-3e67678f0667"
   },
   "outputs": [],
   "source": [
    "# sns.histplot(data=F1_GBDT)"
   ]
  },
  {
   "cell_type": "markdown",
   "metadata": {
    "id": "PQ5Vci5ragGN"
   },
   "source": [
    "Hyperparameter Tuning GBDT"
   ]
  },
  {
   "cell_type": "code",
   "execution_count": 290,
   "metadata": {
    "colab": {
     "base_uri": "https://localhost:8080/"
    },
    "id": "_JF0ZAhjLIvu",
    "outputId": "9af24b52-bc08-40a0-9c90-38017cc0aac0",
    "scrolled": false
   },
   "outputs": [],
   "source": [
    "# %%time\n",
    "\n",
    "# train_x,test_x,train_y,test_y = train_test_split(X,y,random_state=1,stratify=y,test_size=0.3,train_size=0.7)\n",
    "# gbdt_clf = GradientBoostingClassifier()\n",
    "# grid = dict()   \n",
    "    \n",
    "# grid['n_estimators'] = range(1,1000,100)\n",
    "# grid['learning_rate'] = [0.1, 0.01, 0.05]\n",
    "# grid['max_depth']= range(1,100,10)\n",
    "# cv=StratifiedKFold(n_splits=10)\n",
    "# grid_search = GridSearchCV(estimator=clf, param_grid=grid, n_jobs=-1, cv=cv, scoring='f1')\n",
    "# grid_result = grid_search.fit(train_x,train_y)\n",
    "\n",
    "\n",
    "# print(\"Best: %f using %s\" % (grid_result.best_score_, grid_result.best_params_))\n",
    "# grid_result.best_params_"
   ]
  },
  {
   "cell_type": "code",
   "execution_count": 291,
   "metadata": {},
   "outputs": [],
   "source": [
    "# # Extract the relevant information from cv_results_\n",
    "# results_dict = {'n_estimators': [], 'learning_rate': [],'max_depth': [], 'mean_test_score': []}\n",
    "\n",
    "# for i, params in enumerate(grid_search.cv_results_['params']):\n",
    "#     results_dict['n_estimators'].append(params['n_estimators'])\n",
    "#     results_dict['learning_rate'].append(params['learning_rate'])\n",
    "#     results_dict['max_depth'].append(params['max_depth'])\n",
    "#     results_dict['mean_test_score'].append(grid_search.cv_results_['mean_test_score'][i])\n",
    "    \n",
    "\n",
    "# # Create a DataFrame from the extracted information\n",
    "# results_df_GBDT = pd.DataFrame(results_dict)\n",
    "\n",
    "# results_df_GBDT.info()"
   ]
  },
  {
   "cell_type": "code",
   "execution_count": 292,
   "metadata": {},
   "outputs": [],
   "source": [
    "# pd.pivot_table(results_df_GBDT, values='mean_test_score', index=['n_estimators','learning_rate'], columns='max_depth', aggfunc=np.mean)"
   ]
  },
  {
   "cell_type": "code",
   "execution_count": 293,
   "metadata": {
    "scrolled": true
   },
   "outputs": [],
   "source": [
    "# %%time\n",
    "\n",
    "# train_x,test_x,train_y,test_y = train_test_split(X,y,random_state=1,stratify=y,test_size=0.3,train_size=0.7)\n",
    "# clf = GradientBoostingClassifier()\n",
    "# grid = dict()   \n",
    "    \n",
    "# grid['n_estimators'] = range(470,480,1)\n",
    "# grid['learning_rate'] = np.arange(0.01,0.51,0.01)\n",
    "# grid['max_depth']= range(1,11,1)\n",
    "# cv=StratifiedKFold(n_splits=10)\n",
    "# grid_search = GridSearchCV(estimator=clf, param_grid=grid, n_jobs=-1, cv=cv, scoring='f1')\n",
    "# grid_result = grid_search.fit(train_x,train_y)\n",
    "\n",
    "\n",
    "# print(\"Best: %f using %s\" % (grid_result.best_score_, grid_result.best_params_))\n",
    "# grid_result.best_params_"
   ]
  },
  {
   "cell_type": "code",
   "execution_count": 294,
   "metadata": {},
   "outputs": [],
   "source": [
    "# # Extract the relevant information from cv_results_\n",
    "# results_dict = {'n_estimators': [], 'learning_rate': [],'max_depth': [], 'mean_test_score': []}\n",
    "\n",
    "# for i, params in enumerate(grid_search.cv_results_['params']):\n",
    "#     results_dict['n_estimators'].append(params['n_estimators'])\n",
    "#     results_dict['learning_rate'].append(params['learning_rate'])\n",
    "#     results_dict['max_depth'].append(params['max_depth'])\n",
    "#     results_dict['mean_test_score'].append(grid_search.cv_results_['mean_test_score'][i])\n",
    "    \n",
    "\n",
    "# # Create a DataFrame from the extracted information\n",
    "# results_df_GBDT = pd.DataFrame(results_dict)\n",
    "\n",
    "# results_df_GBDT.info()"
   ]
  },
  {
   "cell_type": "code",
   "execution_count": 295,
   "metadata": {},
   "outputs": [],
   "source": [
    "# pd.pivot_table(results_df_GBDT, values='mean_test_score', index=['n_estimators','learning_rate'], columns='max_depth', aggfunc=np.mean)"
   ]
  },
  {
   "cell_type": "code",
   "execution_count": 296,
   "metadata": {
    "id": "pKxa7JSqzK57"
   },
   "outputs": [
    {
     "data": {
      "text/plain": [
       "array([[168,  20],\n",
       "       [ 10,  56]], dtype=int64)"
      ]
     },
     "execution_count": 296,
     "metadata": {},
     "output_type": "execute_result"
    }
   ],
   "source": [
    "Acc_GBDT_tuned=[]\n",
    "F1_GBDT_tuned=[]\n",
    "grid_result= {'learning_rate': 0.01, 'max_depth': 1, 'n_estimators': 471}\n",
    "# for i in range(1,1000):\n",
    "train_x,test_x,train_y,test_y = train_test_split(X_mod,y,random_state=i,stratify=y,test_size=0.3,train_size=0.7)\n",
    "#   gbdt_clf = GradientBoostingClassifier(max_depth = grid_result.best_params_['max_depth'],learning_rate = grid_result.best_params_['learning_rate'],n_estimators =grid_result.best_params_['n_estimators'])\n",
    "gbdt_clf = GradientBoostingClassifier(max_depth = grid_result['max_depth'],learning_rate = grid_result['learning_rate'],n_estimators =grid_result['n_estimators'])  \n",
    "model = gbdt_clf.fit(train_x,train_y)\n",
    "y_pred = model.predict(test_x)\n",
    "y_pred_proba = model.predict_proba(test_x)\n",
    "Accuracy = metrics.accuracy_score(test_y,y_pred)\n",
    "F1_score = metrics.f1_score(test_y,y_pred)\n",
    "Acc_GBDT_tuned.append(Accuracy)\n",
    "F1_GBDT_tuned.append(F1_score)\n",
    "\n",
    "confusion_matrix_tuned = metrics.confusion_matrix(test_y,y_pred)\n",
    "confusion_matrix_tuned"
   ]
  },
  {
   "cell_type": "code",
   "execution_count": 297,
   "metadata": {},
   "outputs": [],
   "source": [
    "# # Add a new column to the DataFrame with the probabilities(GBDT)\n",
    "# fraud_prob = model.predict_proba(X_mod)\n",
    "# fraud_prob_act = model.predict_proba(X_act)\n",
    "# df_model['fraud_prob'] = pd.Series(fraud_prob[:, 1], index=df_model.index)\n",
    "# df_actual['fraud_prob'] = pd.Series(fraud_prob_act[:, 1], index=df_actual.index)\n",
    "# # Save the updated DataFrame as a new CSV file\n",
    "# df_model.to_csv('insurance_claims_with_probs(846)(GBDT).csv', index=False)\n",
    "# df_actual.to_csv('insurance_claims_with_probs(154)(GBDT).csv', index=False)"
   ]
  },
  {
   "cell_type": "code",
   "execution_count": 298,
   "metadata": {
    "colab": {
     "base_uri": "https://localhost:8080/",
     "height": 282
    },
    "id": "vq6qJdtr2JUH",
    "outputId": "35cd19ab-a738-49a5-d90a-fde43e431383",
    "scrolled": true
   },
   "outputs": [],
   "source": [
    "# sns.histplot(data=Acc_GBDT_tuned)"
   ]
  },
  {
   "cell_type": "code",
   "execution_count": 299,
   "metadata": {
    "colab": {
     "base_uri": "https://localhost:8080/",
     "height": 282
    },
    "id": "cp-lwO9U2LQp",
    "outputId": "9124ec5b-2ab7-46e8-b06f-ef9e10b792c6",
    "scrolled": true
   },
   "outputs": [],
   "source": [
    "# sns.histplot(data=F1_GBDT_tuned)"
   ]
  },
  {
   "cell_type": "code",
   "execution_count": 300,
   "metadata": {
    "colab": {
     "base_uri": "https://localhost:8080/",
     "height": 300
    },
    "id": "VEYvphKU42cH",
    "outputId": "0e368b4a-2989-474c-f66e-78fb31756309"
   },
   "outputs": [],
   "source": [
    "# GBDT_columns = [Acc_GBDT,Acc_GBDT_tuned,F1_GBDT,F1_GBDT_tuned]\n",
    "# GBDT = pd.DataFrame(GBDT_columns).transpose()\n",
    "# GBDT.columns = ['Acc_GBDT','Acc_GBDT_tuned','F1_GBDT','F1_GBDT_tuned']\n",
    "# GBDT.describe()"
   ]
  },
  {
   "cell_type": "markdown",
   "metadata": {
    "id": "YEY7zKpuncpp"
   },
   "source": [
    "Confusion Matrix GBDT"
   ]
  },
  {
   "cell_type": "code",
   "execution_count": 301,
   "metadata": {
    "colab": {
     "base_uri": "https://localhost:8080/"
    },
    "id": "aQcqT1WCnb-7",
    "outputId": "e183ddf4-1def-4cfb-884b-4ca0d84987e5"
   },
   "outputs": [],
   "source": [
    "# confusion_matrix = metrics.confusion_matrix(test_y,y_pred)\n",
    "# Accuracy = metrics.accuracy_score(test_y,y_pred)\n",
    "# Precision = metrics.precision_score(test_y,y_pred)\n",
    "# Sensitivity_recall = metrics.recall_score(test_y,y_pred)\n",
    "# Specificity = metrics.recall_score(test_y,y_pred,pos_label=0)\n",
    "# F1_score = metrics.f1_score(test_y,y_pred)\n",
    "# print('Accuracy:', Accuracy)\n",
    "# print('Precision:', Precision)\n",
    "# print('Sensitivity:', Sensitivity_recall)\n",
    "# print('Specificity:', Specificity)\n",
    "# print('F1-score:', F1_score)\n",
    "# confusion_matrix\n",
    "\n"
   ]
  },
  {
   "cell_type": "markdown",
   "metadata": {
    "id": "MIbzZp96n3oY"
   },
   "source": [
    "# Modelling XGBoost\n"
   ]
  },
  {
   "cell_type": "code",
   "execution_count": 302,
   "metadata": {
    "id": "uRhQG9xyncPo"
   },
   "outputs": [],
   "source": [
    "#Importing XGB Classifier\n",
    "from xgboost import XGBClassifier"
   ]
  },
  {
   "cell_type": "code",
   "execution_count": 303,
   "metadata": {
    "id": "EbfZHqTWyvgi"
   },
   "outputs": [],
   "source": [
    "# Acc_XGB=[]\n",
    "# F1_XGB=[]\n",
    "# for i in range(1,1000):\n",
    "#   train_x,test_x,train_y,test_y = train_test_split(X_mod,y,random_state=i,stratify=y,test_size=0.3,train_size=0.7)\n",
    "#   xgb_clf = XGBClassifier()\n",
    "#   model = xgb_clf.fit(train_x,train_y)\n",
    "#   y_pred = model.predict(test_x)\n",
    "#   y_pred_proba = model.predict_proba(test_x)\n",
    "#   Accuracy = metrics.accuracy_score(test_y,y_pred)\n",
    "#   F1_score = metrics.f1_score(test_y,y_pred)\n",
    "#   Acc_XGB.append(Accuracy)\n",
    "#   F1_XGB.append(F1_score)\n",
    "\n",
    "# confusion_matrix = metrics.confusion_matrix(test_y,y_pred)\n",
    "# confusion_matrix"
   ]
  },
  {
   "cell_type": "code",
   "execution_count": 304,
   "metadata": {
    "colab": {
     "base_uri": "https://localhost:8080/",
     "height": 282
    },
    "id": "Vejts8Smy9Z8",
    "outputId": "d97b1bdc-d4ce-411e-f764-2a44ff76ee2b"
   },
   "outputs": [],
   "source": [
    "# sns.histplot(data=Acc_XGB)"
   ]
  },
  {
   "cell_type": "code",
   "execution_count": 305,
   "metadata": {
    "colab": {
     "base_uri": "https://localhost:8080/",
     "height": 282
    },
    "id": "r2DcgzHfzATf",
    "outputId": "75e56d08-5775-446c-ab40-7dfa92ccaae7"
   },
   "outputs": [],
   "source": [
    "# sns.histplot(data=F1_XGB)"
   ]
  },
  {
   "cell_type": "markdown",
   "metadata": {
    "id": "PQ5Vci5ragGN"
   },
   "source": [
    "Hyperparameter Tuning XGBoost"
   ]
  },
  {
   "cell_type": "code",
   "execution_count": 306,
   "metadata": {
    "colab": {
     "base_uri": "https://localhost:8080/"
    },
    "id": "_JF0ZAhjLIvu",
    "outputId": "9af24b52-bc08-40a0-9c90-38017cc0aac0",
    "scrolled": false
   },
   "outputs": [],
   "source": [
    "# %%time\n",
    "\n",
    "# train_x,test_x,train_y,test_y = train_test_split(X,y,random_state=1,stratify=y,test_size=0.3,train_size=0.7)\n",
    "# xgb_clf = XGBClassifier()\n",
    "# grid = dict()   \n",
    "    \n",
    "# grid['n_estimators'] = range(1,1000,100)\n",
    "# grid['learning_rate'] = [0.1, 0.01, 0.05]\n",
    "# grid['max_depth']= range(1,100,10)\n",
    "# cv=StratifiedKFold(n_splits=10)\n",
    "# grid_search = GridSearchCV(estimator=clf, param_grid=grid, n_jobs=-1, cv=cv, scoring='f1')\n",
    "# grid_result = grid_search.fit(train_x,train_y)\n",
    "\n",
    "\n",
    "# print(\"Best: %f using %s\" % (grid_result.best_score_, grid_result.best_params_))\n",
    "# grid_result.best_params_"
   ]
  },
  {
   "cell_type": "code",
   "execution_count": 307,
   "metadata": {},
   "outputs": [],
   "source": [
    "# # Extract the relevant information from cv_results_\n",
    "# results_dict = {'n_estimators': [], 'learning_rate': [],'max_depth': [], 'mean_test_score': []}\n",
    "\n",
    "# for i, params in enumerate(grid_search.cv_results_['params']):\n",
    "#     results_dict['n_estimators'].append(params['n_estimators'])\n",
    "#     results_dict['learning_rate'].append(params['learning_rate'])\n",
    "#     results_dict['max_depth'].append(params['max_depth'])\n",
    "#     results_dict['mean_test_score'].append(grid_search.cv_results_['mean_test_score'][i])\n",
    "    \n",
    "\n",
    "# # Create a DataFrame from the extracted information\n",
    "# results_df_XGB = pd.DataFrame(results_dict)\n",
    "\n",
    "# results_df_XGB.info()"
   ]
  },
  {
   "cell_type": "code",
   "execution_count": 308,
   "metadata": {},
   "outputs": [],
   "source": [
    "# pd.pivot_table(results_df_XGB, values='mean_test_score', index=['n_estimators','learning_rate'], columns='max_depth', aggfunc=np.mean)"
   ]
  },
  {
   "cell_type": "code",
   "execution_count": 309,
   "metadata": {
    "scrolled": true
   },
   "outputs": [],
   "source": [
    "# %%time\n",
    "\n",
    "# train_x,test_x,train_y,test_y = train_test_split(X,y,random_state=1,stratify=y,test_size=0.3,train_size=0.7)\n",
    "# clf = XGBClassifier()\n",
    "# grid = dict()   \n",
    "    \n",
    "# grid['n_estimators'] = range(525,531,1)\n",
    "# grid['learning_rate'] = np.arange(0.01,0.51,0.01)\n",
    "# grid['max_depth']= range(1,6,1)\n",
    "# cv=StratifiedKFold(n_splits=10)\n",
    "# grid_search = GridSearchCV(estimator=clf, param_grid=grid, n_jobs=-1, cv=cv, scoring='f1')\n",
    "# grid_result = grid_search.fit(train_x,train_y)\n",
    "\n",
    "\n",
    "# print(\"Best: %f using %s\" % (grid_result.best_score_, grid_result.best_params_))\n",
    "# grid_result.best_params_"
   ]
  },
  {
   "cell_type": "code",
   "execution_count": 310,
   "metadata": {},
   "outputs": [],
   "source": [
    "# # Extract the relevant information from cv_results_\n",
    "# results_dict = {'n_estimators': [], 'learning_rate': [],'max_depth': [], 'mean_test_score': []}\n",
    "\n",
    "# for i, params in enumerate(grid_search.cv_results_['params']):\n",
    "#     results_dict['n_estimators'].append(params['n_estimators'])\n",
    "#     results_dict['learning_rate'].append(params['learning_rate'])\n",
    "#     results_dict['max_depth'].append(params['max_depth'])\n",
    "#     results_dict['mean_test_score'].append(grid_search.cv_results_['mean_test_score'][i])\n",
    "    \n",
    "\n",
    "# # Create a DataFrame from the extracted information\n",
    "# results_df_XGB = pd.DataFrame(results_dict)\n",
    "\n",
    "# results_df_XGB.info()"
   ]
  },
  {
   "cell_type": "code",
   "execution_count": 311,
   "metadata": {
    "scrolled": true
   },
   "outputs": [],
   "source": [
    "# pd.pivot_table(results_df_XGB, values='mean_test_score', index=['n_estimators','learning_rate'], columns='max_depth', aggfunc=np.mean)"
   ]
  },
  {
   "cell_type": "code",
   "execution_count": 312,
   "metadata": {
    "id": "pKxa7JSqzK57"
   },
   "outputs": [
    {
     "data": {
      "text/plain": [
       "array([[168,  20],\n",
       "       [ 10,  56]], dtype=int64)"
      ]
     },
     "execution_count": 312,
     "metadata": {},
     "output_type": "execute_result"
    }
   ],
   "source": [
    "Acc_XGB_tuned=[]\n",
    "F1_XGB_tuned=[]\n",
    "grid_result= {'learning_rate': 0.01, 'max_depth': 1, 'n_estimators': 525}\n",
    "# for i in range(1,1000):\n",
    "train_x,test_x,train_y,test_y = train_test_split(X_mod,y,random_state=i,stratify=y,test_size=0.3,train_size=0.7)\n",
    "#   xgb_clf = XGBClassifier(max_depth = grid_result.best_params_['max_depth'],learning_rate = grid_result.best_params_['learning_rate'],n_estimators =grid_result.best_params_['n_estimators'])\n",
    "xgb_clf = XGBClassifier(max_depth = grid_result['max_depth'],learning_rate = grid_result['learning_rate'],n_estimators =grid_result['n_estimators'])\n",
    "model = xgb_clf.fit(train_x,train_y)\n",
    "y_pred = model.predict(test_x)\n",
    "y_pred_proba = model.predict_proba(test_x)\n",
    "Accuracy = metrics.accuracy_score(test_y,y_pred)\n",
    "F1_score = metrics.f1_score(test_y,y_pred)\n",
    "Acc_XGB_tuned.append(Accuracy)\n",
    "F1_XGB_tuned.append(F1_score)\n",
    "\n",
    "confusion_matrix_tuned = metrics.confusion_matrix(test_y,y_pred)\n",
    "confusion_matrix_tuned"
   ]
  },
  {
   "cell_type": "code",
   "execution_count": 313,
   "metadata": {},
   "outputs": [],
   "source": [
    "# # Add a new column to the DataFrame with the probabilities(XGBoost)\n",
    "# fraud_prob = model.predict_proba(X_mod)\n",
    "# fraud_prob_act = model.predict_proba(X_act)\n",
    "# df_model['fraud_prob'] = pd.Series(fraud_prob[:, 1], index=df_model.index)\n",
    "# df_actual['fraud_prob'] = pd.Series(fraud_prob_act[:, 1], index=df_actual.index)\n",
    "# # Save the updated DataFrame as a new CSV file\n",
    "# df_model.to_csv('insurance_claims_with_probs(846)(XGBoost).csv', index=False)\n",
    "# df_actual.to_csv('insurance_claims_with_probs(154)(XGBoost).csv', index=False)"
   ]
  },
  {
   "cell_type": "code",
   "execution_count": 314,
   "metadata": {
    "colab": {
     "base_uri": "https://localhost:8080/",
     "height": 282
    },
    "id": "vq6qJdtr2JUH",
    "outputId": "35cd19ab-a738-49a5-d90a-fde43e431383",
    "scrolled": true
   },
   "outputs": [],
   "source": [
    "# sns.histplot(data=Acc_XGB_tuned)"
   ]
  },
  {
   "cell_type": "code",
   "execution_count": 315,
   "metadata": {
    "colab": {
     "base_uri": "https://localhost:8080/",
     "height": 282
    },
    "id": "cp-lwO9U2LQp",
    "outputId": "9124ec5b-2ab7-46e8-b06f-ef9e10b792c6",
    "scrolled": true
   },
   "outputs": [],
   "source": [
    "# sns.histplot(data=F1_XGB_tuned)"
   ]
  },
  {
   "cell_type": "code",
   "execution_count": 316,
   "metadata": {
    "colab": {
     "base_uri": "https://localhost:8080/",
     "height": 300
    },
    "id": "VEYvphKU42cH",
    "outputId": "0e368b4a-2989-474c-f66e-78fb31756309"
   },
   "outputs": [],
   "source": [
    "# XGB_columns = [Acc_XGB,Acc_XGB_tuned,F1_XGB,F1_XGB_tuned]\n",
    "# XGB = pd.DataFrame(XGB_columns).transpose()\n",
    "# XGB.columns = ['Acc_XGB','Acc_XGB_tuned','F1_XGB','F1_XGB_tuned']\n",
    "# XGB.describe()"
   ]
  },
  {
   "cell_type": "markdown",
   "metadata": {
    "id": "JHA_iGJPzKfp"
   },
   "source": [
    "Confusion Matrix XGB"
   ]
  },
  {
   "cell_type": "code",
   "execution_count": 317,
   "metadata": {
    "colab": {
     "base_uri": "https://localhost:8080/"
    },
    "id": "zNvNHImPzOdj",
    "outputId": "f72ebc28-c635-42e3-dd9a-69258a1a7ac9"
   },
   "outputs": [],
   "source": [
    "# confusion_matrix = metrics.confusion_matrix(test_y,y_pred)\n",
    "# Accuracy = metrics.accuracy_score(test_y,y_pred)\n",
    "# Precision = metrics.precision_score(test_y,y_pred)\n",
    "# Sensitivity_recall = metrics.recall_score(test_y,y_pred)\n",
    "# Specificity = metrics.recall_score(test_y,y_pred,pos_label=0)\n",
    "# F1_score = metrics.f1_score(test_y,y_pred)\n",
    "# print('Accuracy:', Accuracy)\n",
    "# print('Precision:', Precision)\n",
    "# print('Sensitivity:', Sensitivity_recall)\n",
    "# print('Specificity:', Specificity)\n",
    "# print('F1-score:', F1_score)\n",
    "# confusion_matrix\n",
    "\n",
    "\n"
   ]
  },
  {
   "cell_type": "markdown",
   "metadata": {},
   "source": [
    "# Soft Voting Classifier"
   ]
  },
  {
   "cell_type": "code",
   "execution_count": 318,
   "metadata": {},
   "outputs": [],
   "source": [
    "#Importing soft voting classifier\n",
    "from sklearn.ensemble import VotingClassifier"
   ]
  },
  {
   "cell_type": "code",
   "execution_count": 319,
   "metadata": {},
   "outputs": [],
   "source": [
    "# Acc_SV=[]\n",
    "# F1_SV=[]\n",
    "# for i in range(1,1000):\n",
    "#   train_x,test_x,train_y,test_y = train_test_split(X_mod,y,random_state=i,stratify=y,test_size=0.3,train_size=0.7)\n",
    "#   sv_clf = VotingClassifier(estimators=[('AB', ab_clf), ('GBDT', gbdt_clf), ('XGB', xgb_clf)],\n",
    "#            voting='soft',n_jobs=-1)\n",
    "#   model = sv_clf.fit(train_x,train_y)\n",
    "#   y_pred = model.predict(test_x)\n",
    "#   y_pred_proba = model.predict_proba(test_x)\n",
    "#   Accuracy = metrics.accuracy_score(test_y,y_pred)\n",
    "#   F1_score = metrics.f1_score(test_y,y_pred)\n",
    "#   Acc_SV.append(Accuracy)\n",
    "#   F1_SV.append(F1_score)\n",
    "\n",
    "# confusion_matrix = metrics.confusion_matrix(test_y,y_pred)\n",
    "# confusion_matrix"
   ]
  },
  {
   "cell_type": "code",
   "execution_count": 320,
   "metadata": {},
   "outputs": [],
   "source": [
    "# sns.histplot(data=Acc_SV)"
   ]
  },
  {
   "cell_type": "code",
   "execution_count": 321,
   "metadata": {},
   "outputs": [],
   "source": [
    "# sns.histplot(data=F1_SV)"
   ]
  },
  {
   "cell_type": "code",
   "execution_count": 322,
   "metadata": {},
   "outputs": [],
   "source": [
    "# total_weight = 100\n",
    "# weights = []\n",
    "\n",
    "# for i in range(total_weight+1):\n",
    "#     for j in range(total_weight+1):\n",
    "#         for k in range(total_weight+1):\n",
    "#             if i+j+k == total_weight:\n",
    "#                 weights.append([i,j,k])"
   ]
  },
  {
   "cell_type": "code",
   "execution_count": 323,
   "metadata": {},
   "outputs": [],
   "source": [
    "# from sklearn.ensemble import VotingClassifier\n",
    "\n",
    "# train_x,test_x,train_y,test_y = train_test_split(X,y,random_state=1,stratify=y,test_size=0.3,train_size=0.7)\n",
    "# voting_clf = VotingClassifier(\n",
    "#     estimators=[('AB', ab_clf), ('GBDT', gbdt_clf), ('XGB', xgb_clf)],\n",
    "#     voting='soft',n_jobs=-1)\n",
    "# # Define the hyperparameters to tune\n",
    "# grid = {\n",
    "#     'weights': weights\n",
    "# }\n",
    "\n",
    "# cv=StratifiedKFold(n_splits=10)\n",
    "# # Create a GridSearchCV object and fit it on the data\n",
    "# grid_search = GridSearchCV(estimator=voting_clf, param_grid=grid, n_jobs=-1, cv=cv, scoring='f1')\n",
    "# grid_result = grid_search.fit(train_x,train_y)\n",
    "\n",
    "# # Print the best hyperparameters and the corresponding accuracy score\n",
    "# print(\"Best: %f using %s\" % (grid_result.best_score_, grid_result.best_params_))"
   ]
  },
  {
   "cell_type": "code",
   "execution_count": 324,
   "metadata": {},
   "outputs": [
    {
     "data": {
      "text/plain": [
       "array([[168,  20],\n",
       "       [ 12,  54]], dtype=int64)"
      ]
     },
     "execution_count": 324,
     "metadata": {},
     "output_type": "execute_result"
    }
   ],
   "source": [
    "Acc_SV_tuned=[]\n",
    "F1_SV_tuned=[]\n",
    "# for i in range(1,1000):\n",
    "train_x,test_x,train_y,test_y = train_test_split(X_mod,y,random_state=i,stratify=y,test_size=0.3,train_size=0.7)\n",
    "#   sv_clf = VotingClassifier(estimators=[('AB', ab_clf), ('GBDT', gbdt_clf), ('XGB', xgb_clf)],\n",
    "#            voting='soft',weights = grid_result.best_params_['weights'])\n",
    "sv_clf = VotingClassifier(estimators=[('AB', ab_clf), ('GBDT', gbdt_clf), ('XGB', xgb_clf)],\n",
    "       voting='soft',weights = [45, 16, 39])\n",
    "model = sv_clf.fit(train_x,train_y)\n",
    "y_pred = model.predict(test_x)\n",
    "y_pred_proba = model.predict_proba(test_x)\n",
    "Accuracy = metrics.accuracy_score(test_y,y_pred)\n",
    "F1_score = metrics.f1_score(test_y,y_pred)\n",
    "Acc_SV_tuned.append(Accuracy)\n",
    "F1_SV_tuned.append(F1_score)\n",
    "\n",
    "confusion_matrix_tuned = metrics.confusion_matrix(test_y,y_pred)\n",
    "confusion_matrix_tuned"
   ]
  },
  {
   "cell_type": "code",
   "execution_count": 325,
   "metadata": {},
   "outputs": [],
   "source": [
    "# sns.histplot(data=Acc_SV_tuned)"
   ]
  },
  {
   "cell_type": "code",
   "execution_count": 326,
   "metadata": {},
   "outputs": [],
   "source": [
    "# sns.histplot(data=F1_SV_tuned)"
   ]
  },
  {
   "cell_type": "code",
   "execution_count": 327,
   "metadata": {},
   "outputs": [],
   "source": [
    "# SV_columns = [Acc_SV,Acc_SV_tuned,F1_SV,F1_SV_tuned]\n",
    "# SV = pd.DataFrame(SV_columns).transpose()\n",
    "# SV.columns = ['Acc_SV','Acc_SV_tuned','F1_SV','F1_SV_tuned']\n",
    "# SV.describe()"
   ]
  },
  {
   "cell_type": "code",
   "execution_count": 328,
   "metadata": {},
   "outputs": [],
   "source": [
    "fraud_prob = model.predict_proba(X_mod)\n",
    "fraud_class = model.predict(X_mod)\n",
    "\n",
    "fraud_prob_act = model.predict_proba(X_act)\n",
    "fraud_class_act = model.predict(X_act)"
   ]
  },
  {
   "cell_type": "code",
   "execution_count": 329,
   "metadata": {},
   "outputs": [
    {
     "data": {
      "text/plain": [
       "array([[0.46058361, 0.53941639],\n",
       "       [0.89968572, 0.10031427],\n",
       "       [0.39658839, 0.60341161],\n",
       "       ...,\n",
       "       [0.88810719, 0.11189282],\n",
       "       [0.40940489, 0.59059511],\n",
       "       [0.87387535, 0.12612466]])"
      ]
     },
     "execution_count": 329,
     "metadata": {},
     "output_type": "execute_result"
    }
   ],
   "source": [
    "fraud_prob"
   ]
  },
  {
   "cell_type": "code",
   "execution_count": 330,
   "metadata": {},
   "outputs": [
    {
     "name": "stderr",
     "output_type": "stream",
     "text": [
      "C:\\Users\\USER-HP\\AppData\\Local\\Temp\\ipykernel_26132\\2782431666.py:2: SettingWithCopyWarning:\n",
      "\n",
      "\n",
      "A value is trying to be set on a copy of a slice from a DataFrame.\n",
      "Try using .loc[row_indexer,col_indexer] = value instead\n",
      "\n",
      "See the caveats in the documentation: https://pandas.pydata.org/pandas-docs/stable/user_guide/indexing.html#returning-a-view-versus-a-copy\n",
      "\n",
      "C:\\Users\\USER-HP\\AppData\\Local\\Temp\\ipykernel_26132\\2782431666.py:3: SettingWithCopyWarning:\n",
      "\n",
      "\n",
      "A value is trying to be set on a copy of a slice from a DataFrame.\n",
      "Try using .loc[row_indexer,col_indexer] = value instead\n",
      "\n",
      "See the caveats in the documentation: https://pandas.pydata.org/pandas-docs/stable/user_guide/indexing.html#returning-a-view-versus-a-copy\n",
      "\n"
     ]
    }
   ],
   "source": [
    "# Add a new column to the DataFrame with the probabilities\n",
    "df_model['fraud_prob'] = pd.Series(fraud_prob[:, 1], index=df_model.index)\n",
    "df_actual['fraud_prob'] = pd.Series(fraud_prob_act[:, 1], index=df_actual.index)\n",
    "# Save the updated DataFrame as a new CSV file\n",
    "df_model.to_csv('insurance_claims_with_probs(846).csv', index=False)\n",
    "df_actual.to_csv('insurance_claims_with_probs(154).csv', index=False)\n"
   ]
  },
  {
   "cell_type": "code",
   "execution_count": 331,
   "metadata": {},
   "outputs": [
    {
     "name": "stdout",
     "output_type": "stream",
     "text": [
      "Accuracy: 0.8687943262411347\n",
      "Precision: 0.6914893617021277\n",
      "Sensitivity: 0.8904109589041096\n",
      "Specificity: 0.861244019138756\n",
      "F1-score: 0.7784431137724552\n"
     ]
    },
    {
     "data": {
      "text/plain": [
       "array([[540,  87],\n",
       "       [ 24, 195]], dtype=int64)"
      ]
     },
     "execution_count": 331,
     "metadata": {},
     "output_type": "execute_result"
    }
   ],
   "source": [
    "confusion_matrix = metrics.confusion_matrix(y,fraud_class)\n",
    "Accuracy = metrics.accuracy_score(y,fraud_class)\n",
    "Precision = metrics.precision_score(y,fraud_class)\n",
    "Sensitivity_recall = metrics.recall_score(y,fraud_class)\n",
    "Specificity = metrics.recall_score(y,fraud_class,pos_label=0)\n",
    "F1_score = metrics.f1_score(y,fraud_class)\n",
    "print('Accuracy:', Accuracy)\n",
    "print('Precision:', Precision)\n",
    "print('Sensitivity:', Sensitivity_recall)\n",
    "print('Specificity:', Specificity)\n",
    "print('F1-score:', F1_score)\n",
    "confusion_matrix"
   ]
  },
  {
   "cell_type": "code",
   "execution_count": 332,
   "metadata": {},
   "outputs": [
    {
     "name": "stdout",
     "output_type": "stream",
     "text": [
      "Accuracy: 0.7922077922077922\n",
      "Precision: 0.4583333333333333\n",
      "Sensitivity: 0.7857142857142857\n",
      "Specificity: 0.7936507936507936\n",
      "F1-score: 0.5789473684210527\n"
     ]
    },
    {
     "data": {
      "text/plain": [
       "array([[100,  26],\n",
       "       [  6,  22]], dtype=int64)"
      ]
     },
     "execution_count": 332,
     "metadata": {},
     "output_type": "execute_result"
    }
   ],
   "source": [
    "confusion_matrix = metrics.confusion_matrix(y_act,fraud_class_act)\n",
    "Accuracy = metrics.accuracy_score(y_act,fraud_class_act)\n",
    "Precision = metrics.precision_score(y_act,fraud_class_act)\n",
    "Sensitivity_recall = metrics.recall_score(y_act,fraud_class_act)\n",
    "Specificity = metrics.recall_score(y_act,fraud_class_act,pos_label=0)\n",
    "F1_score = metrics.f1_score(y_act,fraud_class_act)\n",
    "print('Accuracy:', Accuracy)\n",
    "print('Precision:', Precision)\n",
    "print('Sensitivity:', Sensitivity_recall)\n",
    "print('Specificity:', Specificity)\n",
    "print('F1-score:', F1_score)\n",
    "confusion_matrix"
   ]
  }
 ],
 "metadata": {
  "accelerator": "GPU",
  "colab": {
   "provenance": []
  },
  "gpuClass": "standard",
  "kernelspec": {
   "display_name": "Python 3 (ipykernel)",
   "language": "python",
   "name": "python3"
  },
  "language_info": {
   "codemirror_mode": {
    "name": "ipython",
    "version": 3
   },
   "file_extension": ".py",
   "mimetype": "text/x-python",
   "name": "python",
   "nbconvert_exporter": "python",
   "pygments_lexer": "ipython3",
   "version": "3.9.13"
  }
 },
 "nbformat": 4,
 "nbformat_minor": 1
}
