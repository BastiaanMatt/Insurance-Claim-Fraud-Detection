{
 "cells": [
  {
   "cell_type": "code",
   "execution_count": 49,
   "id": "ab5223bc",
   "metadata": {},
   "outputs": [],
   "source": [
    "import pandas as pd\n",
    "import numpy as np\n",
    "import seaborn as sns"
   ]
  },
  {
   "cell_type": "code",
   "execution_count": 50,
   "id": "4d0f7d2b",
   "metadata": {},
   "outputs": [],
   "source": [
    "df_mod = pd.read_csv('insurance_claims_with_probs(846).csv')\n",
    "df_act= pd.read_csv('insurance_claims_with_probs(154).csv')"
   ]
  },
  {
   "cell_type": "code",
   "execution_count": 51,
   "id": "50d7d689",
   "metadata": {
    "scrolled": true
   },
   "outputs": [
    {
     "name": "stdout",
     "output_type": "stream",
     "text": [
      "<class 'pandas.core.frame.DataFrame'>\n",
      "RangeIndex: 846 entries, 0 to 845\n",
      "Data columns (total 40 columns):\n",
      " #   Column                       Non-Null Count  Dtype  \n",
      "---  ------                       --------------  -----  \n",
      " 0   months_as_customer           846 non-null    int64  \n",
      " 1   age                          846 non-null    int64  \n",
      " 2   policy_number                846 non-null    int64  \n",
      " 3   policy_bind_date             846 non-null    object \n",
      " 4   policy_state                 846 non-null    object \n",
      " 5   policy_csl                   846 non-null    object \n",
      " 6   policy_deductable            846 non-null    int64  \n",
      " 7   policy_annual_premium        846 non-null    float64\n",
      " 8   umbrella_limit               846 non-null    int64  \n",
      " 9   insured_zip                  846 non-null    int64  \n",
      " 10  insured_sex                  846 non-null    object \n",
      " 11  insured_education_level      846 non-null    object \n",
      " 12  insured_occupation           846 non-null    object \n",
      " 13  insured_hobbies              846 non-null    object \n",
      " 14  insured_relationship         846 non-null    object \n",
      " 15  capital-gains                846 non-null    int64  \n",
      " 16  capital-loss                 846 non-null    int64  \n",
      " 17  incident_date                846 non-null    object \n",
      " 18  incident_type                846 non-null    object \n",
      " 19  collision_type               846 non-null    object \n",
      " 20  incident_severity            846 non-null    object \n",
      " 21  authorities_contacted        846 non-null    object \n",
      " 22  incident_state               846 non-null    object \n",
      " 23  incident_city                846 non-null    object \n",
      " 24  incident_location            846 non-null    object \n",
      " 25  incident_hour_of_the_day     846 non-null    int64  \n",
      " 26  number_of_vehicles_involved  846 non-null    int64  \n",
      " 27  property_damage              846 non-null    object \n",
      " 28  bodily_injuries              846 non-null    int64  \n",
      " 29  witnesses                    846 non-null    int64  \n",
      " 30  police_report_available      846 non-null    object \n",
      " 31  total_claim_amount           846 non-null    int64  \n",
      " 32  injury_claim                 846 non-null    int64  \n",
      " 33  property_claim               846 non-null    int64  \n",
      " 34  vehicle_claim                846 non-null    int64  \n",
      " 35  auto_make                    846 non-null    object \n",
      " 36  auto_model                   846 non-null    object \n",
      " 37  auto_year                    846 non-null    int64  \n",
      " 38  fraud_reported               846 non-null    object \n",
      " 39  fraud_prob                   846 non-null    float64\n",
      "dtypes: float64(2), int64(17), object(21)\n",
      "memory usage: 264.5+ KB\n",
      "<class 'pandas.core.frame.DataFrame'>\n",
      "RangeIndex: 154 entries, 0 to 153\n",
      "Data columns (total 40 columns):\n",
      " #   Column                       Non-Null Count  Dtype  \n",
      "---  ------                       --------------  -----  \n",
      " 0   months_as_customer           154 non-null    int64  \n",
      " 1   age                          154 non-null    int64  \n",
      " 2   policy_number                154 non-null    int64  \n",
      " 3   policy_bind_date             154 non-null    object \n",
      " 4   policy_state                 154 non-null    object \n",
      " 5   policy_csl                   154 non-null    object \n",
      " 6   policy_deductable            154 non-null    int64  \n",
      " 7   policy_annual_premium        154 non-null    float64\n",
      " 8   umbrella_limit               154 non-null    int64  \n",
      " 9   insured_zip                  154 non-null    int64  \n",
      " 10  insured_sex                  154 non-null    object \n",
      " 11  insured_education_level      154 non-null    object \n",
      " 12  insured_occupation           154 non-null    object \n",
      " 13  insured_hobbies              154 non-null    object \n",
      " 14  insured_relationship         154 non-null    object \n",
      " 15  capital-gains                154 non-null    int64  \n",
      " 16  capital-loss                 154 non-null    int64  \n",
      " 17  incident_date                154 non-null    object \n",
      " 18  incident_type                154 non-null    object \n",
      " 19  collision_type               154 non-null    object \n",
      " 20  incident_severity            154 non-null    object \n",
      " 21  authorities_contacted        154 non-null    object \n",
      " 22  incident_state               154 non-null    object \n",
      " 23  incident_city                154 non-null    object \n",
      " 24  incident_location            154 non-null    object \n",
      " 25  incident_hour_of_the_day     154 non-null    int64  \n",
      " 26  number_of_vehicles_involved  154 non-null    int64  \n",
      " 27  property_damage              154 non-null    object \n",
      " 28  bodily_injuries              154 non-null    int64  \n",
      " 29  witnesses                    154 non-null    int64  \n",
      " 30  police_report_available      154 non-null    object \n",
      " 31  total_claim_amount           154 non-null    int64  \n",
      " 32  injury_claim                 154 non-null    int64  \n",
      " 33  property_claim               154 non-null    int64  \n",
      " 34  vehicle_claim                154 non-null    int64  \n",
      " 35  auto_make                    154 non-null    object \n",
      " 36  auto_model                   154 non-null    object \n",
      " 37  auto_year                    154 non-null    int64  \n",
      " 38  fraud_reported               154 non-null    object \n",
      " 39  fraud_prob                   154 non-null    float64\n",
      "dtypes: float64(2), int64(17), object(21)\n",
      "memory usage: 48.2+ KB\n"
     ]
    }
   ],
   "source": [
    "df_mod.info()\n",
    "df_act.info()"
   ]
  },
  {
   "cell_type": "code",
   "execution_count": 52,
   "id": "7bb77684",
   "metadata": {},
   "outputs": [],
   "source": [
    "#hanya mengambil kolom total_claim_amount, fraud_reported, dan fraud_prob\n",
    "df_mod = df_mod[['incident_date','total_claim_amount','fraud_prob']]\n",
    "df_act = df_act[['incident_date','total_claim_amount','fraud_reported','fraud_prob']]\n",
    "\n",
    "#converting fraud_reported into integers\n",
    "df_act['fraud_reported'] = df_act['fraud_reported'].str.replace('Y', '1')\n",
    "df_act['fraud_reported'] = df_act['fraud_reported'].str.replace('N', '0')\n",
    "df_act['fraud_reported'] = df_act['fraud_reported'].astype(int)"
   ]
  },
  {
   "cell_type": "markdown",
   "id": "8acad88b",
   "metadata": {},
   "source": [
    "## Kasus 1: Tanpa Re-asuransi"
   ]
  },
  {
   "cell_type": "code",
   "execution_count": 53,
   "id": "bd8f82ae",
   "metadata": {},
   "outputs": [
    {
     "name": "stdout",
     "output_type": "stream",
     "text": [
      "Total claim amount (non-fraud): 6084090\n",
      "Total claim amount (fraud): 1520240\n",
      "Total claim amount: 7604330\n"
     ]
    },
    {
     "data": {
      "text/plain": [
       "True"
      ]
     },
     "execution_count": 53,
     "metadata": {},
     "output_type": "execute_result"
    }
   ],
   "source": [
    "#A1 = total loss pada klaim non-fraud\n",
    "#A2 = total loss pada klaim fraud\n",
    "#A = total loss\n",
    "A1_df = df_act[df_act['fraud_reported'] == 0]\n",
    "A1= A1_df['total_claim_amount'].sum()\n",
    "\n",
    "A2_df = df_act[df_act['fraud_reported'] == 1]\n",
    "A2= A2_df['total_claim_amount'].sum()\n",
    "\n",
    "A = df_act['total_claim_amount'].sum()\n",
    "\n",
    "print(\"Total claim amount (non-fraud): %d\" %(A1))\n",
    "print(\"Total claim amount (fraud): %d\" %(A2))\n",
    "print(\"Total claim amount: %d\" %(A))\n",
    "\n",
    "A1+A2 == A"
   ]
  },
  {
   "cell_type": "markdown",
   "id": "d6b536a7",
   "metadata": {},
   "source": [
    "## Kasus 2 : Dengan Re-asuransi"
   ]
  },
  {
   "cell_type": "code",
   "execution_count": 54,
   "id": "285a7ff1",
   "metadata": {},
   "outputs": [
    {
     "data": {
      "text/html": [
       "<div>\n",
       "<style scoped>\n",
       "    .dataframe tbody tr th:only-of-type {\n",
       "        vertical-align: middle;\n",
       "    }\n",
       "\n",
       "    .dataframe tbody tr th {\n",
       "        vertical-align: top;\n",
       "    }\n",
       "\n",
       "    .dataframe thead th {\n",
       "        text-align: right;\n",
       "    }\n",
       "</style>\n",
       "<table border=\"1\" class=\"dataframe\">\n",
       "  <thead>\n",
       "    <tr style=\"text-align: right;\">\n",
       "      <th></th>\n",
       "      <th>incident_date</th>\n",
       "      <th>total_claim_amount</th>\n",
       "      <th>fraud_reported</th>\n",
       "      <th>fraud_prob</th>\n",
       "    </tr>\n",
       "  </thead>\n",
       "  <tbody>\n",
       "    <tr>\n",
       "      <th>0</th>\n",
       "      <td>2015-02-22</td>\n",
       "      <td>34650</td>\n",
       "      <td>0</td>\n",
       "      <td>0.128863</td>\n",
       "    </tr>\n",
       "    <tr>\n",
       "      <th>1</th>\n",
       "      <td>2015-02-27</td>\n",
       "      <td>51590</td>\n",
       "      <td>0</td>\n",
       "      <td>0.126125</td>\n",
       "    </tr>\n",
       "    <tr>\n",
       "      <th>2</th>\n",
       "      <td>2015-02-22</td>\n",
       "      <td>52110</td>\n",
       "      <td>0</td>\n",
       "      <td>0.570184</td>\n",
       "    </tr>\n",
       "    <tr>\n",
       "      <th>3</th>\n",
       "      <td>2015-02-22</td>\n",
       "      <td>60400</td>\n",
       "      <td>0</td>\n",
       "      <td>0.575736</td>\n",
       "    </tr>\n",
       "    <tr>\n",
       "      <th>4</th>\n",
       "      <td>2015-02-24</td>\n",
       "      <td>77880</td>\n",
       "      <td>0</td>\n",
       "      <td>0.131942</td>\n",
       "    </tr>\n",
       "    <tr>\n",
       "      <th>...</th>\n",
       "      <td>...</td>\n",
       "      <td>...</td>\n",
       "      <td>...</td>\n",
       "      <td>...</td>\n",
       "    </tr>\n",
       "    <tr>\n",
       "      <th>149</th>\n",
       "      <td>2015-02-26</td>\n",
       "      <td>3440</td>\n",
       "      <td>0</td>\n",
       "      <td>0.103483</td>\n",
       "    </tr>\n",
       "    <tr>\n",
       "      <th>150</th>\n",
       "      <td>2015-02-28</td>\n",
       "      <td>51390</td>\n",
       "      <td>0</td>\n",
       "      <td>0.595890</td>\n",
       "    </tr>\n",
       "    <tr>\n",
       "      <th>151</th>\n",
       "      <td>2015-02-22</td>\n",
       "      <td>87200</td>\n",
       "      <td>0</td>\n",
       "      <td>0.115844</td>\n",
       "    </tr>\n",
       "    <tr>\n",
       "      <th>152</th>\n",
       "      <td>2015-02-26</td>\n",
       "      <td>46980</td>\n",
       "      <td>0</td>\n",
       "      <td>0.556619</td>\n",
       "    </tr>\n",
       "    <tr>\n",
       "      <th>153</th>\n",
       "      <td>2015-02-26</td>\n",
       "      <td>5060</td>\n",
       "      <td>0</td>\n",
       "      <td>0.126125</td>\n",
       "    </tr>\n",
       "  </tbody>\n",
       "</table>\n",
       "<p>154 rows × 4 columns</p>\n",
       "</div>"
      ],
      "text/plain": [
       "    incident_date  total_claim_amount  fraud_reported  fraud_prob\n",
       "0      2015-02-22               34650               0    0.128863\n",
       "1      2015-02-27               51590               0    0.126125\n",
       "2      2015-02-22               52110               0    0.570184\n",
       "3      2015-02-22               60400               0    0.575736\n",
       "4      2015-02-24               77880               0    0.131942\n",
       "..            ...                 ...             ...         ...\n",
       "149    2015-02-26                3440               0    0.103483\n",
       "150    2015-02-28               51390               0    0.595890\n",
       "151    2015-02-22               87200               0    0.115844\n",
       "152    2015-02-26               46980               0    0.556619\n",
       "153    2015-02-26                5060               0    0.126125\n",
       "\n",
       "[154 rows x 4 columns]"
      ]
     },
     "execution_count": 54,
     "metadata": {},
     "output_type": "execute_result"
    }
   ],
   "source": [
    "df_act"
   ]
  },
  {
   "cell_type": "code",
   "execution_count": 55,
   "id": "006d8280",
   "metadata": {},
   "outputs": [
    {
     "name": "stdout",
     "output_type": "stream",
     "text": [
      "Total claim amount (non-fraud): 5322648.307700\n"
     ]
    }
   ],
   "source": [
    "#B1 = total loss pada klaim non-fraud berdasarkan quota-share\n",
    "#B2 = premi re-asuransi terhadap klaim fraud\n",
    "#B = total loss \n",
    "B1 = (df_act['total_claim_amount'] * (1-df_act['fraud_prob'] )).sum()\n",
    "print(\"Total claim amount (non-fraud): %f\" %(B1))"
   ]
  },
  {
   "cell_type": "markdown",
   "id": "469444b8",
   "metadata": {},
   "source": [
    "#### Premi Re-asuransi Fraud ( Quota-share )"
   ]
  },
  {
   "cell_type": "code",
   "execution_count": 56,
   "id": "ac1044dc",
   "metadata": {},
   "outputs": [
    {
     "data": {
      "text/html": [
       "<div>\n",
       "<style scoped>\n",
       "    .dataframe tbody tr th:only-of-type {\n",
       "        vertical-align: middle;\n",
       "    }\n",
       "\n",
       "    .dataframe tbody tr th {\n",
       "        vertical-align: top;\n",
       "    }\n",
       "\n",
       "    .dataframe thead th {\n",
       "        text-align: right;\n",
       "    }\n",
       "</style>\n",
       "<table border=\"1\" class=\"dataframe\">\n",
       "  <thead>\n",
       "    <tr style=\"text-align: right;\">\n",
       "      <th></th>\n",
       "      <th>incident_date</th>\n",
       "      <th>total_claim_amount</th>\n",
       "      <th>fraud_prob</th>\n",
       "    </tr>\n",
       "  </thead>\n",
       "  <tbody>\n",
       "    <tr>\n",
       "      <th>0</th>\n",
       "      <td>2015-01-25</td>\n",
       "      <td>71610</td>\n",
       "      <td>0.539416</td>\n",
       "    </tr>\n",
       "    <tr>\n",
       "      <th>1</th>\n",
       "      <td>2015-01-21</td>\n",
       "      <td>5070</td>\n",
       "      <td>0.100314</td>\n",
       "    </tr>\n",
       "    <tr>\n",
       "      <th>2</th>\n",
       "      <td>2015-01-10</td>\n",
       "      <td>63400</td>\n",
       "      <td>0.603412</td>\n",
       "    </tr>\n",
       "    <tr>\n",
       "      <th>3</th>\n",
       "      <td>2015-02-17</td>\n",
       "      <td>6500</td>\n",
       "      <td>0.119884</td>\n",
       "    </tr>\n",
       "    <tr>\n",
       "      <th>4</th>\n",
       "      <td>2015-01-02</td>\n",
       "      <td>64100</td>\n",
       "      <td>0.567224</td>\n",
       "    </tr>\n",
       "    <tr>\n",
       "      <th>...</th>\n",
       "      <td>...</td>\n",
       "      <td>...</td>\n",
       "      <td>...</td>\n",
       "    </tr>\n",
       "    <tr>\n",
       "      <th>841</th>\n",
       "      <td>2015-01-23</td>\n",
       "      <td>36700</td>\n",
       "      <td>0.547371</td>\n",
       "    </tr>\n",
       "    <tr>\n",
       "      <th>842</th>\n",
       "      <td>2015-02-17</td>\n",
       "      <td>60200</td>\n",
       "      <td>0.124240</td>\n",
       "    </tr>\n",
       "    <tr>\n",
       "      <th>843</th>\n",
       "      <td>2015-01-22</td>\n",
       "      <td>6480</td>\n",
       "      <td>0.111893</td>\n",
       "    </tr>\n",
       "    <tr>\n",
       "      <th>844</th>\n",
       "      <td>2015-01-24</td>\n",
       "      <td>108480</td>\n",
       "      <td>0.590595</td>\n",
       "    </tr>\n",
       "    <tr>\n",
       "      <th>845</th>\n",
       "      <td>2015-01-23</td>\n",
       "      <td>67500</td>\n",
       "      <td>0.126125</td>\n",
       "    </tr>\n",
       "  </tbody>\n",
       "</table>\n",
       "<p>846 rows × 3 columns</p>\n",
       "</div>"
      ],
      "text/plain": [
       "    incident_date  total_claim_amount  fraud_prob\n",
       "0      2015-01-25               71610    0.539416\n",
       "1      2015-01-21                5070    0.100314\n",
       "2      2015-01-10               63400    0.603412\n",
       "3      2015-02-17                6500    0.119884\n",
       "4      2015-01-02               64100    0.567224\n",
       "..            ...                 ...         ...\n",
       "841    2015-01-23               36700    0.547371\n",
       "842    2015-02-17               60200    0.124240\n",
       "843    2015-01-22                6480    0.111893\n",
       "844    2015-01-24              108480    0.590595\n",
       "845    2015-01-23               67500    0.126125\n",
       "\n",
       "[846 rows x 3 columns]"
      ]
     },
     "execution_count": 56,
     "metadata": {},
     "output_type": "execute_result"
    }
   ],
   "source": [
    "df_mod"
   ]
  },
  {
   "cell_type": "code",
   "execution_count": 57,
   "id": "09e001ce",
   "metadata": {},
   "outputs": [],
   "source": [
    "# convert the 'date' column to a datetime format\n",
    "df_mod['incident_date'] = pd.to_datetime(df_mod['incident_date'])\n",
    "df_act['incident_date'] = pd.to_datetime(df_act['incident_date'])\n",
    "# sort the dataframe by date\n",
    "df_mod = df_mod.sort_values('incident_date')\n"
   ]
  },
  {
   "cell_type": "code",
   "execution_count": null,
   "id": "0e9d2def",
   "metadata": {},
   "outputs": [],
   "source": []
  },
  {
   "cell_type": "code",
   "execution_count": 58,
   "id": "d41c44e4",
   "metadata": {},
   "outputs": [
    {
     "name": "stdout",
     "output_type": "stream",
     "text": [
      "Premium harian re-asuransi: 266841.564009\n"
     ]
    }
   ],
   "source": [
    "# #S1,..., Sn Expected Loss harian\n",
    "# premium_df  = df_mod.groupby('incident_date')['total_claim_amount', 'fraud_prob'].apply(lambda x: (x['total_claim_amount'] * x['fraud_prob']).sum())\n",
    "# premium_df = premium_df.rename('Sn').reset_index()\n",
    "\n",
    "# B2 = premium_df['Sn'].sum() / premium_df['incident_date'].nunique() \n",
    "B2 = (df_mod['total_claim_amount'] * df_mod['fraud_prob']).sum() / df_mod['incident_date'].nunique()\n",
    "print(\"Premium harian re-asuransi: %f\" %(B2))\n",
    "#B = total loss = B1 + B2 * berapa lama (hari) polis berjalan\n",
    "B = B1 + B2 * df_act['incident_date'].nunique() "
   ]
  },
  {
   "cell_type": "code",
   "execution_count": 59,
   "id": "77e889f4",
   "metadata": {},
   "outputs": [
    {
     "data": {
      "text/plain": [
       "13608919.764457047"
      ]
     },
     "execution_count": 59,
     "metadata": {},
     "output_type": "execute_result"
    }
   ],
   "source": [
    "(df_mod['total_claim_amount'] * df_mod['fraud_prob']).sum()"
   ]
  },
  {
   "cell_type": "code",
   "execution_count": 60,
   "id": "e1acf983",
   "metadata": {},
   "outputs": [
    {
     "name": "stdout",
     "output_type": "stream",
     "text": [
      "Kasus 1: Tanpa Re-asuransi:\n",
      "Total claim amount (non-fraud): 6084090\n",
      "Total claim amount (fraud): 1520240\n",
      "Total loss Kasus 1: 7604330\n",
      "Kasus 2: Dengan Re-asuransi(Quota-share):\n",
      "Total claim amount (non-fraud): 5322648.307700\n",
      "Premium harian re-asuransi: 266841.564009\n",
      "Total loss Kasus 2: 7724222.383781\n"
     ]
    }
   ],
   "source": [
    "print(\"Kasus 1: Tanpa Re-asuransi:\")\n",
    "print(\"Total claim amount (non-fraud): %d\" %(A1))\n",
    "print(\"Total claim amount (fraud): %d\" %(A2))\n",
    "print(\"Total loss Kasus 1: %d\" %(A))\n",
    "\n",
    "print(\"Kasus 2: Dengan Re-asuransi(Quota-share):\")\n",
    "print(\"Total claim amount (non-fraud): %f\" %(B1))\n",
    "print(\"Premium harian re-asuransi: %f\" %(B2))\n",
    "print(\"Total loss Kasus 2: %f\" %(B))"
   ]
  },
  {
   "cell_type": "markdown",
   "id": "cb0f7685",
   "metadata": {},
   "source": [
    "### Kasus 3: Re-asuransi menggunakan Threshold"
   ]
  },
  {
   "cell_type": "code",
   "execution_count": 61,
   "id": "30b4cc01",
   "metadata": {},
   "outputs": [],
   "source": [
    "# Menerapkan threshold pada kolom fraud_prob\n",
    "# set the threshold\n",
    "threshold = np.arange(0.1,1.1,0.1)\n",
    "Bt_array = []\n",
    "B3_array = []\n",
    "B4_array = []\n",
    "for i in threshold:\n",
    "    # create a new column 'fraud_pred' in the dataframe where values greater than or equal to the threshold are set to 1 and 0 otherwise\n",
    "    df_mod['fraud_pred'] = df_mod['fraud_prob'].apply(lambda x: 1 if x >= i else 0)                                              \n",
    "    df_act['fraud_pred'] = df_act['fraud_prob'].apply(lambda x: 1 if x >= i else 0)\n",
    "    #B3 = total loss pada klaim non-fraud berdasarkan threshold\n",
    "    #B4 = premi re-asuransi terhadap klaim fraud\n",
    "    B3 = (df_act['total_claim_amount'] * (1-df_act['fraud_pred'] )).sum()\n",
    "#     print(\"Total claim amount (non-fraud): %f\" %(B3))\n",
    "    #Premi Reasuransi threshold\n",
    "    B4 = (df_mod['total_claim_amount'] * df_mod['fraud_pred']).sum() / df_mod['incident_date'].nunique()\n",
    "#     print(\"Premium harian re-asuransi: %f\" %(B4))\n",
    "    #Bt = total loss = B3 + B4 * berapa lama (hari) polis berjalan\n",
    "    B_temp = B3 + B4 * df_act['incident_date'].nunique()\n",
    "    B3_array.append(B3)\n",
    "    B4_array.append(B4)\n",
    "    Bt_array.append(B_temp)\n",
    "    \n",
    "    "
   ]
  },
  {
   "cell_type": "code",
   "execution_count": 62,
   "id": "7d57f1c4",
   "metadata": {},
   "outputs": [
    {
     "data": {
      "text/plain": [
       "0"
      ]
     },
     "execution_count": 62,
     "metadata": {},
     "output_type": "execute_result"
    }
   ],
   "source": [
    "(df_mod['total_claim_amount'] * df_mod['fraud_pred']).sum()"
   ]
  },
  {
   "cell_type": "code",
   "execution_count": 63,
   "id": "79a8137a",
   "metadata": {},
   "outputs": [],
   "source": [
    "Bt_columns = [threshold,Bt_array,B3_array,B4_array]\n",
    "Bt = pd.DataFrame(Bt_columns).transpose()\n",
    "Bt.columns = ['Threshold','Total Loss','Loss non-fraud','Loss fraud']"
   ]
  },
  {
   "cell_type": "code",
   "execution_count": 64,
   "id": "d3c34f18",
   "metadata": {},
   "outputs": [
    {
     "data": {
      "text/html": [
       "<div>\n",
       "<style scoped>\n",
       "    .dataframe tbody tr th:only-of-type {\n",
       "        vertical-align: middle;\n",
       "    }\n",
       "\n",
       "    .dataframe tbody tr th {\n",
       "        vertical-align: top;\n",
       "    }\n",
       "\n",
       "    .dataframe thead th {\n",
       "        text-align: right;\n",
       "    }\n",
       "</style>\n",
       "<table border=\"1\" class=\"dataframe\">\n",
       "  <thead>\n",
       "    <tr style=\"text-align: right;\">\n",
       "      <th></th>\n",
       "      <th>Threshold</th>\n",
       "      <th>Total Loss</th>\n",
       "      <th>Loss non-fraud</th>\n",
       "      <th>Loss fraud</th>\n",
       "    </tr>\n",
       "  </thead>\n",
       "  <tbody>\n",
       "    <tr>\n",
       "      <th>0</th>\n",
       "      <td>0.1</td>\n",
       "      <td>7.968990e+06</td>\n",
       "      <td>0.0</td>\n",
       "      <td>885443.333333</td>\n",
       "    </tr>\n",
       "    <tr>\n",
       "      <th>1</th>\n",
       "      <td>0.2</td>\n",
       "      <td>7.799173e+06</td>\n",
       "      <td>4622360.0</td>\n",
       "      <td>352979.215686</td>\n",
       "    </tr>\n",
       "    <tr>\n",
       "      <th>2</th>\n",
       "      <td>0.3</td>\n",
       "      <td>7.799173e+06</td>\n",
       "      <td>4622360.0</td>\n",
       "      <td>352979.215686</td>\n",
       "    </tr>\n",
       "    <tr>\n",
       "      <th>3</th>\n",
       "      <td>0.4</td>\n",
       "      <td>7.851353e+06</td>\n",
       "      <td>4733460.0</td>\n",
       "      <td>346432.549020</td>\n",
       "    </tr>\n",
       "    <tr>\n",
       "      <th>4</th>\n",
       "      <td>0.5</td>\n",
       "      <td>7.851353e+06</td>\n",
       "      <td>4733460.0</td>\n",
       "      <td>346432.549020</td>\n",
       "    </tr>\n",
       "    <tr>\n",
       "      <th>5</th>\n",
       "      <td>0.6</td>\n",
       "      <td>7.390236e+06</td>\n",
       "      <td>6764360.0</td>\n",
       "      <td>69541.764706</td>\n",
       "    </tr>\n",
       "    <tr>\n",
       "      <th>6</th>\n",
       "      <td>0.7</td>\n",
       "      <td>7.612082e+06</td>\n",
       "      <td>7425050.0</td>\n",
       "      <td>20781.372549</td>\n",
       "    </tr>\n",
       "    <tr>\n",
       "      <th>7</th>\n",
       "      <td>0.8</td>\n",
       "      <td>7.559632e+06</td>\n",
       "      <td>7547900.0</td>\n",
       "      <td>1303.529412</td>\n",
       "    </tr>\n",
       "    <tr>\n",
       "      <th>8</th>\n",
       "      <td>0.9</td>\n",
       "      <td>7.604330e+06</td>\n",
       "      <td>7604330.0</td>\n",
       "      <td>0.000000</td>\n",
       "    </tr>\n",
       "    <tr>\n",
       "      <th>9</th>\n",
       "      <td>1.0</td>\n",
       "      <td>7.604330e+06</td>\n",
       "      <td>7604330.0</td>\n",
       "      <td>0.000000</td>\n",
       "    </tr>\n",
       "  </tbody>\n",
       "</table>\n",
       "</div>"
      ],
      "text/plain": [
       "   Threshold    Total Loss  Loss non-fraud     Loss fraud\n",
       "0        0.1  7.968990e+06             0.0  885443.333333\n",
       "1        0.2  7.799173e+06       4622360.0  352979.215686\n",
       "2        0.3  7.799173e+06       4622360.0  352979.215686\n",
       "3        0.4  7.851353e+06       4733460.0  346432.549020\n",
       "4        0.5  7.851353e+06       4733460.0  346432.549020\n",
       "5        0.6  7.390236e+06       6764360.0   69541.764706\n",
       "6        0.7  7.612082e+06       7425050.0   20781.372549\n",
       "7        0.8  7.559632e+06       7547900.0    1303.529412\n",
       "8        0.9  7.604330e+06       7604330.0       0.000000\n",
       "9        1.0  7.604330e+06       7604330.0       0.000000"
      ]
     },
     "execution_count": 64,
     "metadata": {},
     "output_type": "execute_result"
    }
   ],
   "source": [
    "Bt"
   ]
  },
  {
   "cell_type": "markdown",
   "id": "47acd85f",
   "metadata": {},
   "source": [
    "### Kasus 4: Re-asuransi Probabilitas Agregat"
   ]
  },
  {
   "cell_type": "code",
   "execution_count": 65,
   "id": "17aa31ee",
   "metadata": {},
   "outputs": [
    {
     "data": {
      "text/html": [
       "<div>\n",
       "<style scoped>\n",
       "    .dataframe tbody tr th:only-of-type {\n",
       "        vertical-align: middle;\n",
       "    }\n",
       "\n",
       "    .dataframe tbody tr th {\n",
       "        vertical-align: top;\n",
       "    }\n",
       "\n",
       "    .dataframe thead th {\n",
       "        text-align: right;\n",
       "    }\n",
       "</style>\n",
       "<table border=\"1\" class=\"dataframe\">\n",
       "  <thead>\n",
       "    <tr style=\"text-align: right;\">\n",
       "      <th></th>\n",
       "      <th>incident_date</th>\n",
       "      <th>total_claim_amount</th>\n",
       "      <th>fraud_prob</th>\n",
       "      <th>fraud_pred</th>\n",
       "    </tr>\n",
       "  </thead>\n",
       "  <tbody>\n",
       "    <tr>\n",
       "      <th>40</th>\n",
       "      <td>2015-01-01</td>\n",
       "      <td>76600</td>\n",
       "      <td>0.108364</td>\n",
       "      <td>0</td>\n",
       "    </tr>\n",
       "    <tr>\n",
       "      <th>379</th>\n",
       "      <td>2015-01-01</td>\n",
       "      <td>79800</td>\n",
       "      <td>0.586540</td>\n",
       "      <td>0</td>\n",
       "    </tr>\n",
       "    <tr>\n",
       "      <th>34</th>\n",
       "      <td>2015-01-01</td>\n",
       "      <td>97080</td>\n",
       "      <td>0.778601</td>\n",
       "      <td>0</td>\n",
       "    </tr>\n",
       "    <tr>\n",
       "      <th>531</th>\n",
       "      <td>2015-01-01</td>\n",
       "      <td>88220</td>\n",
       "      <td>0.115844</td>\n",
       "      <td>0</td>\n",
       "    </tr>\n",
       "    <tr>\n",
       "      <th>84</th>\n",
       "      <td>2015-01-01</td>\n",
       "      <td>4320</td>\n",
       "      <td>0.130164</td>\n",
       "      <td>0</td>\n",
       "    </tr>\n",
       "    <tr>\n",
       "      <th>...</th>\n",
       "      <td>...</td>\n",
       "      <td>...</td>\n",
       "      <td>...</td>\n",
       "      <td>...</td>\n",
       "    </tr>\n",
       "    <tr>\n",
       "      <th>94</th>\n",
       "      <td>2015-02-20</td>\n",
       "      <td>72820</td>\n",
       "      <td>0.115844</td>\n",
       "      <td>0</td>\n",
       "    </tr>\n",
       "    <tr>\n",
       "      <th>603</th>\n",
       "      <td>2015-02-20</td>\n",
       "      <td>7150</td>\n",
       "      <td>0.104179</td>\n",
       "      <td>0</td>\n",
       "    </tr>\n",
       "    <tr>\n",
       "      <th>535</th>\n",
       "      <td>2015-02-20</td>\n",
       "      <td>54340</td>\n",
       "      <td>0.520389</td>\n",
       "      <td>0</td>\n",
       "    </tr>\n",
       "    <tr>\n",
       "      <th>406</th>\n",
       "      <td>2015-02-20</td>\n",
       "      <td>59070</td>\n",
       "      <td>0.104179</td>\n",
       "      <td>0</td>\n",
       "    </tr>\n",
       "    <tr>\n",
       "      <th>551</th>\n",
       "      <td>2015-02-20</td>\n",
       "      <td>77700</td>\n",
       "      <td>0.103483</td>\n",
       "      <td>0</td>\n",
       "    </tr>\n",
       "  </tbody>\n",
       "</table>\n",
       "<p>846 rows × 4 columns</p>\n",
       "</div>"
      ],
      "text/plain": [
       "    incident_date  total_claim_amount  fraud_prob  fraud_pred\n",
       "40     2015-01-01               76600    0.108364           0\n",
       "379    2015-01-01               79800    0.586540           0\n",
       "34     2015-01-01               97080    0.778601           0\n",
       "531    2015-01-01               88220    0.115844           0\n",
       "84     2015-01-01                4320    0.130164           0\n",
       "..            ...                 ...         ...         ...\n",
       "94     2015-02-20               72820    0.115844           0\n",
       "603    2015-02-20                7150    0.104179           0\n",
       "535    2015-02-20               54340    0.520389           0\n",
       "406    2015-02-20               59070    0.104179           0\n",
       "551    2015-02-20               77700    0.103483           0\n",
       "\n",
       "[846 rows x 4 columns]"
      ]
     },
     "execution_count": 65,
     "metadata": {},
     "output_type": "execute_result"
    }
   ],
   "source": [
    "df_mod"
   ]
  },
  {
   "cell_type": "code",
   "execution_count": 66,
   "id": "e544eb87",
   "metadata": {},
   "outputs": [
    {
     "data": {
      "text/plain": [
       "<AxesSubplot:xlabel='fraud_prob', ylabel='Count'>"
      ]
     },
     "execution_count": 66,
     "metadata": {},
     "output_type": "execute_result"
    },
    {
     "data": {
      "image/png": "[encoded data removed]",
      "text/plain": [
       "<Figure size 640x480 with 1 Axes>"
      ]
     },
     "metadata": {},
     "output_type": "display_data"
    }
   ],
   "source": [
    "sns.histplot(data=df_mod['fraud_prob'])"
   ]
  },
  {
   "cell_type": "code",
   "execution_count": 67,
   "id": "09f396ae",
   "metadata": {},
   "outputs": [
    {
     "data": {
      "text/plain": [
       "<AxesSubplot:xlabel='fraud_prob', ylabel='Count'>"
      ]
     },
     "execution_count": 67,
     "metadata": {},
     "output_type": "execute_result"
    },
    {
     "data": {
      "image/png": "[encoded data removed]",
      "text/plain": [
       "<Figure size 640x480 with 1 Axes>"
      ]
     },
     "metadata": {},
     "output_type": "display_data"
    }
   ],
   "source": [
    "sns.histplot(data=df_act['fraud_prob'])"
   ]
  },
  {
   "cell_type": "code",
   "execution_count": 68,
   "id": "1854dbc0",
   "metadata": {},
   "outputs": [
    {
     "name": "stdout",
     "output_type": "stream",
     "text": [
      "Total claim amount (non-fraud): 3118449.706251\n",
      "Premium harian re-asuransi: 515647.847105\n",
      "Total loss Kasus 4 (mean) : 7759280.330199\n"
     ]
    }
   ],
   "source": [
    "#menggunakan mean\n",
    "prob = 0.4\n",
    "df_mod_prob = df_mod[df_mod['fraud_prob'] > prob]\n",
    "df_act_prob = df_act[df_act['fraud_prob'] > prob]\n",
    "mean_prob_mod = df_mod_prob['fraud_prob'].mean()\n",
    "mean_prob_act = df_act_prob['fraud_prob'].mean()\n",
    "#total loss non fraud\n",
    "B5 = (df_act['total_claim_amount'] * (1-mean_prob_act)).sum()\n",
    "print(\"Total claim amount (non-fraud): %f\" %(B5))\n",
    "#total loss fraud\n",
    "B6 = (df_mod['total_claim_amount'] * mean_prob_mod).sum() / df_mod['incident_date'].nunique()\n",
    "print(\"Premium harian re-asuransi: %f\" %(B6))\n",
    "#B = total loss = B1 + B2 * berapa lama (hari) polis berjalan\n",
    "B7 = B5 + B6 * df_act['incident_date'].nunique() \n",
    "print(\"Total loss Kasus 4 (mean) : %f\" %(B7))"
   ]
  },
  {
   "cell_type": "code",
   "execution_count": 69,
   "id": "5a6ff64d",
   "metadata": {},
   "outputs": [
    {
     "data": {
      "text/plain": [
       "0.5823612056167232"
      ]
     },
     "execution_count": 69,
     "metadata": {},
     "output_type": "execute_result"
    }
   ],
   "source": [
    "mean_prob_mod"
   ]
  },
  {
   "cell_type": "code",
   "execution_count": 70,
   "id": "68218022",
   "metadata": {},
   "outputs": [
    {
     "data": {
      "text/plain": [
       "0.5899113128636649"
      ]
     },
     "execution_count": 70,
     "metadata": {},
     "output_type": "execute_result"
    }
   ],
   "source": [
    "mean_prob_act"
   ]
  },
  {
   "cell_type": "code",
   "execution_count": 71,
   "id": "ef3c5775",
   "metadata": {},
   "outputs": [
    {
     "name": "stdout",
     "output_type": "stream",
     "text": [
      "Total claim amount (non-fraud): 3221210.202527\n",
      "Premium harian re-asuransi: 500299.922242\n",
      "Total loss Kasus 4 (median) : 7723909.502707\n"
     ]
    }
   ],
   "source": [
    "#menggunakan median\n",
    "med_prob_mod = df_mod_prob['fraud_prob'].median()\n",
    "med_prob_act = df_act_prob['fraud_prob'].median()\n",
    "#total loss non fraud\n",
    "B8 = (df_act['total_claim_amount'] * (1-med_prob_act)).sum()\n",
    "print(\"Total claim amount (non-fraud): %f\" %(B8))\n",
    "#total loss fraud\n",
    "B9 = (df_mod['total_claim_amount'] * med_prob_mod).sum() / df_mod['incident_date'].nunique()\n",
    "print(\"Premium harian re-asuransi: %f\" %(B9))\n",
    "#B = total loss = B1 + B2 * berapa lama (hari) polis berjalan\n",
    "B10 = B8 + B9 * df_act['incident_date'].nunique() \n",
    "print(\"Total loss Kasus 4 (median) : %f\" %(B10))"
   ]
  },
  {
   "cell_type": "code",
   "execution_count": 72,
   "id": "9bc0006d",
   "metadata": {},
   "outputs": [
    {
     "name": "stdout",
     "output_type": "stream",
     "text": [
      "Total claim amount (non-fraud): 3422647.175101\n",
      "Premium harian re-asuransi: 477622.650343\n",
      "Total loss Kasus 4 (modus) : 7721251.028190\n"
     ]
    }
   ],
   "source": [
    "#menggunakan modus\n",
    "mod_prob_mod = df_mod_prob['fraud_prob'].mode()[0]\n",
    "mod_prob_act = df_act_prob['fraud_prob'].mode()[0]\n",
    "#total loss non fraud\n",
    "B11 = (df_act['total_claim_amount'] * (1-mod_prob_act)).sum()\n",
    "print(\"Total claim amount (non-fraud): %f\" %(B11))\n",
    "#total loss fraud\n",
    "B12 = (df_mod['total_claim_amount'] * mod_prob_mod).sum() / df_mod['incident_date'].nunique()\n",
    "print(\"Premium harian re-asuransi: %f\" %(B12))\n",
    "#B = total loss = B1 + B2 * berapa lama (hari) polis berjalan\n",
    "B13 = B11 + B12 * df_act['incident_date'].nunique() \n",
    "print(\"Total loss Kasus 4 (modus) : %f\" %(B13))"
   ]
  }
 ],
 "metadata": {
  "kernelspec": {
   "display_name": "Python 3 (ipykernel)",
   "language": "python",
   "name": "python3"
  },
  "language_info": {
   "codemirror_mode": {
    "name": "ipython",
    "version": 3
   },
   "file_extension": ".py",
   "mimetype": "text/x-python",
   "name": "python",
   "nbconvert_exporter": "python",
   "pygments_lexer": "ipython3",
   "version": "3.9.13"
  }
 },
 "nbformat": 4,
 "nbformat_minor": 5
}
